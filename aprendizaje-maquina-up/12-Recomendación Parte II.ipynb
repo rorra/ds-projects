{
 "cells": [
  {
   "cell_type": "markdown",
   "id": "f8722840",
   "metadata": {},
   "source": [
    "## Sistemas de Recomendación - Parte II\n",
    "En esta actividad vamos a desarrollar diferentes algoritmos de recomendación para aprender su implementación en Python utilizando diferentes librerías.\n",
    "\n",
    "Para ello utilizaremos el dataset de MovieLens el cual es una colección de datos ampliamente utilizada en el área de sistemas de recomendación y se centra en la recomendación de películas. Fue creado originalmente por el Grupo de Investigación de Sistemas de Recomendación de GroupLens y ha sido utilizado en investigaciones y competiciones relacionadas con sistemas de recomendación.\n",
    "\n",
    "El dataset de Movielens contiene calificaciones y reseñas de usuarios sobre películas. Los datos incluyen información sobre películas, como su título, género y etiquetas, así como información sobre los usuarios, como su identificación y características demográficas.\n",
    "\n",
    "En general, hay varios tamaños de datasets disponibles, que varían en la cantidad de calificaciones y la cantidad de usuarios y películas incluidas. Los datasets más comunes son el \"Movielens 100k\", el \"Movielens 1M\" y el \"Movielens 10M\", que contienen aproximadamente 100,000, 1 millón y 10 millones de calificaciones, respectivamente.\n",
    "\n",
    "Estos datos son ampliamente utilizados para entrenar y evaluar algoritmos de recomendación, como filtrado colaborativo, filtrado basado en contenido y técnicas de factorización de matrices, con el objetivo de generar recomendaciones personalizadas y precisas para los usuarios en función de sus preferencias históricas y las calificaciones de otras películas.\n",
    "\n",
    "**En esta actividad desarrollaremos dos algoritmos de recomendación vistos en este modulo:**\n",
    "\n",
    "1. Filtrado basado en contenido\n",
    "2. Factorización de Matrices\n",
    "\n",
    "El objetivo es que los alumnos aprendan a desarrollar estas tecnicas de recomendacion en Python."
   ]
  },
  {
   "cell_type": "markdown",
   "id": "33448188",
   "metadata": {},
   "source": [
    "### Filtrado basado en contenido\n",
    "\n",
    "En este ejemplo, utilizaremos el dataset MovieLens 100k, que contiene 100,000 calificaciones de películas proporcionadas por usuarios. Para ello debemos descargar  y descomprimir (en el mismo directorio que esta actividad) el dataset que se encuentra en el sitio de MovieLens bajo el siguiente titulo: [MovieLens 100K Dataset](https://grouplens.org/datasets/movielens/)\n",
    "\n",
    "Para desarrollar el algoritmo de filtrado basado en contenido vamos a utilizar la técnica de TF-IDF para representar el contenido de las películas y luego calculamos la similitud de coseno entre las películas basada en estas representaciones.\n",
    "\n",
    "Primero, vamos a importar todas las librerías necesarias y luego cargamos el dataset (ratings y peliculas)"
   ]
  },
  {
   "cell_type": "code",
   "id": "4402cbf2",
   "metadata": {
    "ExecuteTime": {
     "end_time": "2024-05-31T20:31:38.450536Z",
     "start_time": "2024-05-31T20:31:37.830826Z"
    }
   },
   "source": [
    "import pandas as pd\n",
    "from sklearn.feature_extraction.text import TfidfVectorizer\n",
    "from sklearn.metrics.pairwise import cosine_similarity\n",
    "\n",
    "\n",
    "# Cargar el archivo de calificaciones y películas\n",
    "ratings = pd.read_csv('ml-100k/u.data', sep='\\t', names=['user_id', 'movie_id', 'rating', 'timestamp'])\n",
    "movies = pd.read_csv('ml-100k/u.item', sep='|', names=['movie_id', 'title', 'release_date', 'video_release_date', 'imdb_url',\n",
    "                                                       'unknown', 'action', 'adventure', 'animation', 'children', 'comedy',\n",
    "                                                       'crime', 'documentary', 'drama', 'fantasy', 'film_noir', 'horror',\n",
    "                                                       'musical', 'mystery', 'romance', 'sci_fi', 'thriller', 'war', 'western'],\n",
    "                     encoding='latin-1')"
   ],
   "outputs": [],
   "execution_count": 1
  },
  {
   "cell_type": "code",
   "id": "6248c88c",
   "metadata": {
    "ExecuteTime": {
     "end_time": "2024-05-31T20:31:38.459892Z",
     "start_time": "2024-05-31T20:31:38.451659Z"
    }
   },
   "source": [
    "ratings.head()"
   ],
   "outputs": [
    {
     "data": {
      "text/plain": [
       "   user_id  movie_id  rating  timestamp\n",
       "0      196       242       3  881250949\n",
       "1      186       302       3  891717742\n",
       "2       22       377       1  878887116\n",
       "3      244        51       2  880606923\n",
       "4      166       346       1  886397596"
      ],
      "text/html": [
       "<div>\n",
       "<style scoped>\n",
       "    .dataframe tbody tr th:only-of-type {\n",
       "        vertical-align: middle;\n",
       "    }\n",
       "\n",
       "    .dataframe tbody tr th {\n",
       "        vertical-align: top;\n",
       "    }\n",
       "\n",
       "    .dataframe thead th {\n",
       "        text-align: right;\n",
       "    }\n",
       "</style>\n",
       "<table border=\"1\" class=\"dataframe\">\n",
       "  <thead>\n",
       "    <tr style=\"text-align: right;\">\n",
       "      <th></th>\n",
       "      <th>user_id</th>\n",
       "      <th>movie_id</th>\n",
       "      <th>rating</th>\n",
       "      <th>timestamp</th>\n",
       "    </tr>\n",
       "  </thead>\n",
       "  <tbody>\n",
       "    <tr>\n",
       "      <th>0</th>\n",
       "      <td>196</td>\n",
       "      <td>242</td>\n",
       "      <td>3</td>\n",
       "      <td>881250949</td>\n",
       "    </tr>\n",
       "    <tr>\n",
       "      <th>1</th>\n",
       "      <td>186</td>\n",
       "      <td>302</td>\n",
       "      <td>3</td>\n",
       "      <td>891717742</td>\n",
       "    </tr>\n",
       "    <tr>\n",
       "      <th>2</th>\n",
       "      <td>22</td>\n",
       "      <td>377</td>\n",
       "      <td>1</td>\n",
       "      <td>878887116</td>\n",
       "    </tr>\n",
       "    <tr>\n",
       "      <th>3</th>\n",
       "      <td>244</td>\n",
       "      <td>51</td>\n",
       "      <td>2</td>\n",
       "      <td>880606923</td>\n",
       "    </tr>\n",
       "    <tr>\n",
       "      <th>4</th>\n",
       "      <td>166</td>\n",
       "      <td>346</td>\n",
       "      <td>1</td>\n",
       "      <td>886397596</td>\n",
       "    </tr>\n",
       "  </tbody>\n",
       "</table>\n",
       "</div>"
      ]
     },
     "execution_count": 2,
     "metadata": {},
     "output_type": "execute_result"
    }
   ],
   "execution_count": 2
  },
  {
   "cell_type": "code",
   "id": "43f4bad4",
   "metadata": {
    "ExecuteTime": {
     "end_time": "2024-05-31T20:31:38.470884Z",
     "start_time": "2024-05-31T20:31:38.460628Z"
    }
   },
   "source": [
    "movies.head()"
   ],
   "outputs": [
    {
     "data": {
      "text/plain": [
       "   movie_id              title release_date  video_release_date  \\\n",
       "0         1   Toy Story (1995)  01-Jan-1995                 NaN   \n",
       "1         2   GoldenEye (1995)  01-Jan-1995                 NaN   \n",
       "2         3  Four Rooms (1995)  01-Jan-1995                 NaN   \n",
       "3         4  Get Shorty (1995)  01-Jan-1995                 NaN   \n",
       "4         5     Copycat (1995)  01-Jan-1995                 NaN   \n",
       "\n",
       "                                            imdb_url  unknown  action  \\\n",
       "0  http://us.imdb.com/M/title-exact?Toy%20Story%2...        0       0   \n",
       "1  http://us.imdb.com/M/title-exact?GoldenEye%20(...        0       1   \n",
       "2  http://us.imdb.com/M/title-exact?Four%20Rooms%...        0       0   \n",
       "3  http://us.imdb.com/M/title-exact?Get%20Shorty%...        0       1   \n",
       "4  http://us.imdb.com/M/title-exact?Copycat%20(1995)        0       0   \n",
       "\n",
       "   adventure  animation  children  ...  fantasy  film_noir  horror  musical  \\\n",
       "0          0          1         1  ...        0          0       0        0   \n",
       "1          1          0         0  ...        0          0       0        0   \n",
       "2          0          0         0  ...        0          0       0        0   \n",
       "3          0          0         0  ...        0          0       0        0   \n",
       "4          0          0         0  ...        0          0       0        0   \n",
       "\n",
       "   mystery  romance  sci_fi  thriller  war  western  \n",
       "0        0        0       0         0    0        0  \n",
       "1        0        0       0         1    0        0  \n",
       "2        0        0       0         1    0        0  \n",
       "3        0        0       0         0    0        0  \n",
       "4        0        0       0         1    0        0  \n",
       "\n",
       "[5 rows x 24 columns]"
      ],
      "text/html": [
       "<div>\n",
       "<style scoped>\n",
       "    .dataframe tbody tr th:only-of-type {\n",
       "        vertical-align: middle;\n",
       "    }\n",
       "\n",
       "    .dataframe tbody tr th {\n",
       "        vertical-align: top;\n",
       "    }\n",
       "\n",
       "    .dataframe thead th {\n",
       "        text-align: right;\n",
       "    }\n",
       "</style>\n",
       "<table border=\"1\" class=\"dataframe\">\n",
       "  <thead>\n",
       "    <tr style=\"text-align: right;\">\n",
       "      <th></th>\n",
       "      <th>movie_id</th>\n",
       "      <th>title</th>\n",
       "      <th>release_date</th>\n",
       "      <th>video_release_date</th>\n",
       "      <th>imdb_url</th>\n",
       "      <th>unknown</th>\n",
       "      <th>action</th>\n",
       "      <th>adventure</th>\n",
       "      <th>animation</th>\n",
       "      <th>children</th>\n",
       "      <th>...</th>\n",
       "      <th>fantasy</th>\n",
       "      <th>film_noir</th>\n",
       "      <th>horror</th>\n",
       "      <th>musical</th>\n",
       "      <th>mystery</th>\n",
       "      <th>romance</th>\n",
       "      <th>sci_fi</th>\n",
       "      <th>thriller</th>\n",
       "      <th>war</th>\n",
       "      <th>western</th>\n",
       "    </tr>\n",
       "  </thead>\n",
       "  <tbody>\n",
       "    <tr>\n",
       "      <th>0</th>\n",
       "      <td>1</td>\n",
       "      <td>Toy Story (1995)</td>\n",
       "      <td>01-Jan-1995</td>\n",
       "      <td>NaN</td>\n",
       "      <td>http://us.imdb.com/M/title-exact?Toy%20Story%2...</td>\n",
       "      <td>0</td>\n",
       "      <td>0</td>\n",
       "      <td>0</td>\n",
       "      <td>1</td>\n",
       "      <td>1</td>\n",
       "      <td>...</td>\n",
       "      <td>0</td>\n",
       "      <td>0</td>\n",
       "      <td>0</td>\n",
       "      <td>0</td>\n",
       "      <td>0</td>\n",
       "      <td>0</td>\n",
       "      <td>0</td>\n",
       "      <td>0</td>\n",
       "      <td>0</td>\n",
       "      <td>0</td>\n",
       "    </tr>\n",
       "    <tr>\n",
       "      <th>1</th>\n",
       "      <td>2</td>\n",
       "      <td>GoldenEye (1995)</td>\n",
       "      <td>01-Jan-1995</td>\n",
       "      <td>NaN</td>\n",
       "      <td>http://us.imdb.com/M/title-exact?GoldenEye%20(...</td>\n",
       "      <td>0</td>\n",
       "      <td>1</td>\n",
       "      <td>1</td>\n",
       "      <td>0</td>\n",
       "      <td>0</td>\n",
       "      <td>...</td>\n",
       "      <td>0</td>\n",
       "      <td>0</td>\n",
       "      <td>0</td>\n",
       "      <td>0</td>\n",
       "      <td>0</td>\n",
       "      <td>0</td>\n",
       "      <td>0</td>\n",
       "      <td>1</td>\n",
       "      <td>0</td>\n",
       "      <td>0</td>\n",
       "    </tr>\n",
       "    <tr>\n",
       "      <th>2</th>\n",
       "      <td>3</td>\n",
       "      <td>Four Rooms (1995)</td>\n",
       "      <td>01-Jan-1995</td>\n",
       "      <td>NaN</td>\n",
       "      <td>http://us.imdb.com/M/title-exact?Four%20Rooms%...</td>\n",
       "      <td>0</td>\n",
       "      <td>0</td>\n",
       "      <td>0</td>\n",
       "      <td>0</td>\n",
       "      <td>0</td>\n",
       "      <td>...</td>\n",
       "      <td>0</td>\n",
       "      <td>0</td>\n",
       "      <td>0</td>\n",
       "      <td>0</td>\n",
       "      <td>0</td>\n",
       "      <td>0</td>\n",
       "      <td>0</td>\n",
       "      <td>1</td>\n",
       "      <td>0</td>\n",
       "      <td>0</td>\n",
       "    </tr>\n",
       "    <tr>\n",
       "      <th>3</th>\n",
       "      <td>4</td>\n",
       "      <td>Get Shorty (1995)</td>\n",
       "      <td>01-Jan-1995</td>\n",
       "      <td>NaN</td>\n",
       "      <td>http://us.imdb.com/M/title-exact?Get%20Shorty%...</td>\n",
       "      <td>0</td>\n",
       "      <td>1</td>\n",
       "      <td>0</td>\n",
       "      <td>0</td>\n",
       "      <td>0</td>\n",
       "      <td>...</td>\n",
       "      <td>0</td>\n",
       "      <td>0</td>\n",
       "      <td>0</td>\n",
       "      <td>0</td>\n",
       "      <td>0</td>\n",
       "      <td>0</td>\n",
       "      <td>0</td>\n",
       "      <td>0</td>\n",
       "      <td>0</td>\n",
       "      <td>0</td>\n",
       "    </tr>\n",
       "    <tr>\n",
       "      <th>4</th>\n",
       "      <td>5</td>\n",
       "      <td>Copycat (1995)</td>\n",
       "      <td>01-Jan-1995</td>\n",
       "      <td>NaN</td>\n",
       "      <td>http://us.imdb.com/M/title-exact?Copycat%20(1995)</td>\n",
       "      <td>0</td>\n",
       "      <td>0</td>\n",
       "      <td>0</td>\n",
       "      <td>0</td>\n",
       "      <td>0</td>\n",
       "      <td>...</td>\n",
       "      <td>0</td>\n",
       "      <td>0</td>\n",
       "      <td>0</td>\n",
       "      <td>0</td>\n",
       "      <td>0</td>\n",
       "      <td>0</td>\n",
       "      <td>0</td>\n",
       "      <td>1</td>\n",
       "      <td>0</td>\n",
       "      <td>0</td>\n",
       "    </tr>\n",
       "  </tbody>\n",
       "</table>\n",
       "<p>5 rows × 24 columns</p>\n",
       "</div>"
      ]
     },
     "execution_count": 3,
     "metadata": {},
     "output_type": "execute_result"
    }
   ],
   "execution_count": 3
  },
  {
   "cell_type": "markdown",
   "id": "9811da50",
   "metadata": {},
   "source": [
    "Para utilizar TF-IDF (Term Frequency-Inverse Document Frequency) en el filtrado basado en contenido con el dataset MovieLens, necesitaremos realizar algunos pasos adicionales para procesar los datos y calcular las características TF-IDF de cada película. \n",
    "\n",
    "En particular, los generos de las peliculas en este dataset estan representados como columnas separadas (dentro del dataset) con valores de 1 y 0 (one-hot encoding). \n",
    "\n",
    "Para usar TF-IDF lo que tenemos que hacer es juntar esta informacion en una única columna que contenga la lista de todos los generos."
   ]
  },
  {
   "cell_type": "code",
   "id": "2e4b0bd0",
   "metadata": {
    "ExecuteTime": {
     "end_time": "2024-05-31T20:31:38.572674Z",
     "start_time": "2024-05-31T20:31:38.472314Z"
    }
   },
   "source": [
    "# Función para obtener los géneros de cada película y combinarlos en una cadena de texto. \n",
    "# Convierte los géneros de one-hot encoding a texto plano\n",
    "def get_genres(row):\n",
    "    genres = []\n",
    "    for column in movies.columns[5:]:\n",
    "        if row[column] == 1:\n",
    "            genres.append(column)\n",
    "    return ' '.join(genres)\n",
    "\n",
    "# Aplica la función para crear la nueva columna 'genres'\n",
    "movies['genres'] = movies.apply(get_genres, axis=1)\n",
    "\n",
    "# Muestra el dataset resultante con la nueva columna 'genres' (eliminamos algunas columnas que no necesitamos)\n",
    "movies = movies[['movie_id', 'title', 'release_date', 'video_release_date', 'imdb_url', 'genres']]\n",
    "movies.head()"
   ],
   "outputs": [
    {
     "data": {
      "text/plain": [
       "   movie_id              title release_date  video_release_date  \\\n",
       "0         1   Toy Story (1995)  01-Jan-1995                 NaN   \n",
       "1         2   GoldenEye (1995)  01-Jan-1995                 NaN   \n",
       "2         3  Four Rooms (1995)  01-Jan-1995                 NaN   \n",
       "3         4  Get Shorty (1995)  01-Jan-1995                 NaN   \n",
       "4         5     Copycat (1995)  01-Jan-1995                 NaN   \n",
       "\n",
       "                                            imdb_url  \\\n",
       "0  http://us.imdb.com/M/title-exact?Toy%20Story%2...   \n",
       "1  http://us.imdb.com/M/title-exact?GoldenEye%20(...   \n",
       "2  http://us.imdb.com/M/title-exact?Four%20Rooms%...   \n",
       "3  http://us.imdb.com/M/title-exact?Get%20Shorty%...   \n",
       "4  http://us.imdb.com/M/title-exact?Copycat%20(1995)   \n",
       "\n",
       "                      genres  \n",
       "0  animation children comedy  \n",
       "1  action adventure thriller  \n",
       "2                   thriller  \n",
       "3        action comedy drama  \n",
       "4       crime drama thriller  "
      ],
      "text/html": [
       "<div>\n",
       "<style scoped>\n",
       "    .dataframe tbody tr th:only-of-type {\n",
       "        vertical-align: middle;\n",
       "    }\n",
       "\n",
       "    .dataframe tbody tr th {\n",
       "        vertical-align: top;\n",
       "    }\n",
       "\n",
       "    .dataframe thead th {\n",
       "        text-align: right;\n",
       "    }\n",
       "</style>\n",
       "<table border=\"1\" class=\"dataframe\">\n",
       "  <thead>\n",
       "    <tr style=\"text-align: right;\">\n",
       "      <th></th>\n",
       "      <th>movie_id</th>\n",
       "      <th>title</th>\n",
       "      <th>release_date</th>\n",
       "      <th>video_release_date</th>\n",
       "      <th>imdb_url</th>\n",
       "      <th>genres</th>\n",
       "    </tr>\n",
       "  </thead>\n",
       "  <tbody>\n",
       "    <tr>\n",
       "      <th>0</th>\n",
       "      <td>1</td>\n",
       "      <td>Toy Story (1995)</td>\n",
       "      <td>01-Jan-1995</td>\n",
       "      <td>NaN</td>\n",
       "      <td>http://us.imdb.com/M/title-exact?Toy%20Story%2...</td>\n",
       "      <td>animation children comedy</td>\n",
       "    </tr>\n",
       "    <tr>\n",
       "      <th>1</th>\n",
       "      <td>2</td>\n",
       "      <td>GoldenEye (1995)</td>\n",
       "      <td>01-Jan-1995</td>\n",
       "      <td>NaN</td>\n",
       "      <td>http://us.imdb.com/M/title-exact?GoldenEye%20(...</td>\n",
       "      <td>action adventure thriller</td>\n",
       "    </tr>\n",
       "    <tr>\n",
       "      <th>2</th>\n",
       "      <td>3</td>\n",
       "      <td>Four Rooms (1995)</td>\n",
       "      <td>01-Jan-1995</td>\n",
       "      <td>NaN</td>\n",
       "      <td>http://us.imdb.com/M/title-exact?Four%20Rooms%...</td>\n",
       "      <td>thriller</td>\n",
       "    </tr>\n",
       "    <tr>\n",
       "      <th>3</th>\n",
       "      <td>4</td>\n",
       "      <td>Get Shorty (1995)</td>\n",
       "      <td>01-Jan-1995</td>\n",
       "      <td>NaN</td>\n",
       "      <td>http://us.imdb.com/M/title-exact?Get%20Shorty%...</td>\n",
       "      <td>action comedy drama</td>\n",
       "    </tr>\n",
       "    <tr>\n",
       "      <th>4</th>\n",
       "      <td>5</td>\n",
       "      <td>Copycat (1995)</td>\n",
       "      <td>01-Jan-1995</td>\n",
       "      <td>NaN</td>\n",
       "      <td>http://us.imdb.com/M/title-exact?Copycat%20(1995)</td>\n",
       "      <td>crime drama thriller</td>\n",
       "    </tr>\n",
       "  </tbody>\n",
       "</table>\n",
       "</div>"
      ]
     },
     "execution_count": 4,
     "metadata": {},
     "output_type": "execute_result"
    }
   ],
   "execution_count": 4
  },
  {
   "cell_type": "markdown",
   "id": "fa6356d7",
   "metadata": {},
   "source": [
    "Aplicamos la tecnica de TF-IDF, con el metodo TfidfVectorizer provisto por Scikit-Learn."
   ]
  },
  {
   "cell_type": "code",
   "id": "0f3b5b69",
   "metadata": {
    "ExecuteTime": {
     "end_time": "2024-05-31T20:31:38.581237Z",
     "start_time": "2024-05-31T20:31:38.573572Z"
    }
   },
   "source": [
    "# Crea el vectorizador TF-IDF\n",
    "tfidf_vectorizer = TfidfVectorizer()\n",
    "\n",
    "# Crea la matriz TF-IDF para los géneros\n",
    "tfidf_matrix = tfidf_vectorizer.fit_transform(movies['genres'])"
   ],
   "outputs": [],
   "execution_count": 5
  },
  {
   "cell_type": "markdown",
   "id": "7c14edc2",
   "metadata": {},
   "source": [
    "Calculamos la similitud del coseno con la ayuda del metodo cosine_similarity de la librería Scikit-Learn"
   ]
  },
  {
   "cell_type": "code",
   "id": "e1ecb33b",
   "metadata": {
    "ExecuteTime": {
     "end_time": "2024-05-31T20:31:38.602762Z",
     "start_time": "2024-05-31T20:31:38.582008Z"
    }
   },
   "source": [
    "# Calcula la similitud de coseno entre todas las películas\n",
    "cosine_sim = cosine_similarity(tfidf_matrix)"
   ],
   "outputs": [],
   "execution_count": 6
  },
  {
   "cell_type": "markdown",
   "id": "d78ce9b5",
   "metadata": {},
   "source": [
    "Creamos un metodo para obtener recomendaciones a partir del titulo de una pelicula (la cual asumimos que un usuario valoró positivamente)"
   ]
  },
  {
   "cell_type": "code",
   "id": "7c48755c",
   "metadata": {
    "ExecuteTime": {
     "end_time": "2024-05-31T20:31:38.608686Z",
     "start_time": "2024-05-31T20:31:38.603683Z"
    }
   },
   "source": [
    "# Función para obtener las películas más similares dado un título\n",
    "def get_recommendations(title, cosine_sim=cosine_sim):\n",
    "    idx = movies.index[movies['title'] == title].tolist()[0]\n",
    "    sim_scores = list(enumerate(cosine_sim[idx]))\n",
    "    sim_scores = sorted(sim_scores, key=lambda x: x[1], reverse=True)\n",
    "    sim_scores = sim_scores[1:11]\n",
    "    movie_indices = [i[0] for i in sim_scores]\n",
    "    return movies['title'].iloc[movie_indices]\n",
    "\n",
    "# Ejemplo de uso\n",
    "movie_title = 'Toy Story (1995)'\n",
    "recommendations = get_recommendations(movie_title)\n",
    "print(f\"Recomendaciones para '{movie_title}':\")\n",
    "print(recommendations)"
   ],
   "outputs": [
    {
     "name": "stdout",
     "output_type": "stream",
     "text": [
      "Recomendaciones para 'Toy Story (1995)':\n",
      "421                Aladdin and the King of Thieves (1996)\n",
      "101                                Aristocats, The (1970)\n",
      "403                                      Pinocchio (1940)\n",
      "624                        Sword in the Stone, The (1963)\n",
      "945                         Fox and the Hound, The (1981)\n",
      "968           Winnie the Pooh and the Blustery Day (1968)\n",
      "1065                                         Balto (1995)\n",
      "1077                              Oliver & Company (1988)\n",
      "1408                            Swan Princess, The (1994)\n",
      "1411    Land Before Time III: The Time of the Great Gi...\n",
      "Name: title, dtype: object\n"
     ]
    }
   ],
   "execution_count": 7
  },
  {
   "cell_type": "markdown",
   "id": "87b4c7f5",
   "metadata": {},
   "source": [
    "Si observamos las recomendaciones generadas son del mismo genero que la pelicula objetivo.\n",
    "\n",
    "**Ejercicio:**\n",
    "La idea es que ahora ustedes creen un algoritmo de filtrado basado en contenido analizando el titulo de la misma (en vez del genero). Es decir, se espera recomendar peliculas cuyo titulo sea similar a los titulos de las peliculas elegidas por el usuario"
   ]
  },
  {
   "cell_type": "code",
   "id": "c0fd54cf",
   "metadata": {
    "ExecuteTime": {
     "end_time": "2024-05-31T20:31:38.638823Z",
     "start_time": "2024-05-31T20:31:38.609699Z"
    }
   },
   "source": [
    "tfidf_vectorizer = TfidfVectorizer()\n",
    "tfidf_matrix = tfidf_vectorizer.fit_transform(movies['title'])\n",
    "cosine_sim = cosine_similarity(tfidf_matrix)\n",
    "\n",
    "# Ejemplo de uso\n",
    "movie_title = 'Toy Story (1995)'\n",
    "recommendations = get_recommendations(movie_title)\n",
    "print(f\"Recomendaciones para '{movie_title}':\")\n",
    "print(recommendations)"
   ],
   "outputs": [
    {
     "name": "stdout",
     "output_type": "stream",
     "text": [
      "Recomendaciones para 'Toy Story (1995)':\n",
      "421                Aladdin and the King of Thieves (1996)\n",
      "101                                Aristocats, The (1970)\n",
      "403                                      Pinocchio (1940)\n",
      "624                        Sword in the Stone, The (1963)\n",
      "945                         Fox and the Hound, The (1981)\n",
      "968           Winnie the Pooh and the Blustery Day (1968)\n",
      "1065                                         Balto (1995)\n",
      "1077                              Oliver & Company (1988)\n",
      "1408                            Swan Princess, The (1994)\n",
      "1411    Land Before Time III: The Time of the Great Gi...\n",
      "Name: title, dtype: object\n"
     ]
    }
   ],
   "execution_count": 8
  },
  {
   "cell_type": "markdown",
   "id": "d45ec378",
   "metadata": {},
   "source": [
    "### Factorizacion de matrices\n",
    "\n",
    "A continuación, se presenta un ejemplo de uso de la librería Surprise para generar recomendaciones a partir de la tecnica de Factorización de matrices.\n",
    "\n",
    "La idea es que simplemente analicen el ejemplo paso por paso para entender como funciona este algoritmo.\n",
    "\n",
    "**Nota:** Tener en cuenta que para la ejecución de este código es necesario tener instalada la librería Surprise"
   ]
  },
  {
   "cell_type": "code",
   "id": "f6e0a626",
   "metadata": {
    "ExecuteTime": {
     "end_time": "2024-05-31T20:31:39.481657Z",
     "start_time": "2024-05-31T20:31:38.639704Z"
    }
   },
   "source": [
    "import pandas as pd\n",
    "from surprise import Dataset, Reader\n",
    "from surprise.model_selection import train_test_split\n",
    "from surprise import SVD\n",
    "from surprise import accuracy\n",
    "\n",
    "# Cargar el archivo de calificaciones y películas\n",
    "ratings = pd.read_csv('ml-100k/u.data', sep='\\t', names=['user_id', 'movie_id', 'rating', 'timestamp'])\n",
    "movies = pd.read_csv('ml-100k/u.item', sep='|', names=['movie_id', 'title', 'release_date', 'video_release_date', 'imdb_url',\n",
    "                                                       'unknown', 'action', 'adventure', 'animation', 'children', 'comedy',\n",
    "                                                       'crime', 'documentary', 'drama', 'fantasy', 'film_noir', 'horror',\n",
    "                                                       'musical', 'mystery', 'romance', 'sci_fi', 'thriller', 'war', 'western'],\n",
    "                     encoding='latin-1')\n",
    "\n",
    "# Crear un objeto Reader para parsear los datos\n",
    "reader = Reader(rating_scale=(1, 5))\n",
    "\n",
    "# Cargar los datos en el formato esperado por Surprise\n",
    "data = Dataset.load_from_df(ratings[['user_id', 'movie_id', 'rating']], reader)\n",
    "\n",
    "# Dividir el conjunto de datos en conjuntos de entrenamiento y prueba\n",
    "trainset, testset = train_test_split(data, test_size=0.2)\n",
    "\n",
    "# Crear y entrenar el modelo de factorización de matrices (SVD)\n",
    "model = SVD()\n",
    "model.fit(trainset)\n",
    "\n",
    "# Realizar predicciones en el conjunto de prueba\n",
    "predictions = model.test(testset)\n",
    "\n",
    "# Calcular y mostrar la precisión del modelo\n",
    "accuracy.rmse(predictions)\n",
    "print()\n",
    "\n",
    "# Hacer predicciones para usuarios específicos\n",
    "user_id = 1\n",
    "item_id = 3\n",
    "predicted_rating = model.predict(user_id, item_id).est\n",
    "print(f\"Predicción de la valoración para el usuario {user_id} y el elemento {item_id}: {predicted_rating}\")\n",
    "print()\n",
    "\n",
    "# Obtener las recomendaciones para un usuario específico\n",
    "# (por ejemplo, los elementos con las valoraciones más altas)\n",
    "user_items = data.build_full_trainset().ur\n",
    "user_items_ratings = [(item_rating[0], model.predict(user_id, item_id).est) for item_rating in user_items[user_id]]\n",
    "user_items_ratings.sort(key=lambda x: x[1], reverse=True)\n",
    "\n",
    "top_recommendations = user_items_ratings[:10]\n",
    "\n",
    "print(f\"Las 10 mejores recomendaciones para el usuario {user_id}:\")\n",
    "print()\n",
    "for item_id, rating in top_recommendations:\n",
    "    print(f\"Elemento: {item_id}, Valoración: {rating}\")\n"
   ],
   "outputs": [
    {
     "name": "stdout",
     "output_type": "stream",
     "text": [
      "RMSE: 0.9407\n",
      "\n",
      "Predicción de la valoración para el usuario 1 y el elemento 3: 3.382745250624616\n",
      "\n",
      "Las 10 mejores recomendaciones para el usuario 1:\n",
      "\n",
      "Elemento: 1, Valoración: 3.382745250624616\n",
      "Elemento: 476, Valoración: 3.382745250624616\n",
      "Elemento: 305, Valoración: 3.382745250624616\n",
      "Elemento: 577, Valoración: 3.382745250624616\n",
      "Elemento: 627, Valoración: 3.382745250624616\n",
      "Elemento: 746, Valoración: 3.382745250624616\n",
      "Elemento: 800, Valoración: 3.382745250624616\n",
      "Elemento: 151, Valoración: 3.382745250624616\n",
      "Elemento: 114, Valoración: 3.382745250624616\n",
      "Elemento: 433, Valoración: 3.382745250624616\n"
     ]
    }
   ],
   "execution_count": 9
  },
  {
   "cell_type": "code",
   "id": "178e452f",
   "metadata": {
    "ExecuteTime": {
     "end_time": "2024-05-31T20:31:39.484976Z",
     "start_time": "2024-05-31T20:31:39.483129Z"
    }
   },
   "source": [],
   "outputs": [],
   "execution_count": 9
  }
 ],
 "metadata": {
  "kernelspec": {
   "display_name": "Python 3 (ipykernel)",
   "language": "python",
   "name": "python3"
  },
  "language_info": {
   "codemirror_mode": {
    "name": "ipython",
    "version": 3
   },
   "file_extension": ".py",
   "mimetype": "text/x-python",
   "name": "python",
   "nbconvert_exporter": "python",
   "pygments_lexer": "ipython3",
   "version": "3.9.7"
  }
 },
 "nbformat": 4,
 "nbformat_minor": 5
}
