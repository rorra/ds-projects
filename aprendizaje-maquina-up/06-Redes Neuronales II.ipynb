{
 "cells": [
  {
   "cell_type": "markdown",
   "id": "0a6b98d7",
   "metadata": {},
   "source": [
    "## Redes Neuronales - Parte II\n",
    "\n",
    "En esta actividad vamos a aprender a desarrollar una red neuronal profunda para reconocimiento de imagenes. \n",
    "\n",
    "Además vamos a estudiar algunos detalles de implementación que nos ayudarán a organizar nuestro codigo y hacerlo más eficiente. \n",
    "\n",
    "Por otro lado, vamos a aprender a utilizar Callbacks para detener el proceso de entrenamiento antes de tiempo si llegamos a un objetivo deseado.\n",
    "\n",
    "Para ello, vamos a trabajar con un dataset provisto por keras: Fashion MNIST. El dataset Fashion MNIST consta de 70.000 imágenes en escala de grises de 28x28 que pertenecen a una de 10 clases de prendas de vestir diferentes. \n",
    "El dataset se divide en 60.000 imagenes que se encuentran en el dataset de entrenamiento y 10.000 en el dataset de testeo.\n",
    "\n",
    "\n",
    "Cada imagen representa una prenda de vestir de una de las siguientes categorías: \n",
    "\n",
    "                                0. T-shirt/top\n",
    "                                1. Trouser\n",
    "                                2. Pullover\n",
    "                                3. Dress\n",
    "                                4. Coat\n",
    "                                5. Sandal\n",
    "                                6. Shirt\n",
    "                                7. Sneaker\n",
    "                                8. Bag\n",
    "                                9. Ankle boot \n",
    "\n",
    "Cada pixel tiene un valor asociado entre 0 y 255 que indica la luminosidad u oscuridad de dicho pixel (valores mas grandes indican mayor oscuridad).\n",
    "\n",
    "El dataset tiene 785 columnas, en donde la primera columna es el label del dataset y las columnas restantes son los features que indican los valores de cada pixel de la imagen.\n",
    "\n",
    "La idea es utilizar este dataset para reconocer prendas de vestir utilizando una red neuronal con varias layers y neuronas. Para ello, vamos a necesitar definir un modelo de clasificación multiclase.\n",
    "\n",
    "En primer lugar, carguemos en memoria el dataset, obteniendo el dataset de entrenamiento y el de testeo e imprimamos sus dimensiones.\n",
    "\n",
    "\n",
    "#### Ejercicio 1\n",
    "a) Escribir en Python un programa para obtener del framework Keras el dataset Fashion MNIST dividido en dataset entrenamiento (x_train, y_train) y dataset de testeo (x_test, y_test).\n",
    "\n",
    "**AYUDA:** el dataset fashion_mnist se encuentra dentro de la libreria keras.datasets. Keras provee una forma de obtener el dataset dividido en entrenamiento y testeo con el método [.load_data() ](https://www.tensorflow.org/api_docs/python/tf/keras/datasets/fashion_mnist/load_data#expandable-1)."
   ]
  },
  {
   "cell_type": "code",
   "id": "4083004b",
   "metadata": {
    "ExecuteTime": {
     "end_time": "2024-04-13T23:49:41.484504Z",
     "start_time": "2024-04-13T23:49:39.521531Z"
    }
   },
   "source": [
    "from tensorflow.keras.datasets import fashion_mnist\n",
    "\n",
    "(x_train, y_train), (x_test, y_test) = fashion_mnist.load_data()"
   ],
   "outputs": [
    {
     "name": "stderr",
     "output_type": "stream",
     "text": [
      "2024-04-13 20:49:39.854505: E external/local_xla/xla/stream_executor/cuda/cuda_dnn.cc:9261] Unable to register cuDNN factory: Attempting to register factory for plugin cuDNN when one has already been registered\n",
      "2024-04-13 20:49:39.854528: E external/local_xla/xla/stream_executor/cuda/cuda_fft.cc:607] Unable to register cuFFT factory: Attempting to register factory for plugin cuFFT when one has already been registered\n",
      "2024-04-13 20:49:39.855176: E external/local_xla/xla/stream_executor/cuda/cuda_blas.cc:1515] Unable to register cuBLAS factory: Attempting to register factory for plugin cuBLAS when one has already been registered\n",
      "2024-04-13 20:49:40.469983: W tensorflow/compiler/tf2tensorrt/utils/py_utils.cc:38] TF-TRT Warning: Could not find TensorRT\n"
     ]
    }
   ],
   "execution_count": 1
  },
  {
   "cell_type": "markdown",
   "id": "b9c8ec82",
   "metadata": {},
   "source": [
    "b) Imprimir las dimensiones de todos los datasets (x_train, y_train, x_test, y test)"
   ]
  },
  {
   "cell_type": "code",
   "id": "c7516835",
   "metadata": {
    "ExecuteTime": {
     "end_time": "2024-04-13T23:49:41.490623Z",
     "start_time": "2024-04-13T23:49:41.485712Z"
    }
   },
   "source": "x_train.shape, y_train.shape, x_test.shape, y_test.shape",
   "outputs": [
    {
     "data": {
      "text/plain": [
       "((60000, 28, 28), (60000,), (10000, 28, 28), (10000,))"
      ]
     },
     "execution_count": 2,
     "metadata": {},
     "output_type": "execute_result"
    }
   ],
   "execution_count": 2
  },
  {
   "cell_type": "markdown",
   "id": "9a7d6ad7",
   "metadata": {},
   "source": [
    "#### Ejercicio 2\n",
    "a) Imprimir dos imagenes cualquiera utilizando matplotlib.\n",
    "\n",
    "**AYUDA:** Recordemos que para imprimir una imagen con matplotlib se puede utilizar el metodo [.imshow(image)](https://matplotlib.org/stable/api/_as_gen/matplotlib.pyplot.imshow.html#matplotlib-pyplot-imshow), siendo image el vector que contiene los 784 pixeles de la imagen."
   ]
  },
  {
   "cell_type": "code",
   "id": "56a5d318",
   "metadata": {
    "ExecuteTime": {
     "end_time": "2024-04-13T23:49:41.822854Z",
     "start_time": "2024-04-13T23:49:41.491522Z"
    }
   },
   "source": [
    "import matplotlib.pyplot as plt\n",
    "%matplotlib inline\n",
    "\n",
    "plt.imshow(x_train[0])\n",
    "plt.show()\n",
    "\n",
    "plt.imshow(x_train[1])\n",
    "plt.show()"
   ],
   "outputs": [
    {
     "data": {
      "text/plain": [
       "<Figure size 640x480 with 1 Axes>"
      ],
      "image/png": "[encoded data removed]"
     },
     "metadata": {},
     "output_type": "display_data"
    },
    {
     "data": {
      "text/plain": [
       "<Figure size 640x480 with 1 Axes>"
      ],
      "image/png": "[encoded data removed]"
     },
     "metadata": {},
     "output_type": "display_data"
    }
   ],
   "execution_count": 3
  },
  {
   "cell_type": "markdown",
   "id": "c6f20b58",
   "metadata": {},
   "source": [
    "#### Ejercicio 3\n",
    "a) Normalizar los valores de los features en los datasets de entrenamiento y testeo (x_train y x_test) dividiendo los valores de los pixeles por 255."
   ]
  },
  {
   "cell_type": "code",
   "id": "c828b4c1",
   "metadata": {
    "ExecuteTime": {
     "end_time": "2024-04-13T23:49:41.887709Z",
     "start_time": "2024-04-13T23:49:41.824782Z"
    }
   },
   "source": [
    "x_train = x_train / 255\n",
    "x_test = x_test / 255"
   ],
   "outputs": [],
   "execution_count": 4
  },
  {
   "cell_type": "markdown",
   "id": "a6993e0b",
   "metadata": {},
   "source": [
    "### Callbacks\n",
    "\n",
    "Los Callbacks de Keras son objetos que realizan acciones en diferentes etapas del proceso de entrenamiento (por ejemplo, al comienzo o al final de un epoch). En general se utilizan para escribir logs (registros) para monitorear el proceso, almacenar el modelo en disco periodicamente, detener el proceso de entrenamiento antes de lo previsto, entre otros.\n",
    "\n",
    "El codigo para crear un nuevo Callback en Tensorflow/Keras que cancele el entrenamiento por haber obtenido un valor máximo de rendimiento es el siguiente:\n",
    "\n",
    "```\n",
    "class callbacks(tf.keras.callbacks.Callback):\n",
    "    def on_epoch_end(self, epoch, logs={}):\n",
    "        if logs.get(\"accuracy\") > MAX_ACC:\n",
    "            self.model.stop_training = True\n",
    "```\n",
    "\n",
    "Los callbacks creados son pasados en el método .fit().\n",
    "\n",
    "#### Ejercicio 4\n",
    "a) Crear una clase callback que detenga el proceso de entrenamiento cuando se llega al final de un epoch si es que se logra un .95 de accuracy e imprima el siguiente mensaje de aviso: \"Se alcanzó el máximo de precisión y, por lo tanto, se canceló el proceso de entrenamiento.\"\n"
   ]
  },
  {
   "cell_type": "code",
   "id": "bf9cac2e",
   "metadata": {
    "ExecuteTime": {
     "end_time": "2024-04-13T23:49:41.891488Z",
     "start_time": "2024-04-13T23:49:41.888644Z"
    }
   },
   "source": [
    "import tensorflow as tf\n",
    "\n",
    "class callbacks(tf.keras.callbacks.Callback):\n",
    "    def on_epoch_end(self, epoch, logs={}):\n",
    "        if logs.get(\"accuracy\") > .95:\n",
    "            self.model.stop_training = True\n",
    "            print(\"Se alcanzó el máximo de precisión y, por lo tanto, se canceló el proceso de entrenamiento.\")"
   ],
   "outputs": [],
   "execution_count": 5
  },
  {
   "cell_type": "markdown",
   "id": "fb5cf506",
   "metadata": {},
   "source": [
    "### Ordenando el codigo\n",
    "Ahora que tenemos los datasets de entrenamiento y testeo normalizados y observamos algunos ejemplos vamos a crear el modelo, compilarlo y entrenarlo. \n",
    "\n",
    "Para ello, vamos a crear un método que reuna todo el proceso completo:\n",
    "1. Obtener el dataset de entrenamiento y de testeo (resuelto en Ejercicio 1.a.)\n",
    "2. Normalizar los features de entrenamiento y testeo (resuelto en Ejercicio 3.)\n",
    "3. Crear el modelo en Keras\n",
    "4. Compilar el modelo (.compile(...))\n",
    "5. Ajustar o entrenar (.fit(...)) el modelo pasandole el callback creado y almacenando el historial del proceso de entrenamiento.\n",
    "6. Retornar el historial del proceso de entrenamiento y el modelo creado.\n",
    "\n",
    "Para la **creación del modelo** vamos a utilizar una red neuronal con 4 layers ocultas: la primera con 512 neuronas, la segunda con 256 neuronas, la tercera con 128 neuronas y la cuarta con 64 neuronas. Como el problema es un problema de clasificación multiclase debemos utilizar al final la función softmax. Vamos a implementar la versión de codigo mejorada que vimos en el apunte, para ello, vamos a crear el modelo con la ultima layer con la función de activación lineal (para luego, fuera del metodo que estamos creando, aplicarle la función softmax para obtener las probabilidades por cada clase). Recordemos que como estamos trabajando con imagenes, la primera layer que debe tener nuestra red neuronal es la Layer Flatten().\n",
    "\n",
    "Cuando realizamos la **compilación del modelo** vamos a usar de optimizador al algoritmo Adam (para ello, pasamos cmo parametro **optimizer='adam'**) y como metrica de evaluación vamos a usar accuracy (para ello, pasamos como parametro **metrics=['accuracy']**). Recordar que para clasificación multiclase debemos usar la función de costo **SparseCategoricalCrossentropy** con **from_logits=True** porque estamos implementando la versión mejorada del codigo, como vimos en el apunte.\n",
    "\n",
    "Cuando relizamos el **entrenamiento del modelo** con el método .fit()  debemos pasarle el objeto callback creado (**callbacks=[myCallback]**). Además, la cantidad de epochs la vamos a setear en 100.\n",
    "\n",
    "Tener en cuenta que el historial del proceso de entrenamiento es devuelto por el método .fit y se trata de un objeto History el cual en el atributo .history (History.history) se tiene un registro de los valores de error y de metricas obtenidas en los sucesivos epochs.\n",
    "\n",
    "#### Ejercicio 5\n",
    "a) Crear un método train_fashion_mnist() que se englobe los 6 pasos mencionados anteriormente. Notar que hay ciertos pasos que resolvimos en ejercicios anteriores que simplemente debemos copiar las lineas de código dentro del nuevo método."
   ]
  },
  {
   "cell_type": "code",
   "id": "fde0f631",
   "metadata": {
    "ExecuteTime": {
     "end_time": "2024-04-13T23:49:41.897033Z",
     "start_time": "2024-04-13T23:49:41.892370Z"
    }
   },
   "source": [
    "import tensorflow as tf\n",
    "from tensorflow.keras.losses import SparseCategoricalCrossentropy\n",
    "from tensorflow.nn import softmax\n",
    "\n",
    "def train_fashion_mnist():\n",
    "    # Creamos un objeto de la clase callbacks creada anteriormente\n",
    "    myCallback = callbacks()\n",
    "\n",
    "    # 1. Obtener el dataset de entrenamiento y de testeo (resuelto en Ejercicio 1) a.)\n",
    "    (x_train, y_train), (x_test, y_test) = fashion_mnist.load_data()\n",
    "        \n",
    "    # 2. Normalizar los features de entrenamiento y testeo (resuelto en Ejercicio 3.)\n",
    "    x_train = x_train / 255\n",
    "    x_test = x_test / 255   \n",
    "    \n",
    "    # 3. Crear el modelo en Keras\n",
    "    model = tf.keras.models.Sequential([\n",
    "        tf.keras.layers.Flatten(input_shape=(28, 28)),\n",
    "        tf.keras.layers.Dense(512, activation='relu'),\n",
    "        tf.keras.layers.Dense(256, activation='relu'),\n",
    "        tf.keras.layers.Dense(128, activation='relu'),\n",
    "        tf.keras.layers.Dense(64, activation='relu'),\n",
    "        tf.keras.layers.Dense(10)\n",
    "    ])    \n",
    "    \n",
    "    # 4. Compilar el modelo (.compile(...))\n",
    "    model.compile(optimizer='adam', loss=SparseCategoricalCrossentropy(from_logits=True), metrics=['accuracy'])\n",
    "    \n",
    "    \n",
    "    # 5. Ajustar o entrenar (.fit(...)) el modelo pasandole el callback creado y almacenando el historial del proceso de entrenamiento.\n",
    "    history = model.fit(x_train, y_train, epochs=100, callbacks=[myCallback])\n",
    "        \n",
    "    # 6.Retornar el historial del proceso de entrenamiento.\n",
    "    return history.history, model"
   ],
   "outputs": [],
   "execution_count": 6
  },
  {
   "cell_type": "markdown",
   "id": "4ff64da4",
   "metadata": {},
   "source": [
    "Ahora que tenemos un método que es capaz de realizar todo el proceso completo lo unico que resta es realizar una llamada al mismo para obtener el objeto history y el model."
   ]
  },
  {
   "cell_type": "code",
   "id": "77794dfd",
   "metadata": {
    "ExecuteTime": {
     "end_time": "2024-04-13T23:52:24.262667Z",
     "start_time": "2024-04-13T23:49:41.897846Z"
    }
   },
   "source": [
    "# El entrenamiento debería cortarse en aproximadamente 35 epochs\n",
    "history, model = train_fashion_mnist()"
   ],
   "outputs": [
    {
     "name": "stderr",
     "output_type": "stream",
     "text": [
      "2024-04-13 20:49:42.330607: I external/local_xla/xla/stream_executor/cuda/cuda_executor.cc:901] successful NUMA node read from SysFS had negative value (-1), but there must be at least one NUMA node, so returning NUMA node zero. See more at https://github.com/torvalds/linux/blob/v6.0/Documentation/ABI/testing/sysfs-bus-pci#L344-L355\n",
      "2024-04-13 20:49:42.359393: I external/local_xla/xla/stream_executor/cuda/cuda_executor.cc:901] successful NUMA node read from SysFS had negative value (-1), but there must be at least one NUMA node, so returning NUMA node zero. See more at https://github.com/torvalds/linux/blob/v6.0/Documentation/ABI/testing/sysfs-bus-pci#L344-L355\n",
      "2024-04-13 20:49:42.360791: I external/local_xla/xla/stream_executor/cuda/cuda_executor.cc:901] successful NUMA node read from SysFS had negative value (-1), but there must be at least one NUMA node, so returning NUMA node zero. See more at https://github.com/torvalds/linux/blob/v6.0/Documentation/ABI/testing/sysfs-bus-pci#L344-L355\n",
      "2024-04-13 20:49:42.362972: I external/local_xla/xla/stream_executor/cuda/cuda_executor.cc:901] successful NUMA node read from SysFS had negative value (-1), but there must be at least one NUMA node, so returning NUMA node zero. See more at https://github.com/torvalds/linux/blob/v6.0/Documentation/ABI/testing/sysfs-bus-pci#L344-L355\n",
      "2024-04-13 20:49:42.364281: I external/local_xla/xla/stream_executor/cuda/cuda_executor.cc:901] successful NUMA node read from SysFS had negative value (-1), but there must be at least one NUMA node, so returning NUMA node zero. See more at https://github.com/torvalds/linux/blob/v6.0/Documentation/ABI/testing/sysfs-bus-pci#L344-L355\n",
      "2024-04-13 20:49:42.365476: I external/local_xla/xla/stream_executor/cuda/cuda_executor.cc:901] successful NUMA node read from SysFS had negative value (-1), but there must be at least one NUMA node, so returning NUMA node zero. See more at https://github.com/torvalds/linux/blob/v6.0/Documentation/ABI/testing/sysfs-bus-pci#L344-L355\n",
      "2024-04-13 20:49:42.487157: I external/local_xla/xla/stream_executor/cuda/cuda_executor.cc:901] successful NUMA node read from SysFS had negative value (-1), but there must be at least one NUMA node, so returning NUMA node zero. See more at https://github.com/torvalds/linux/blob/v6.0/Documentation/ABI/testing/sysfs-bus-pci#L344-L355\n",
      "2024-04-13 20:49:42.488517: I external/local_xla/xla/stream_executor/cuda/cuda_executor.cc:901] successful NUMA node read from SysFS had negative value (-1), but there must be at least one NUMA node, so returning NUMA node zero. See more at https://github.com/torvalds/linux/blob/v6.0/Documentation/ABI/testing/sysfs-bus-pci#L344-L355\n",
      "2024-04-13 20:49:42.489679: I external/local_xla/xla/stream_executor/cuda/cuda_executor.cc:901] successful NUMA node read from SysFS had negative value (-1), but there must be at least one NUMA node, so returning NUMA node zero. See more at https://github.com/torvalds/linux/blob/v6.0/Documentation/ABI/testing/sysfs-bus-pci#L344-L355\n",
      "2024-04-13 20:49:42.490783: I tensorflow/core/common_runtime/gpu/gpu_device.cc:1929] Created device /job:localhost/replica:0/task:0/device:GPU:0 with 6849 MB memory:  -> device: 0, name: NVIDIA GeForce RTX 3080, pci bus id: 0000:0a:00.0, compute capability: 8.6\n"
     ]
    },
    {
     "name": "stdout",
     "output_type": "stream",
     "text": [
      "Epoch 1/100\n"
     ]
    },
    {
     "name": "stderr",
     "output_type": "stream",
     "text": [
      "2024-04-13 20:49:43.566573: I external/local_tsl/tsl/platform/default/subprocess.cc:304] Start cannot spawn child process: No such file or directory\n",
      "2024-04-13 20:49:43.629939: I external/local_xla/xla/service/service.cc:168] XLA service 0x78ed84102530 initialized for platform CUDA (this does not guarantee that XLA will be used). Devices:\n",
      "2024-04-13 20:49:43.629955: I external/local_xla/xla/service/service.cc:176]   StreamExecutor device (0): NVIDIA GeForce RTX 3080, Compute Capability 8.6\n",
      "2024-04-13 20:49:43.634212: I tensorflow/compiler/mlir/tensorflow/utils/dump_mlir_util.cc:269] disabling MLIR crash reproducer, set env var `MLIR_CRASH_REPRODUCER_DIRECTORY` to enable.\n",
      "2024-04-13 20:49:43.648775: I external/local_xla/xla/stream_executor/cuda/cuda_dnn.cc:454] Loaded cuDNN version 8907\n",
      "WARNING: All log messages before absl::InitializeLog() is called are written to STDERR\n",
      "I0000 00:00:1713052183.710609   33775 device_compiler.h:186] Compiled cluster using XLA!  This line is logged at most once for the lifetime of the process.\n"
     ]
    },
    {
     "name": "stdout",
     "output_type": "stream",
     "text": [
      "1875/1875 [==============================] - 6s 2ms/step - loss: 0.4907 - accuracy: 0.8222\n",
      "Epoch 2/100\n",
      "1875/1875 [==============================] - 4s 2ms/step - loss: 0.3660 - accuracy: 0.8668\n",
      "Epoch 3/100\n",
      "1875/1875 [==============================] - 4s 2ms/step - loss: 0.3333 - accuracy: 0.8772\n",
      "Epoch 4/100\n",
      "1875/1875 [==============================] - 4s 2ms/step - loss: 0.3074 - accuracy: 0.8867\n",
      "Epoch 5/100\n",
      "1875/1875 [==============================] - 4s 2ms/step - loss: 0.2900 - accuracy: 0.8931\n",
      "Epoch 6/100\n",
      "1875/1875 [==============================] - 4s 2ms/step - loss: 0.2759 - accuracy: 0.8983\n",
      "Epoch 7/100\n",
      "1875/1875 [==============================] - 5s 2ms/step - loss: 0.2638 - accuracy: 0.9012\n",
      "Epoch 8/100\n",
      "1875/1875 [==============================] - 5s 2ms/step - loss: 0.2527 - accuracy: 0.9058\n",
      "Epoch 9/100\n",
      "1875/1875 [==============================] - 4s 2ms/step - loss: 0.2435 - accuracy: 0.9083\n",
      "Epoch 10/100\n",
      "1875/1875 [==============================] - 5s 2ms/step - loss: 0.2329 - accuracy: 0.9118\n",
      "Epoch 11/100\n",
      "1875/1875 [==============================] - 5s 3ms/step - loss: 0.2278 - accuracy: 0.9155\n",
      "Epoch 12/100\n",
      "1875/1875 [==============================] - 5s 3ms/step - loss: 0.2185 - accuracy: 0.9173\n",
      "Epoch 13/100\n",
      "1875/1875 [==============================] - 5s 3ms/step - loss: 0.2107 - accuracy: 0.9197\n",
      "Epoch 14/100\n",
      "1875/1875 [==============================] - 6s 3ms/step - loss: 0.2087 - accuracy: 0.9204\n",
      "Epoch 15/100\n",
      "1875/1875 [==============================] - 5s 3ms/step - loss: 0.1987 - accuracy: 0.9244\n",
      "Epoch 16/100\n",
      "1875/1875 [==============================] - 6s 3ms/step - loss: 0.1939 - accuracy: 0.9258\n",
      "Epoch 17/100\n",
      "1875/1875 [==============================] - 6s 3ms/step - loss: 0.1892 - accuracy: 0.9279\n",
      "Epoch 18/100\n",
      "1875/1875 [==============================] - 5s 3ms/step - loss: 0.1820 - accuracy: 0.9300\n",
      "Epoch 19/100\n",
      "1875/1875 [==============================] - 6s 3ms/step - loss: 0.1799 - accuracy: 0.9316\n",
      "Epoch 20/100\n",
      "1875/1875 [==============================] - 6s 3ms/step - loss: 0.1747 - accuracy: 0.9334\n",
      "Epoch 21/100\n",
      "1875/1875 [==============================] - 5s 3ms/step - loss: 0.1718 - accuracy: 0.9342\n",
      "Epoch 22/100\n",
      "1875/1875 [==============================] - 5s 3ms/step - loss: 0.1654 - accuracy: 0.9363\n",
      "Epoch 23/100\n",
      "1875/1875 [==============================] - 5s 3ms/step - loss: 0.1648 - accuracy: 0.9383\n",
      "Epoch 24/100\n",
      "1875/1875 [==============================] - 4s 2ms/step - loss: 0.1565 - accuracy: 0.9412\n",
      "Epoch 25/100\n",
      "1875/1875 [==============================] - 5s 2ms/step - loss: 0.1567 - accuracy: 0.9404\n",
      "Epoch 26/100\n",
      "1875/1875 [==============================] - 4s 2ms/step - loss: 0.1520 - accuracy: 0.9413\n",
      "Epoch 27/100\n",
      "1875/1875 [==============================] - 5s 2ms/step - loss: 0.1478 - accuracy: 0.9439\n",
      "Epoch 28/100\n",
      "1875/1875 [==============================] - 4s 2ms/step - loss: 0.1441 - accuracy: 0.9445\n",
      "Epoch 29/100\n",
      "1875/1875 [==============================] - 4s 2ms/step - loss: 0.1412 - accuracy: 0.9458\n",
      "Epoch 30/100\n",
      "1875/1875 [==============================] - 4s 2ms/step - loss: 0.1369 - accuracy: 0.9479\n",
      "Epoch 31/100\n",
      "1875/1875 [==============================] - 5s 2ms/step - loss: 0.1393 - accuracy: 0.9475\n",
      "Epoch 32/100\n",
      "1875/1875 [==============================] - 5s 3ms/step - loss: 0.1322 - accuracy: 0.9489\n",
      "Epoch 33/100\n",
      "1875/1875 [==============================] - 4s 2ms/step - loss: 0.1326 - accuracy: 0.9498\n",
      "Epoch 34/100\n",
      "1863/1875 [============================>.] - ETA: 0s - loss: 0.1260 - accuracy: 0.9514Se alcanzó el máximo de precisión y, por lo tanto, se canceló el proceso de entrenamiento.\n",
      "1875/1875 [==============================] - 4s 2ms/step - loss: 0.1261 - accuracy: 0.9513\n"
     ]
    }
   ],
   "execution_count": 7
  },
  {
   "cell_type": "markdown",
   "id": "e8ec3d74",
   "metadata": {},
   "source": [
    "Hay que tener en cuenta que en el modelo creado, al no haber aplicado la función softmax aún, las salidas no son probabilidades, es decir, son valores que van de [-inf, +inf]. \n",
    "\n",
    "Veamos a continuación, los valores de salida para el primer ejemplo y además, observemos cuales son los valores maximos y minimos de todas las salidas para confirmar que no son probabilidades."
   ]
  },
  {
   "cell_type": "code",
   "id": "6aede106",
   "metadata": {
    "ExecuteTime": {
     "end_time": "2024-04-13T23:52:27.071638Z",
     "start_time": "2024-04-13T23:52:24.263606Z"
    }
   },
   "source": [
    "import numpy as np\n",
    "\n",
    "prediction = model.predict(x_train)\n",
    "\n",
    "print()\n",
    "print(f\"Valores de Salida para el primer ejemplo:\\n {prediction[0]}\")\n",
    "print()\n",
    "print(\"Valor máximo\", np.max(prediction), \"- Valor mínimo\", np.min(prediction))"
   ],
   "outputs": [
    {
     "name": "stdout",
     "output_type": "stream",
     "text": [
      "1875/1875 [==============================] - 2s 856us/step\n",
      "\n",
      "Valores de Salida para el primer ejemplo:\n",
      " [-18.549755   -7.331433  -16.794378  -24.877846  -18.267038  -10.331398\n",
      " -17.21718     1.152229  -11.834721    5.7548785]\n",
      "\n",
      "Valor máximo 368.3134 - Valor mínimo -1258.7012\n"
     ]
    }
   ],
   "execution_count": 8
  },
  {
   "cell_type": "markdown",
   "id": "4eda7ba0",
   "metadata": {},
   "source": [
    "Como puede verse, las predicciones de salida **no son probabilidades**. \n",
    "\n",
    "Si la salida deseada deben ser probabilidades, la salida del modelo debe ser procesada a través de una operación Softmax."
   ]
  },
  {
   "cell_type": "code",
   "id": "dbaeb28b",
   "metadata": {
    "ExecuteTime": {
     "end_time": "2024-04-13T23:52:27.511894Z",
     "start_time": "2024-04-13T23:52:27.072539Z"
    }
   },
   "source": [
    "logit = model(x_train)\n",
    "f_x = softmax(logit)\n",
    "\n",
    "print()\n",
    "print(f\"Valores de Salida para el primer ejemplo:\\n {f_x[0]}\")\n",
    "print()\n",
    "print(\"Valor máximo\", np.max(f_x), \"- Valor mínimo\", np.min(f_x))"
   ],
   "outputs": [
    {
     "name": "stdout",
     "output_type": "stream",
     "text": [
      "\n",
      "Valores de Salida para el primer ejemplo:\n",
      " [2.75614791e-11 2.05284869e-06 1.59460445e-10 4.92097275e-14\n",
      " 3.65666213e-11 1.02208737e-07 1.04480015e-10 9.92574543e-03\n",
      " 2.27302870e-08 9.90072131e-01]\n",
      "\n",
      "Valor máximo 1.0 - Valor mínimo 0.0\n"
     ]
    }
   ],
   "execution_count": 9
  },
  {
   "cell_type": "markdown",
   "id": "3096fec4",
   "metadata": {},
   "source": [
    "Como se observa, los valores de salida se encuentran en el rango [0,1]. Si sumamos las probabilidades para un ejemplo debería darnos como resultado 1.0. (Se puede modificar el indice y probar que efectivamente para cualquier ejemplo el resultado siempre es 1.0)\n"
   ]
  },
  {
   "cell_type": "code",
   "id": "d7a11616",
   "metadata": {
    "ExecuteTime": {
     "end_time": "2024-04-13T23:52:27.529932Z",
     "start_time": "2024-04-13T23:52:27.513518Z"
    }
   },
   "source": [
    "sum(f_x[0]).numpy()"
   ],
   "outputs": [
    {
     "data": {
      "text/plain": [
       "1.0"
      ]
     },
     "execution_count": 10,
     "metadata": {},
     "output_type": "execute_result"
    }
   ],
   "execution_count": 10
  },
  {
   "cell_type": "markdown",
   "id": "0baf2cb0",
   "metadata": {},
   "source": [
    "### ¿Cómo obtener las categorías estimadas?\n",
    "Para obtener que categoría que se estimó con el modelo para un ejemplo dado se debe seleccionar la categoría más probable. \n",
    "\n",
    "Para ello, es posible encontrar el índice de la salida con mayor probabilidad utilizando np.argmax(). \n",
    "\n",
    "A continuación se muestran las categorías estimadas y las reales para los 10 primeros ejemplos."
   ]
  },
  {
   "metadata": {
    "ExecuteTime": {
     "end_time": "2024-04-13T23:52:27.539289Z",
     "start_time": "2024-04-13T23:52:27.530857Z"
    }
   },
   "cell_type": "code",
   "source": [
    "for i in range(10):\n",
    "    print( f\"Categoría Estimada: {np.argmax(f_x[i])}, Categoría Real: {y_train[i]}\")"
   ],
   "id": "a60aeeda920f67b0",
   "outputs": [
    {
     "name": "stdout",
     "output_type": "stream",
     "text": [
      "Categoría Estimada: 9, Categoría Real: 9\n",
      "Categoría Estimada: 0, Categoría Real: 0\n",
      "Categoría Estimada: 0, Categoría Real: 0\n",
      "Categoría Estimada: 3, Categoría Real: 3\n",
      "Categoría Estimada: 0, Categoría Real: 0\n",
      "Categoría Estimada: 2, Categoría Real: 2\n",
      "Categoría Estimada: 7, Categoría Real: 7\n",
      "Categoría Estimada: 2, Categoría Real: 2\n",
      "Categoría Estimada: 5, Categoría Real: 5\n",
      "Categoría Estimada: 5, Categoría Real: 5\n"
     ]
    }
   ],
   "execution_count": 11
  }
 ],
 "metadata": {
  "kernelspec": {
   "display_name": "Python 3 (ipykernel)",
   "language": "python",
   "name": "python3"
  },
  "language_info": {
   "codemirror_mode": {
    "name": "ipython",
    "version": 3
   },
   "file_extension": ".py",
   "mimetype": "text/x-python",
   "name": "python",
   "nbconvert_exporter": "python",
   "pygments_lexer": "ipython3",
   "version": "3.9.7"
  }
 },
 "nbformat": 4,
 "nbformat_minor": 5
}
