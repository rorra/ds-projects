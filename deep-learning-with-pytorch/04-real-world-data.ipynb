{
 "cells": [
  {
   "cell_type": "markdown",
   "source": [
    "# Working with images"
   ],
   "metadata": {
    "collapsed": false
   },
   "id": "50732e67273d4ad3"
  },
  {
   "cell_type": "code",
   "outputs": [],
   "source": [
    "import imageio.v2 as imageio\n",
    "import torch"
   ],
   "metadata": {
    "collapsed": true,
    "ExecuteTime": {
     "end_time": "2024-03-01T23:41:56.457537Z",
     "start_time": "2024-03-01T23:41:56.455286Z"
    }
   },
   "id": "initial_id",
   "execution_count": 51
  },
  {
   "cell_type": "code",
   "outputs": [
    {
     "data": {
      "text/plain": "(720, 1280, 3)"
     },
     "execution_count": 52,
     "metadata": {},
     "output_type": "execute_result"
    }
   ],
   "source": [
    "img_arr = imageio.imread('./data/04/image-dog/bobby.jpg')\n",
    "img_arr.shape"
   ],
   "metadata": {
    "collapsed": false,
    "ExecuteTime": {
     "end_time": "2024-03-01T23:41:56.594236Z",
     "start_time": "2024-03-01T23:41:56.579678Z"
    }
   },
   "id": "55c8f691ff9190b",
   "execution_count": 52
  },
  {
   "cell_type": "code",
   "outputs": [
    {
     "data": {
      "text/plain": "torch.Size([3, 720, 1280])"
     },
     "execution_count": 53,
     "metadata": {},
     "output_type": "execute_result"
    }
   ],
   "source": [
    "img = torch.from_numpy(img_arr)\n",
    "out = img.permute(2, 0, 1)\n",
    "out.shape"
   ],
   "metadata": {
    "collapsed": false,
    "ExecuteTime": {
     "end_time": "2024-03-01T23:41:56.597707Z",
     "start_time": "2024-03-01T23:41:56.595043Z"
    }
   },
   "id": "679b480afcf846a5",
   "execution_count": 53
  },
  {
   "cell_type": "code",
   "outputs": [],
   "source": [
    "batch_size = 3\n",
    "batch = torch.zeros(batch_size, 3, 256, 256, dtype=torch.uint8)"
   ],
   "metadata": {
    "collapsed": false,
    "ExecuteTime": {
     "end_time": "2024-03-01T23:41:56.599998Z",
     "start_time": "2024-03-01T23:41:56.598231Z"
    }
   },
   "id": "2a61b2ba2bdb111c",
   "execution_count": 54
  },
  {
   "cell_type": "code",
   "outputs": [],
   "source": [
    "import os\n",
    "data_dir = \"./data/04/image-cats\"\n",
    "filenames = [name for name in os.listdir(data_dir) if os.path.splitext(name)[-1] == '.png']\n",
    "for i, filename in enumerate(filenames):\n",
    "    img_arr = imageio.imread(os.path.join(data_dir, filename))\n",
    "    img_t = torch.from_numpy(img_arr)\n",
    "    img_t = img_t.permute(2, 0, 1)\n",
    "    img_t = img_t[:3]\n",
    "    batch[i] = img_t"
   ],
   "metadata": {
    "collapsed": false,
    "ExecuteTime": {
     "end_time": "2024-03-01T23:41:56.658260Z",
     "start_time": "2024-03-01T23:41:56.648401Z"
    }
   },
   "id": "f7e672666d6fcffa",
   "execution_count": 55
  },
  {
   "cell_type": "code",
   "outputs": [],
   "source": [
    "batch = batch.float()\n",
    "batch /= 255.0"
   ],
   "metadata": {
    "collapsed": false,
    "ExecuteTime": {
     "end_time": "2024-03-01T23:41:56.739714Z",
     "start_time": "2024-03-01T23:41:56.737450Z"
    }
   },
   "id": "ccb16319d2bfdd42",
   "execution_count": 56
  },
  {
   "cell_type": "code",
   "outputs": [],
   "source": [
    "n_channels = batch.shape[1]\n",
    "for c in range(n_channels):\n",
    "    mean = torch.mean(batch[:, c])\n",
    "    std = torch.std(batch[:, c])\n",
    "    batch[:, c] = (batch[:, c] - mean) / std"
   ],
   "metadata": {
    "collapsed": false,
    "ExecuteTime": {
     "end_time": "2024-03-01T23:41:56.768880Z",
     "start_time": "2024-03-01T23:41:56.766006Z"
    }
   },
   "id": "40281eec051bb6be",
   "execution_count": 57
  },
  {
   "cell_type": "markdown",
   "source": [
    "## 3D images"
   ],
   "metadata": {
    "collapsed": false
   },
   "id": "76c7e54aa96fa675"
  },
  {
   "cell_type": "code",
   "outputs": [
    {
     "name": "stdout",
     "output_type": "stream",
     "text": [
      "Reading DICOM (examining files): 99/99 files (100.0%)\n",
      "  Found 1 correct series.\n",
      "Reading DICOM (loading data): 99/99  (100.0%)\n"
     ]
    },
    {
     "data": {
      "text/plain": "(99, 512, 512)"
     },
     "execution_count": 58,
     "metadata": {},
     "output_type": "execute_result"
    }
   ],
   "source": [
    "dir_path = './data/04/volumetric-dicom/lung'\n",
    "vol_arr = imageio.volread(dir_path, 'DICOM')\n",
    "vol_arr.shape"
   ],
   "metadata": {
    "collapsed": false,
    "ExecuteTime": {
     "end_time": "2024-03-01T23:41:56.912156Z",
     "start_time": "2024-03-01T23:41:56.780994Z"
    }
   },
   "id": "d4a443d09faa4920",
   "execution_count": 58
  },
  {
   "cell_type": "code",
   "outputs": [
    {
     "data": {
      "text/plain": "torch.Size([1, 99, 512, 512])"
     },
     "execution_count": 59,
     "metadata": {},
     "output_type": "execute_result"
    }
   ],
   "source": [
    "vol = torch.from_numpy(vol_arr).float()\n",
    "vol = torch.unsqueeze(vol, 0)\n",
    "vol.shape"
   ],
   "metadata": {
    "collapsed": false,
    "ExecuteTime": {
     "end_time": "2024-03-01T23:41:56.929849Z",
     "start_time": "2024-03-01T23:41:56.913037Z"
    }
   },
   "id": "7cd235a7b3f0b3ba",
   "execution_count": 59
  },
  {
   "cell_type": "markdown",
   "source": [
    "# Tabular data"
   ],
   "metadata": {
    "collapsed": false
   },
   "id": "b5eeae411735dc97"
  },
  {
   "cell_type": "code",
   "outputs": [
    {
     "data": {
      "text/plain": "array([[ 7.  ,  0.27,  0.36, ...,  0.45,  8.8 ,  6.  ],\n       [ 6.3 ,  0.3 ,  0.34, ...,  0.49,  9.5 ,  6.  ],\n       [ 8.1 ,  0.28,  0.4 , ...,  0.44, 10.1 ,  6.  ],\n       ...,\n       [ 6.5 ,  0.24,  0.19, ...,  0.46,  9.4 ,  6.  ],\n       [ 5.5 ,  0.29,  0.3 , ...,  0.38, 12.8 ,  7.  ],\n       [ 6.  ,  0.21,  0.38, ...,  0.32, 11.8 ,  6.  ]], dtype=float32)"
     },
     "execution_count": 60,
     "metadata": {},
     "output_type": "execute_result"
    }
   ],
   "source": [
    "import csv\n",
    "import numpy as np\n",
    "wine_path = \"./data/04/tabular-wine/winequality-white.csv\"\n",
    "wineq_numpy = np.loadtxt(wine_path, dtype=np.float32, delimiter=\";\", skiprows=1)\n",
    "wineq_numpy"
   ],
   "metadata": {
    "collapsed": false,
    "ExecuteTime": {
     "end_time": "2024-03-01T23:41:56.936197Z",
     "start_time": "2024-03-01T23:41:56.930681Z"
    }
   },
   "id": "3f4d6555eafb08a3",
   "execution_count": 60
  },
  {
   "cell_type": "code",
   "outputs": [
    {
     "data": {
      "text/plain": "((4898, 12),\n ['fixed acidity',\n  'volatile acidity',\n  'citric acid',\n  'residual sugar',\n  'chlorides',\n  'free sulfur dioxide',\n  'total sulfur dioxide',\n  'density',\n  'pH',\n  'sulphates',\n  'alcohol',\n  'quality'])"
     },
     "execution_count": 61,
     "metadata": {},
     "output_type": "execute_result"
    }
   ],
   "source": [
    "col_list = next(csv.reader(open(wine_path), delimiter=';'))\n",
    "wineq_numpy.shape, col_list"
   ],
   "metadata": {
    "collapsed": false,
    "ExecuteTime": {
     "end_time": "2024-03-01T23:41:56.939902Z",
     "start_time": "2024-03-01T23:41:56.937303Z"
    }
   },
   "id": "f4372e40ac78f64e",
   "execution_count": 61
  },
  {
   "cell_type": "code",
   "outputs": [
    {
     "data": {
      "text/plain": "(torch.Size([4898, 12]), torch.float32)"
     },
     "execution_count": 62,
     "metadata": {},
     "output_type": "execute_result"
    }
   ],
   "source": [
    "wineq = torch.from_numpy(wineq_numpy)\n",
    "wineq.shape, wineq.dtype"
   ],
   "metadata": {
    "collapsed": false,
    "ExecuteTime": {
     "end_time": "2024-03-01T23:41:56.942887Z",
     "start_time": "2024-03-01T23:41:56.940501Z"
    }
   },
   "id": "5b77d089ecd2e9bd",
   "execution_count": 62
  },
  {
   "cell_type": "code",
   "outputs": [
    {
     "data": {
      "text/plain": "(tensor([[ 7.0000,  0.2700,  0.3600,  ...,  3.0000,  0.4500,  8.8000],\n         [ 6.3000,  0.3000,  0.3400,  ...,  3.3000,  0.4900,  9.5000],\n         [ 8.1000,  0.2800,  0.4000,  ...,  3.2600,  0.4400, 10.1000],\n         ...,\n         [ 6.5000,  0.2400,  0.1900,  ...,  2.9900,  0.4600,  9.4000],\n         [ 5.5000,  0.2900,  0.3000,  ...,  3.3400,  0.3800, 12.8000],\n         [ 6.0000,  0.2100,  0.3800,  ...,  3.2600,  0.3200, 11.8000]]),\n torch.Size([4898, 11]))"
     },
     "execution_count": 63,
     "metadata": {},
     "output_type": "execute_result"
    }
   ],
   "source": [
    "data = wineq[:, :-1]\n",
    "data, data.shape"
   ],
   "metadata": {
    "collapsed": false,
    "ExecuteTime": {
     "end_time": "2024-03-01T23:41:56.946410Z",
     "start_time": "2024-03-01T23:41:56.943444Z"
    }
   },
   "id": "89ece0dfb2df73f5",
   "execution_count": 63
  },
  {
   "cell_type": "code",
   "outputs": [
    {
     "data": {
      "text/plain": "(tensor([6., 6., 6.,  ..., 6., 7., 6.]), torch.Size([4898]))"
     },
     "execution_count": 64,
     "metadata": {},
     "output_type": "execute_result"
    }
   ],
   "source": [
    "target = wineq[:, -1]\n",
    "target, target.shape"
   ],
   "metadata": {
    "collapsed": false,
    "ExecuteTime": {
     "end_time": "2024-03-01T23:41:56.950046Z",
     "start_time": "2024-03-01T23:41:56.947102Z"
    }
   },
   "id": "7edd45447b39ce5e",
   "execution_count": 64
  },
  {
   "cell_type": "code",
   "outputs": [
    {
     "data": {
      "text/plain": "tensor([6, 6, 6,  ..., 6, 7, 6])"
     },
     "execution_count": 65,
     "metadata": {},
     "output_type": "execute_result"
    }
   ],
   "source": [
    "target = wineq[:, -1].long()\n",
    "target"
   ],
   "metadata": {
    "collapsed": false,
    "ExecuteTime": {
     "end_time": "2024-03-01T23:41:56.953616Z",
     "start_time": "2024-03-01T23:41:56.950676Z"
    }
   },
   "id": "6e603f5a7931abf9",
   "execution_count": 65
  },
  {
   "cell_type": "code",
   "outputs": [
    {
     "data": {
      "text/plain": "tensor([[0., 0., 0.,  ..., 0., 0., 0.],\n        [0., 0., 0.,  ..., 0., 0., 0.],\n        [0., 0., 0.,  ..., 0., 0., 0.],\n        ...,\n        [0., 0., 0.,  ..., 0., 0., 0.],\n        [0., 0., 0.,  ..., 1., 0., 0.],\n        [0., 0., 0.,  ..., 0., 0., 0.]])"
     },
     "execution_count": 66,
     "metadata": {},
     "output_type": "execute_result"
    }
   ],
   "source": [
    "target_onehot = torch.zeros(target.shape[0], 10)\n",
    "target_onehot.scatter_(1, target.unsqueeze(1), 1.0)"
   ],
   "metadata": {
    "collapsed": false,
    "ExecuteTime": {
     "end_time": "2024-03-01T23:41:56.957573Z",
     "start_time": "2024-03-01T23:41:56.954338Z"
    }
   },
   "id": "5ceb5d003f730a12",
   "execution_count": 66
  },
  {
   "cell_type": "code",
   "outputs": [
    {
     "data": {
      "text/plain": "tensor([[6],\n        [6],\n        [6],\n        ...,\n        [6],\n        [7],\n        [6]])"
     },
     "execution_count": 67,
     "metadata": {},
     "output_type": "execute_result"
    }
   ],
   "source": [
    "target_unsqueezed = target.unsqueeze(1)\n",
    "target_unsqueezed"
   ],
   "metadata": {
    "collapsed": false,
    "ExecuteTime": {
     "end_time": "2024-03-01T23:41:56.962019Z",
     "start_time": "2024-03-01T23:41:56.959443Z"
    }
   },
   "id": "33de73f9fb40e505",
   "execution_count": 67
  },
  {
   "cell_type": "code",
   "outputs": [
    {
     "data": {
      "text/plain": "tensor([6.8548e+00, 2.7824e-01, 3.3419e-01, 6.3914e+00, 4.5772e-02, 3.5308e+01,\n        1.3836e+02, 9.9403e-01, 3.1883e+00, 4.8985e-01, 1.0514e+01])"
     },
     "execution_count": 68,
     "metadata": {},
     "output_type": "execute_result"
    }
   ],
   "source": [
    "data_mean = torch.mean(data, dim=0)\n",
    "data_mean"
   ],
   "metadata": {
    "collapsed": false,
    "ExecuteTime": {
     "end_time": "2024-03-01T23:41:56.965306Z",
     "start_time": "2024-03-01T23:41:56.962727Z"
    }
   },
   "id": "757d81750ee571dc",
   "execution_count": 68
  },
  {
   "cell_type": "code",
   "outputs": [
    {
     "data": {
      "text/plain": "tensor([7.1211e-01, 1.0160e-02, 1.4646e-02, 2.5726e+01, 4.7733e-04, 2.8924e+02,\n        1.8061e+03, 8.9455e-06, 2.2801e-02, 1.3025e-02, 1.5144e+00])"
     },
     "execution_count": 69,
     "metadata": {},
     "output_type": "execute_result"
    }
   ],
   "source": [
    "data_var = torch.var(data, dim=0)\n",
    "data_var"
   ],
   "metadata": {
    "collapsed": false,
    "ExecuteTime": {
     "end_time": "2024-03-01T23:41:56.968719Z",
     "start_time": "2024-03-01T23:41:56.966021Z"
    }
   },
   "id": "d9df54fb868083df",
   "execution_count": 69
  },
  {
   "cell_type": "code",
   "outputs": [
    {
     "data": {
      "text/plain": "tensor([[ 7.0000,  0.2700,  0.3600,  ...,  3.0000,  0.4500,  8.8000],\n        [ 6.3000,  0.3000,  0.3400,  ...,  3.3000,  0.4900,  9.5000],\n        [ 8.1000,  0.2800,  0.4000,  ...,  3.2600,  0.4400, 10.1000],\n        ...,\n        [ 6.5000,  0.2400,  0.1900,  ...,  2.9900,  0.4600,  9.4000],\n        [ 5.5000,  0.2900,  0.3000,  ...,  3.3400,  0.3800, 12.8000],\n        [ 6.0000,  0.2100,  0.3800,  ...,  3.2600,  0.3200, 11.8000]])"
     },
     "execution_count": 70,
     "metadata": {},
     "output_type": "execute_result"
    }
   ],
   "source": [
    "data"
   ],
   "metadata": {
    "collapsed": false,
    "ExecuteTime": {
     "end_time": "2024-03-01T23:41:56.972289Z",
     "start_time": "2024-03-01T23:41:56.969483Z"
    }
   },
   "id": "b5c5d120c3bc6a7f",
   "execution_count": 70
  },
  {
   "cell_type": "code",
   "outputs": [
    {
     "data": {
      "text/plain": "tensor([[ 1.7208e-01, -8.1761e-02,  2.1326e-01,  ..., -1.2468e+00,\n         -3.4915e-01, -1.3930e+00],\n        [-6.5743e-01,  2.1587e-01,  4.7996e-02,  ...,  7.3995e-01,\n          1.3422e-03, -8.2419e-01],\n        [ 1.4756e+00,  1.7450e-02,  5.4378e-01,  ...,  4.7505e-01,\n         -4.3677e-01, -3.3663e-01],\n        ...,\n        [-4.2043e-01, -3.7940e-01, -1.1915e+00,  ..., -1.3130e+00,\n         -2.6153e-01, -9.0545e-01],\n        [-1.6054e+00,  1.1666e-01, -2.8253e-01,  ...,  1.0049e+00,\n         -9.6251e-01,  1.8574e+00],\n        [-1.0129e+00, -6.7703e-01,  3.7852e-01,  ...,  4.7505e-01,\n         -1.4882e+00,  1.0448e+00]])"
     },
     "execution_count": 71,
     "metadata": {},
     "output_type": "execute_result"
    }
   ],
   "source": [
    "data_normalized = (data - data_mean) / torch.sqrt(data_var)\n",
    "data_normalized"
   ],
   "metadata": {
    "collapsed": false,
    "ExecuteTime": {
     "end_time": "2024-03-01T23:41:56.975808Z",
     "start_time": "2024-03-01T23:41:56.972870Z"
    }
   },
   "id": "9a9bd63072c1b6d0",
   "execution_count": 71
  },
  {
   "cell_type": "code",
   "outputs": [],
   "source": [
    "bad_indexes = target <= 3"
   ],
   "metadata": {
    "collapsed": false,
    "ExecuteTime": {
     "end_time": "2024-03-01T23:41:56.978150Z",
     "start_time": "2024-03-01T23:41:56.976463Z"
    }
   },
   "id": "f1c77b389768cd89",
   "execution_count": 72
  },
  {
   "cell_type": "code",
   "outputs": [
    {
     "data": {
      "text/plain": "(torch.Size([4898]), torch.bool, tensor(20))"
     },
     "execution_count": 73,
     "metadata": {},
     "output_type": "execute_result"
    }
   ],
   "source": [
    "bad_indexes.shape, bad_indexes.dtype, bad_indexes.sum()"
   ],
   "metadata": {
    "collapsed": false,
    "ExecuteTime": {
     "end_time": "2024-03-01T23:41:56.981215Z",
     "start_time": "2024-03-01T23:41:56.978833Z"
    }
   },
   "id": "1fcf978156bc0db6",
   "execution_count": 73
  },
  {
   "cell_type": "code",
   "outputs": [
    {
     "data": {
      "text/plain": "torch.Size([20, 11])"
     },
     "execution_count": 74,
     "metadata": {},
     "output_type": "execute_result"
    }
   ],
   "source": [
    "bad_data = data[bad_indexes]\n",
    "bad_data.shape"
   ],
   "metadata": {
    "collapsed": false,
    "ExecuteTime": {
     "end_time": "2024-03-01T23:41:56.984095Z",
     "start_time": "2024-03-01T23:41:56.981810Z"
    }
   },
   "id": "8301b95298dca0cf",
   "execution_count": 74
  },
  {
   "cell_type": "code",
   "outputs": [
    {
     "name": "stdout",
     "output_type": "stream",
     "text": [
      " 0 fixed acidity          7.60   6.89   6.73\n",
      " 1 volatile acidity       0.33   0.28   0.27\n",
      " 2 citric acid            0.34   0.34   0.33\n",
      " 3 residual sugar         6.39   6.71   5.26\n",
      " 4 chlorides              0.05   0.05   0.04\n",
      " 5 free sulfur dioxide   53.33  35.42  34.55\n",
      " 6 total sulfur dioxide 170.60 141.83 125.25\n",
      " 7 density                0.99   0.99   0.99\n",
      " 8 pH                     3.19   3.18   3.22\n",
      " 9 sulphates              0.47   0.49   0.50\n",
      "10 alcohol               10.34  10.26  11.42\n"
     ]
    }
   ],
   "source": [
    "bad_data = data[target <= 3]\n",
    "mid_data = data[(target > 3) & (target < 7)]\n",
    "good_data = data[target >= 7]\n",
    "\n",
    "bad_mean = torch.mean(bad_data, dim=0)\n",
    "mid_mean = torch.mean(mid_data, dim=0)\n",
    "good_mean = torch.mean(good_data, dim=0)\n",
    "\n",
    "for i, args in enumerate(zip(col_list, bad_mean, mid_mean, good_mean)):\n",
    "    print('{:2} {:20} {:6.2f} {:6.2f} {:6.2f}'.format(i, *args))"
   ],
   "metadata": {
    "collapsed": false,
    "ExecuteTime": {
     "end_time": "2024-03-01T23:41:56.988186Z",
     "start_time": "2024-03-01T23:41:56.984745Z"
    }
   },
   "id": "2ce6963d06906913",
   "execution_count": 75
  },
  {
   "cell_type": "code",
   "outputs": [
    {
     "data": {
      "text/plain": "(torch.Size([4898]), torch.bool, tensor(2727))"
     },
     "execution_count": 76,
     "metadata": {},
     "output_type": "execute_result"
    }
   ],
   "source": [
    "total_sulfur_threshold = 141.83\n",
    "total_sulfur_data = data[:,6]\n",
    "predicted_indexes = torch.lt(total_sulfur_data, total_sulfur_threshold)\n",
    "predicted_indexes.shape, predicted_indexes.dtype, predicted_indexes.sum()"
   ],
   "metadata": {
    "collapsed": false,
    "ExecuteTime": {
     "end_time": "2024-03-01T23:41:56.994790Z",
     "start_time": "2024-03-01T23:41:56.988871Z"
    }
   },
   "id": "8e420936d4408eda",
   "execution_count": 76
  },
  {
   "cell_type": "code",
   "outputs": [
    {
     "data": {
      "text/plain": "(torch.Size([4898]), torch.bool, tensor(3258))"
     },
     "execution_count": 77,
     "metadata": {},
     "output_type": "execute_result"
    }
   ],
   "source": [
    "actual_indexes = target > 5\n",
    "actual_indexes.shape, actual_indexes.dtype, actual_indexes.sum()"
   ],
   "metadata": {
    "collapsed": false,
    "ExecuteTime": {
     "end_time": "2024-03-01T23:41:56.997891Z",
     "start_time": "2024-03-01T23:41:56.995437Z"
    }
   },
   "id": "7093b2ca0f0ecfd6",
   "execution_count": 77
  },
  {
   "cell_type": "code",
   "outputs": [
    {
     "data": {
      "text/plain": "(2018, 0.74000733406674, 0.6193984039287906)"
     },
     "execution_count": 78,
     "metadata": {},
     "output_type": "execute_result"
    }
   ],
   "source": [
    "n_matches = torch.sum(actual_indexes & predicted_indexes).item()\n",
    "n_predicted = torch.sum(predicted_indexes).item()\n",
    "n_actual = torch.sum(actual_indexes).item()\n",
    "n_matches, n_matches / n_predicted, n_matches / n_actual"
   ],
   "metadata": {
    "collapsed": false,
    "ExecuteTime": {
     "end_time": "2024-03-01T23:41:57.001230Z",
     "start_time": "2024-03-01T23:41:56.998596Z"
    }
   },
   "id": "360b97bbf3b7279f",
   "execution_count": 78
  },
  {
   "cell_type": "markdown",
   "source": [
    "# Time series data"
   ],
   "metadata": {
    "collapsed": false
   },
   "id": "aee7d4df821d1488"
  },
  {
   "cell_type": "code",
   "outputs": [
    {
     "data": {
      "text/plain": "tensor([[1.0000e+00, 1.0000e+00, 1.0000e+00,  ..., 3.0000e+00, 1.3000e+01,\n         1.6000e+01],\n        [2.0000e+00, 1.0000e+00, 1.0000e+00,  ..., 8.0000e+00, 3.2000e+01,\n         4.0000e+01],\n        [3.0000e+00, 1.0000e+00, 1.0000e+00,  ..., 5.0000e+00, 2.7000e+01,\n         3.2000e+01],\n        ...,\n        [1.7377e+04, 3.1000e+01, 1.0000e+00,  ..., 7.0000e+00, 8.3000e+01,\n         9.0000e+01],\n        [1.7378e+04, 3.1000e+01, 1.0000e+00,  ..., 1.3000e+01, 4.8000e+01,\n         6.1000e+01],\n        [1.7379e+04, 3.1000e+01, 1.0000e+00,  ..., 1.2000e+01, 3.7000e+01,\n         4.9000e+01]])"
     },
     "execution_count": 79,
     "metadata": {},
     "output_type": "execute_result"
    }
   ],
   "source": [
    "bikes_numpy = np.loadtxt(\"./data/04/bike-sharing-dataset/hour-fixed.csv\",\n",
    "                         dtype=np.float32,\n",
    "                         delimiter=\",\",\n",
    "                         skiprows=1,\n",
    "                         converters={1: lambda x: float(x[8:10])})\n",
    "bikes = torch.from_numpy(bikes_numpy)\n",
    "bikes"
   ],
   "metadata": {
    "collapsed": false,
    "ExecuteTime": {
     "end_time": "2024-03-01T23:41:57.018582Z",
     "start_time": "2024-03-01T23:41:57.001804Z"
    }
   },
   "id": "9ae127e40f3a7d86",
   "execution_count": 79
  },
  {
   "cell_type": "code",
   "outputs": [
    {
     "data": {
      "text/plain": "(torch.Size([17520, 17]), (17, 1))"
     },
     "execution_count": 80,
     "metadata": {},
     "output_type": "execute_result"
    }
   ],
   "source": [
    "bikes.shape, bikes.stride()"
   ],
   "metadata": {
    "collapsed": false,
    "ExecuteTime": {
     "end_time": "2024-03-01T23:41:57.021344Z",
     "start_time": "2024-03-01T23:41:57.019203Z"
    }
   },
   "id": "5ef1c0a1e974a0c2",
   "execution_count": 80
  },
  {
   "cell_type": "code",
   "outputs": [
    {
     "data": {
      "text/plain": "(torch.Size([730, 24, 17]), (408, 17, 1))"
     },
     "execution_count": 81,
     "metadata": {},
     "output_type": "execute_result"
    }
   ],
   "source": [
    "daily_bikes = bikes.view(-1, 24, bikes.shape[1])\n",
    "daily_bikes.shape, daily_bikes.stride()"
   ],
   "metadata": {
    "collapsed": false,
    "ExecuteTime": {
     "end_time": "2024-03-01T23:41:57.024327Z",
     "start_time": "2024-03-01T23:41:57.021881Z"
    }
   },
   "id": "2db981ea6d14dc05",
   "execution_count": 81
  },
  {
   "cell_type": "code",
   "outputs": [
    {
     "data": {
      "text/plain": "(torch.Size([730, 17, 24]), (408, 1, 17))"
     },
     "execution_count": 82,
     "metadata": {},
     "output_type": "execute_result"
    }
   ],
   "source": [
    "daily_bikes = daily_bikes.transpose(1, 2)\n",
    "daily_bikes.shape, daily_bikes.stride()"
   ],
   "metadata": {
    "collapsed": false,
    "ExecuteTime": {
     "end_time": "2024-03-01T23:41:57.027157Z",
     "start_time": "2024-03-01T23:41:57.024929Z"
    }
   },
   "id": "ceb5accd4be63657",
   "execution_count": 82
  },
  {
   "cell_type": "code",
   "outputs": [
    {
     "data": {
      "text/plain": "tensor([1, 1, 1, 1, 1, 2, 1, 1, 1, 1, 1, 1, 1, 2, 2, 2, 2, 2, 3, 3, 2, 2, 2, 2])"
     },
     "execution_count": 83,
     "metadata": {},
     "output_type": "execute_result"
    }
   ],
   "source": [
    "first_day = bikes[:24].long()\n",
    "weather_onehot = torch.zeros(first_day.shape[0], 4)\n",
    "first_day[:,9]"
   ],
   "metadata": {
    "collapsed": false,
    "ExecuteTime": {
     "end_time": "2024-03-01T23:41:57.030260Z",
     "start_time": "2024-03-01T23:41:57.027734Z"
    }
   },
   "id": "27b25e60e333f1ca",
   "execution_count": 83
  },
  {
   "cell_type": "code",
   "outputs": [
    {
     "data": {
      "text/plain": "tensor([[1., 0., 0., 0.],\n        [1., 0., 0., 0.],\n        [1., 0., 0., 0.],\n        [1., 0., 0., 0.],\n        [1., 0., 0., 0.],\n        [0., 1., 0., 0.],\n        [1., 0., 0., 0.],\n        [1., 0., 0., 0.],\n        [1., 0., 0., 0.],\n        [1., 0., 0., 0.],\n        [1., 0., 0., 0.],\n        [1., 0., 0., 0.],\n        [1., 0., 0., 0.],\n        [0., 1., 0., 0.],\n        [0., 1., 0., 0.],\n        [0., 1., 0., 0.],\n        [0., 1., 0., 0.],\n        [0., 1., 0., 0.],\n        [0., 0., 1., 0.],\n        [0., 0., 1., 0.],\n        [0., 1., 0., 0.],\n        [0., 1., 0., 0.],\n        [0., 1., 0., 0.],\n        [0., 1., 0., 0.]])"
     },
     "execution_count": 84,
     "metadata": {},
     "output_type": "execute_result"
    }
   ],
   "source": [
    "weather_onehot.scatter_(\n",
    "    dim=1,\n",
    "    index=first_day[:,9].unsqueeze(1).long() - 1,\n",
    "    value=1.0)"
   ],
   "metadata": {
    "collapsed": false,
    "ExecuteTime": {
     "end_time": "2024-03-01T23:41:57.033718Z",
     "start_time": "2024-03-01T23:41:57.030877Z"
    }
   },
   "id": "a9c4cbe259bc1d09",
   "execution_count": 84
  },
  {
   "cell_type": "code",
   "outputs": [
    {
     "data": {
      "text/plain": "tensor([[ 1.0000,  1.0000,  1.0000,  0.0000,  1.0000,  0.0000,  0.0000,  6.0000,\n          0.0000,  1.0000,  0.2400,  0.2879,  0.8100,  0.0000,  3.0000, 13.0000,\n         16.0000,  1.0000,  0.0000,  0.0000,  0.0000]])"
     },
     "execution_count": 85,
     "metadata": {},
     "output_type": "execute_result"
    }
   ],
   "source": [
    "torch.cat((bikes[:24], weather_onehot), 1)[:1]"
   ],
   "metadata": {
    "collapsed": false,
    "ExecuteTime": {
     "end_time": "2024-03-01T23:41:57.038494Z",
     "start_time": "2024-03-01T23:41:57.035826Z"
    }
   },
   "id": "8465e3c880746809",
   "execution_count": 85
  },
  {
   "cell_type": "code",
   "outputs": [
    {
     "data": {
      "text/plain": "torch.Size([730, 4, 24])"
     },
     "execution_count": 86,
     "metadata": {},
     "output_type": "execute_result"
    }
   ],
   "source": [
    "daily_weather_onehot = torch.zeros(daily_bikes.shape[0], 4, daily_bikes.shape[2])\n",
    "daily_weather_onehot.shape"
   ],
   "metadata": {
    "collapsed": false,
    "ExecuteTime": {
     "end_time": "2024-03-01T23:41:57.041619Z",
     "start_time": "2024-03-01T23:41:57.039171Z"
    }
   },
   "id": "494a60dbe99577b5",
   "execution_count": 86
  },
  {
   "cell_type": "code",
   "outputs": [
    {
     "data": {
      "text/plain": "torch.Size([730, 4, 24])"
     },
     "execution_count": 87,
     "metadata": {},
     "output_type": "execute_result"
    }
   ],
   "source": [
    "daily_weather_onehot.scatter_(1, daily_bikes[:,9,:].long().unsqueeze(1) - 1, 1.0)\n",
    "daily_weather_onehot.shape"
   ],
   "metadata": {
    "collapsed": false,
    "ExecuteTime": {
     "end_time": "2024-03-01T23:41:57.045092Z",
     "start_time": "2024-03-01T23:41:57.042357Z"
    }
   },
   "id": "17aa9c79739206d1",
   "execution_count": 87
  },
  {
   "cell_type": "code",
   "outputs": [
    {
     "data": {
      "text/plain": "tensor([[[1.0000e+00, 2.0000e+00, 3.0000e+00,  ..., 2.2000e+01,\n          2.3000e+01, 2.4000e+01],\n         [1.0000e+00, 1.0000e+00, 1.0000e+00,  ..., 1.0000e+00,\n          1.0000e+00, 1.0000e+00],\n         [1.0000e+00, 1.0000e+00, 1.0000e+00,  ..., 1.0000e+00,\n          1.0000e+00, 1.0000e+00],\n         ...,\n         [0.0000e+00, 0.0000e+00, 0.0000e+00,  ..., 1.0000e+00,\n          1.0000e+00, 1.0000e+00],\n         [0.0000e+00, 0.0000e+00, 0.0000e+00,  ..., 0.0000e+00,\n          0.0000e+00, 0.0000e+00],\n         [0.0000e+00, 0.0000e+00, 0.0000e+00,  ..., 0.0000e+00,\n          0.0000e+00, 0.0000e+00]],\n\n        [[2.5000e+01, 2.6000e+01, 2.7000e+01,  ..., 4.5000e+01,\n          4.6000e+01, 4.7000e+01],\n         [2.0000e+00, 2.0000e+00, 2.0000e+00,  ..., 2.0000e+00,\n          2.0000e+00, 2.0000e+00],\n         [1.0000e+00, 1.0000e+00, 1.0000e+00,  ..., 1.0000e+00,\n          1.0000e+00, 1.0000e+00],\n         ...,\n         [1.0000e+00, 1.0000e+00, 1.0000e+00,  ..., 0.0000e+00,\n          0.0000e+00, 0.0000e+00],\n         [0.0000e+00, 0.0000e+00, 0.0000e+00,  ..., 0.0000e+00,\n          0.0000e+00, 0.0000e+00],\n         [0.0000e+00, 0.0000e+00, 0.0000e+00,  ..., 0.0000e+00,\n          0.0000e+00, 0.0000e+00]],\n\n        [[4.8000e+01, 4.9000e+01, 4.9000e+01,  ..., 6.7000e+01,\n          6.8000e+01, 6.9000e+01],\n         [3.0000e+00, 3.0000e+00, 3.0000e+00,  ..., 3.0000e+00,\n          3.0000e+00, 3.0000e+00],\n         [1.0000e+00, 1.0000e+00, 1.0000e+00,  ..., 1.0000e+00,\n          1.0000e+00, 1.0000e+00],\n         ...,\n         [0.0000e+00, 0.0000e+00, 0.0000e+00,  ..., 0.0000e+00,\n          0.0000e+00, 0.0000e+00],\n         [0.0000e+00, 0.0000e+00, 0.0000e+00,  ..., 0.0000e+00,\n          0.0000e+00, 0.0000e+00],\n         [0.0000e+00, 0.0000e+00, 0.0000e+00,  ..., 0.0000e+00,\n          0.0000e+00, 0.0000e+00]],\n\n        ...,\n\n        [[1.7308e+04, 1.7309e+04, 1.7310e+04,  ..., 1.7329e+04,\n          1.7330e+04, 1.7331e+04],\n         [2.9000e+01, 2.9000e+01, 2.9000e+01,  ..., 2.9000e+01,\n          2.9000e+01, 2.9000e+01],\n         [1.0000e+00, 1.0000e+00, 1.0000e+00,  ..., 1.0000e+00,\n          1.0000e+00, 1.0000e+00],\n         ...,\n         [1.0000e+00, 1.0000e+00, 1.0000e+00,  ..., 1.0000e+00,\n          1.0000e+00, 1.0000e+00],\n         [0.0000e+00, 0.0000e+00, 0.0000e+00,  ..., 0.0000e+00,\n          0.0000e+00, 0.0000e+00],\n         [0.0000e+00, 0.0000e+00, 0.0000e+00,  ..., 0.0000e+00,\n          0.0000e+00, 0.0000e+00]],\n\n        [[1.7332e+04, 1.7333e+04, 1.7334e+04,  ..., 1.7353e+04,\n          1.7354e+04, 1.7355e+04],\n         [3.0000e+01, 3.0000e+01, 3.0000e+01,  ..., 3.0000e+01,\n          3.0000e+01, 3.0000e+01],\n         [1.0000e+00, 1.0000e+00, 1.0000e+00,  ..., 1.0000e+00,\n          1.0000e+00, 1.0000e+00],\n         ...,\n         [1.0000e+00, 1.0000e+00, 1.0000e+00,  ..., 0.0000e+00,\n          0.0000e+00, 0.0000e+00],\n         [0.0000e+00, 0.0000e+00, 0.0000e+00,  ..., 0.0000e+00,\n          0.0000e+00, 0.0000e+00],\n         [0.0000e+00, 0.0000e+00, 0.0000e+00,  ..., 0.0000e+00,\n          0.0000e+00, 0.0000e+00]],\n\n        [[1.7356e+04, 1.7357e+04, 1.7358e+04,  ..., 1.7377e+04,\n          1.7378e+04, 1.7379e+04],\n         [3.1000e+01, 3.1000e+01, 3.1000e+01,  ..., 3.1000e+01,\n          3.1000e+01, 3.1000e+01],\n         [1.0000e+00, 1.0000e+00, 1.0000e+00,  ..., 1.0000e+00,\n          1.0000e+00, 1.0000e+00],\n         ...,\n         [0.0000e+00, 0.0000e+00, 0.0000e+00,  ..., 0.0000e+00,\n          0.0000e+00, 0.0000e+00],\n         [0.0000e+00, 0.0000e+00, 0.0000e+00,  ..., 0.0000e+00,\n          0.0000e+00, 0.0000e+00],\n         [0.0000e+00, 0.0000e+00, 0.0000e+00,  ..., 0.0000e+00,\n          0.0000e+00, 0.0000e+00]]])"
     },
     "execution_count": 88,
     "metadata": {},
     "output_type": "execute_result"
    }
   ],
   "source": [
    "daily_bikes = torch.cat((daily_bikes, daily_weather_onehot), dim=1)\n",
    "daily_bikes"
   ],
   "metadata": {
    "collapsed": false,
    "ExecuteTime": {
     "end_time": "2024-03-01T23:41:57.050918Z",
     "start_time": "2024-03-01T23:41:57.045714Z"
    }
   },
   "id": "4e0597ec0a09d814",
   "execution_count": 88
  },
  {
   "cell_type": "code",
   "outputs": [
    {
     "data": {
      "text/plain": "tensor([[[1.0000e+00, 2.0000e+00, 3.0000e+00,  ..., 2.2000e+01,\n          2.3000e+01, 2.4000e+01],\n         [1.0000e+00, 1.0000e+00, 1.0000e+00,  ..., 1.0000e+00,\n          1.0000e+00, 1.0000e+00],\n         [1.0000e+00, 1.0000e+00, 1.0000e+00,  ..., 1.0000e+00,\n          1.0000e+00, 1.0000e+00],\n         ...,\n         [0.0000e+00, 0.0000e+00, 0.0000e+00,  ..., 1.0000e+00,\n          1.0000e+00, 1.0000e+00],\n         [0.0000e+00, 0.0000e+00, 0.0000e+00,  ..., 0.0000e+00,\n          0.0000e+00, 0.0000e+00],\n         [0.0000e+00, 0.0000e+00, 0.0000e+00,  ..., 0.0000e+00,\n          0.0000e+00, 0.0000e+00]],\n\n        [[2.5000e+01, 2.6000e+01, 2.7000e+01,  ..., 4.5000e+01,\n          4.6000e+01, 4.7000e+01],\n         [2.0000e+00, 2.0000e+00, 2.0000e+00,  ..., 2.0000e+00,\n          2.0000e+00, 2.0000e+00],\n         [1.0000e+00, 1.0000e+00, 1.0000e+00,  ..., 1.0000e+00,\n          1.0000e+00, 1.0000e+00],\n         ...,\n         [1.0000e+00, 1.0000e+00, 1.0000e+00,  ..., 0.0000e+00,\n          0.0000e+00, 0.0000e+00],\n         [0.0000e+00, 0.0000e+00, 0.0000e+00,  ..., 0.0000e+00,\n          0.0000e+00, 0.0000e+00],\n         [0.0000e+00, 0.0000e+00, 0.0000e+00,  ..., 0.0000e+00,\n          0.0000e+00, 0.0000e+00]],\n\n        [[4.8000e+01, 4.9000e+01, 4.9000e+01,  ..., 6.7000e+01,\n          6.8000e+01, 6.9000e+01],\n         [3.0000e+00, 3.0000e+00, 3.0000e+00,  ..., 3.0000e+00,\n          3.0000e+00, 3.0000e+00],\n         [1.0000e+00, 1.0000e+00, 1.0000e+00,  ..., 1.0000e+00,\n          1.0000e+00, 1.0000e+00],\n         ...,\n         [0.0000e+00, 0.0000e+00, 0.0000e+00,  ..., 0.0000e+00,\n          0.0000e+00, 0.0000e+00],\n         [0.0000e+00, 0.0000e+00, 0.0000e+00,  ..., 0.0000e+00,\n          0.0000e+00, 0.0000e+00],\n         [0.0000e+00, 0.0000e+00, 0.0000e+00,  ..., 0.0000e+00,\n          0.0000e+00, 0.0000e+00]],\n\n        ...,\n\n        [[1.7308e+04, 1.7309e+04, 1.7310e+04,  ..., 1.7329e+04,\n          1.7330e+04, 1.7331e+04],\n         [2.9000e+01, 2.9000e+01, 2.9000e+01,  ..., 2.9000e+01,\n          2.9000e+01, 2.9000e+01],\n         [1.0000e+00, 1.0000e+00, 1.0000e+00,  ..., 1.0000e+00,\n          1.0000e+00, 1.0000e+00],\n         ...,\n         [1.0000e+00, 1.0000e+00, 1.0000e+00,  ..., 1.0000e+00,\n          1.0000e+00, 1.0000e+00],\n         [0.0000e+00, 0.0000e+00, 0.0000e+00,  ..., 0.0000e+00,\n          0.0000e+00, 0.0000e+00],\n         [0.0000e+00, 0.0000e+00, 0.0000e+00,  ..., 0.0000e+00,\n          0.0000e+00, 0.0000e+00]],\n\n        [[1.7332e+04, 1.7333e+04, 1.7334e+04,  ..., 1.7353e+04,\n          1.7354e+04, 1.7355e+04],\n         [3.0000e+01, 3.0000e+01, 3.0000e+01,  ..., 3.0000e+01,\n          3.0000e+01, 3.0000e+01],\n         [1.0000e+00, 1.0000e+00, 1.0000e+00,  ..., 1.0000e+00,\n          1.0000e+00, 1.0000e+00],\n         ...,\n         [1.0000e+00, 1.0000e+00, 1.0000e+00,  ..., 0.0000e+00,\n          0.0000e+00, 0.0000e+00],\n         [0.0000e+00, 0.0000e+00, 0.0000e+00,  ..., 0.0000e+00,\n          0.0000e+00, 0.0000e+00],\n         [0.0000e+00, 0.0000e+00, 0.0000e+00,  ..., 0.0000e+00,\n          0.0000e+00, 0.0000e+00]],\n\n        [[1.7356e+04, 1.7357e+04, 1.7358e+04,  ..., 1.7377e+04,\n          1.7378e+04, 1.7379e+04],\n         [3.1000e+01, 3.1000e+01, 3.1000e+01,  ..., 3.1000e+01,\n          3.1000e+01, 3.1000e+01],\n         [1.0000e+00, 1.0000e+00, 1.0000e+00,  ..., 1.0000e+00,\n          1.0000e+00, 1.0000e+00],\n         ...,\n         [0.0000e+00, 0.0000e+00, 0.0000e+00,  ..., 0.0000e+00,\n          0.0000e+00, 0.0000e+00],\n         [0.0000e+00, 0.0000e+00, 0.0000e+00,  ..., 0.0000e+00,\n          0.0000e+00, 0.0000e+00],\n         [0.0000e+00, 0.0000e+00, 0.0000e+00,  ..., 0.0000e+00,\n          0.0000e+00, 0.0000e+00]]])"
     },
     "execution_count": 89,
     "metadata": {},
     "output_type": "execute_result"
    }
   ],
   "source": [
    "daily_bikes[:, 9, :] = (daily_bikes[:, 9, :] - 1.0) / 3.0\n",
    "daily_bikes"
   ],
   "metadata": {
    "collapsed": false,
    "ExecuteTime": {
     "end_time": "2024-03-01T23:41:57.055898Z",
     "start_time": "2024-03-01T23:41:57.051526Z"
    }
   },
   "id": "b2d8b87ad65fd7f9",
   "execution_count": 89
  },
  {
   "cell_type": "code",
   "outputs": [
    {
     "data": {
      "text/plain": "tensor([[[1.0000e+00, 2.0000e+00, 3.0000e+00,  ..., 2.2000e+01,\n          2.3000e+01, 2.4000e+01],\n         [1.0000e+00, 1.0000e+00, 1.0000e+00,  ..., 1.0000e+00,\n          1.0000e+00, 1.0000e+00],\n         [1.0000e+00, 1.0000e+00, 1.0000e+00,  ..., 1.0000e+00,\n          1.0000e+00, 1.0000e+00],\n         ...,\n         [0.0000e+00, 0.0000e+00, 0.0000e+00,  ..., 1.0000e+00,\n          1.0000e+00, 1.0000e+00],\n         [0.0000e+00, 0.0000e+00, 0.0000e+00,  ..., 0.0000e+00,\n          0.0000e+00, 0.0000e+00],\n         [0.0000e+00, 0.0000e+00, 0.0000e+00,  ..., 0.0000e+00,\n          0.0000e+00, 0.0000e+00]],\n\n        [[2.5000e+01, 2.6000e+01, 2.7000e+01,  ..., 4.5000e+01,\n          4.6000e+01, 4.7000e+01],\n         [2.0000e+00, 2.0000e+00, 2.0000e+00,  ..., 2.0000e+00,\n          2.0000e+00, 2.0000e+00],\n         [1.0000e+00, 1.0000e+00, 1.0000e+00,  ..., 1.0000e+00,\n          1.0000e+00, 1.0000e+00],\n         ...,\n         [1.0000e+00, 1.0000e+00, 1.0000e+00,  ..., 0.0000e+00,\n          0.0000e+00, 0.0000e+00],\n         [0.0000e+00, 0.0000e+00, 0.0000e+00,  ..., 0.0000e+00,\n          0.0000e+00, 0.0000e+00],\n         [0.0000e+00, 0.0000e+00, 0.0000e+00,  ..., 0.0000e+00,\n          0.0000e+00, 0.0000e+00]],\n\n        [[4.8000e+01, 4.9000e+01, 4.9000e+01,  ..., 6.7000e+01,\n          6.8000e+01, 6.9000e+01],\n         [3.0000e+00, 3.0000e+00, 3.0000e+00,  ..., 3.0000e+00,\n          3.0000e+00, 3.0000e+00],\n         [1.0000e+00, 1.0000e+00, 1.0000e+00,  ..., 1.0000e+00,\n          1.0000e+00, 1.0000e+00],\n         ...,\n         [0.0000e+00, 0.0000e+00, 0.0000e+00,  ..., 0.0000e+00,\n          0.0000e+00, 0.0000e+00],\n         [0.0000e+00, 0.0000e+00, 0.0000e+00,  ..., 0.0000e+00,\n          0.0000e+00, 0.0000e+00],\n         [0.0000e+00, 0.0000e+00, 0.0000e+00,  ..., 0.0000e+00,\n          0.0000e+00, 0.0000e+00]],\n\n        ...,\n\n        [[1.7308e+04, 1.7309e+04, 1.7310e+04,  ..., 1.7329e+04,\n          1.7330e+04, 1.7331e+04],\n         [2.9000e+01, 2.9000e+01, 2.9000e+01,  ..., 2.9000e+01,\n          2.9000e+01, 2.9000e+01],\n         [1.0000e+00, 1.0000e+00, 1.0000e+00,  ..., 1.0000e+00,\n          1.0000e+00, 1.0000e+00],\n         ...,\n         [1.0000e+00, 1.0000e+00, 1.0000e+00,  ..., 1.0000e+00,\n          1.0000e+00, 1.0000e+00],\n         [0.0000e+00, 0.0000e+00, 0.0000e+00,  ..., 0.0000e+00,\n          0.0000e+00, 0.0000e+00],\n         [0.0000e+00, 0.0000e+00, 0.0000e+00,  ..., 0.0000e+00,\n          0.0000e+00, 0.0000e+00]],\n\n        [[1.7332e+04, 1.7333e+04, 1.7334e+04,  ..., 1.7353e+04,\n          1.7354e+04, 1.7355e+04],\n         [3.0000e+01, 3.0000e+01, 3.0000e+01,  ..., 3.0000e+01,\n          3.0000e+01, 3.0000e+01],\n         [1.0000e+00, 1.0000e+00, 1.0000e+00,  ..., 1.0000e+00,\n          1.0000e+00, 1.0000e+00],\n         ...,\n         [1.0000e+00, 1.0000e+00, 1.0000e+00,  ..., 0.0000e+00,\n          0.0000e+00, 0.0000e+00],\n         [0.0000e+00, 0.0000e+00, 0.0000e+00,  ..., 0.0000e+00,\n          0.0000e+00, 0.0000e+00],\n         [0.0000e+00, 0.0000e+00, 0.0000e+00,  ..., 0.0000e+00,\n          0.0000e+00, 0.0000e+00]],\n\n        [[1.7356e+04, 1.7357e+04, 1.7358e+04,  ..., 1.7377e+04,\n          1.7378e+04, 1.7379e+04],\n         [3.1000e+01, 3.1000e+01, 3.1000e+01,  ..., 3.1000e+01,\n          3.1000e+01, 3.1000e+01],\n         [1.0000e+00, 1.0000e+00, 1.0000e+00,  ..., 1.0000e+00,\n          1.0000e+00, 1.0000e+00],\n         ...,\n         [0.0000e+00, 0.0000e+00, 0.0000e+00,  ..., 0.0000e+00,\n          0.0000e+00, 0.0000e+00],\n         [0.0000e+00, 0.0000e+00, 0.0000e+00,  ..., 0.0000e+00,\n          0.0000e+00, 0.0000e+00],\n         [0.0000e+00, 0.0000e+00, 0.0000e+00,  ..., 0.0000e+00,\n          0.0000e+00, 0.0000e+00]]])"
     },
     "execution_count": 90,
     "metadata": {},
     "output_type": "execute_result"
    }
   ],
   "source": [
    "temp = daily_bikes[:, 10, :]\n",
    "temp_min = torch.min(temp)\n",
    "temp_max = torch.max(temp)\n",
    "daily_bikes[:, 10, :] = ((daily_bikes[:, 10, :] - temp_min) / (temp_max - temp_min))\n",
    "daily_bikes"
   ],
   "metadata": {
    "collapsed": false,
    "ExecuteTime": {
     "end_time": "2024-03-01T23:41:57.061094Z",
     "start_time": "2024-03-01T23:41:57.056472Z"
    }
   },
   "id": "dd566502d9287f39",
   "execution_count": 90
  },
  {
   "cell_type": "code",
   "outputs": [
    {
     "data": {
      "text/plain": "tensor([[[1.0000e+00, 2.0000e+00, 3.0000e+00,  ..., 2.2000e+01,\n          2.3000e+01, 2.4000e+01],\n         [1.0000e+00, 1.0000e+00, 1.0000e+00,  ..., 1.0000e+00,\n          1.0000e+00, 1.0000e+00],\n         [1.0000e+00, 1.0000e+00, 1.0000e+00,  ..., 1.0000e+00,\n          1.0000e+00, 1.0000e+00],\n         ...,\n         [0.0000e+00, 0.0000e+00, 0.0000e+00,  ..., 1.0000e+00,\n          1.0000e+00, 1.0000e+00],\n         [0.0000e+00, 0.0000e+00, 0.0000e+00,  ..., 0.0000e+00,\n          0.0000e+00, 0.0000e+00],\n         [0.0000e+00, 0.0000e+00, 0.0000e+00,  ..., 0.0000e+00,\n          0.0000e+00, 0.0000e+00]],\n\n        [[2.5000e+01, 2.6000e+01, 2.7000e+01,  ..., 4.5000e+01,\n          4.6000e+01, 4.7000e+01],\n         [2.0000e+00, 2.0000e+00, 2.0000e+00,  ..., 2.0000e+00,\n          2.0000e+00, 2.0000e+00],\n         [1.0000e+00, 1.0000e+00, 1.0000e+00,  ..., 1.0000e+00,\n          1.0000e+00, 1.0000e+00],\n         ...,\n         [1.0000e+00, 1.0000e+00, 1.0000e+00,  ..., 0.0000e+00,\n          0.0000e+00, 0.0000e+00],\n         [0.0000e+00, 0.0000e+00, 0.0000e+00,  ..., 0.0000e+00,\n          0.0000e+00, 0.0000e+00],\n         [0.0000e+00, 0.0000e+00, 0.0000e+00,  ..., 0.0000e+00,\n          0.0000e+00, 0.0000e+00]],\n\n        [[4.8000e+01, 4.9000e+01, 4.9000e+01,  ..., 6.7000e+01,\n          6.8000e+01, 6.9000e+01],\n         [3.0000e+00, 3.0000e+00, 3.0000e+00,  ..., 3.0000e+00,\n          3.0000e+00, 3.0000e+00],\n         [1.0000e+00, 1.0000e+00, 1.0000e+00,  ..., 1.0000e+00,\n          1.0000e+00, 1.0000e+00],\n         ...,\n         [0.0000e+00, 0.0000e+00, 0.0000e+00,  ..., 0.0000e+00,\n          0.0000e+00, 0.0000e+00],\n         [0.0000e+00, 0.0000e+00, 0.0000e+00,  ..., 0.0000e+00,\n          0.0000e+00, 0.0000e+00],\n         [0.0000e+00, 0.0000e+00, 0.0000e+00,  ..., 0.0000e+00,\n          0.0000e+00, 0.0000e+00]],\n\n        ...,\n\n        [[1.7308e+04, 1.7309e+04, 1.7310e+04,  ..., 1.7329e+04,\n          1.7330e+04, 1.7331e+04],\n         [2.9000e+01, 2.9000e+01, 2.9000e+01,  ..., 2.9000e+01,\n          2.9000e+01, 2.9000e+01],\n         [1.0000e+00, 1.0000e+00, 1.0000e+00,  ..., 1.0000e+00,\n          1.0000e+00, 1.0000e+00],\n         ...,\n         [1.0000e+00, 1.0000e+00, 1.0000e+00,  ..., 1.0000e+00,\n          1.0000e+00, 1.0000e+00],\n         [0.0000e+00, 0.0000e+00, 0.0000e+00,  ..., 0.0000e+00,\n          0.0000e+00, 0.0000e+00],\n         [0.0000e+00, 0.0000e+00, 0.0000e+00,  ..., 0.0000e+00,\n          0.0000e+00, 0.0000e+00]],\n\n        [[1.7332e+04, 1.7333e+04, 1.7334e+04,  ..., 1.7353e+04,\n          1.7354e+04, 1.7355e+04],\n         [3.0000e+01, 3.0000e+01, 3.0000e+01,  ..., 3.0000e+01,\n          3.0000e+01, 3.0000e+01],\n         [1.0000e+00, 1.0000e+00, 1.0000e+00,  ..., 1.0000e+00,\n          1.0000e+00, 1.0000e+00],\n         ...,\n         [1.0000e+00, 1.0000e+00, 1.0000e+00,  ..., 0.0000e+00,\n          0.0000e+00, 0.0000e+00],\n         [0.0000e+00, 0.0000e+00, 0.0000e+00,  ..., 0.0000e+00,\n          0.0000e+00, 0.0000e+00],\n         [0.0000e+00, 0.0000e+00, 0.0000e+00,  ..., 0.0000e+00,\n          0.0000e+00, 0.0000e+00]],\n\n        [[1.7356e+04, 1.7357e+04, 1.7358e+04,  ..., 1.7377e+04,\n          1.7378e+04, 1.7379e+04],\n         [3.1000e+01, 3.1000e+01, 3.1000e+01,  ..., 3.1000e+01,\n          3.1000e+01, 3.1000e+01],\n         [1.0000e+00, 1.0000e+00, 1.0000e+00,  ..., 1.0000e+00,\n          1.0000e+00, 1.0000e+00],\n         ...,\n         [0.0000e+00, 0.0000e+00, 0.0000e+00,  ..., 0.0000e+00,\n          0.0000e+00, 0.0000e+00],\n         [0.0000e+00, 0.0000e+00, 0.0000e+00,  ..., 0.0000e+00,\n          0.0000e+00, 0.0000e+00],\n         [0.0000e+00, 0.0000e+00, 0.0000e+00,  ..., 0.0000e+00,\n          0.0000e+00, 0.0000e+00]]])"
     },
     "execution_count": 91,
     "metadata": {},
     "output_type": "execute_result"
    }
   ],
   "source": [
    "temp = daily_bikes[:, 10, :]\n",
    "daily_bikes[:, 10, :] = ((daily_bikes[:, 10, :] - torch.mean(temp)) / torch.std(temp))\n",
    "daily_bikes"
   ],
   "metadata": {
    "collapsed": false,
    "ExecuteTime": {
     "end_time": "2024-03-01T23:41:57.066192Z",
     "start_time": "2024-03-01T23:41:57.061650Z"
    }
   },
   "id": "a9f9a03cfd15782e",
   "execution_count": 91
  },
  {
   "cell_type": "markdown",
   "source": [
    "# Text data"
   ],
   "metadata": {
    "collapsed": false
   },
   "id": "3d8f15d7906ae2a2"
  },
  {
   "cell_type": "code",
   "outputs": [],
   "source": [
    "with open('./data/04/jane-austen/1342-0.txt', encoding='utf8') as f:\n",
    "    text = f.read()"
   ],
   "metadata": {
    "collapsed": false,
    "ExecuteTime": {
     "end_time": "2024-03-01T23:41:57.068816Z",
     "start_time": "2024-03-01T23:41:57.066783Z"
    }
   },
   "id": "a50b39a782b73618",
   "execution_count": 92
  },
  {
   "cell_type": "code",
   "outputs": [
    {
     "data": {
      "text/plain": "'“Impossible, Mr. Bennet, impossible, when I am not acquainted with him'"
     },
     "execution_count": 93,
     "metadata": {},
     "output_type": "execute_result"
    }
   ],
   "source": [
    "lines = text.split('\\n')\n",
    "line = lines[200]\n",
    "line"
   ],
   "metadata": {
    "collapsed": false,
    "ExecuteTime": {
     "end_time": "2024-03-01T23:41:57.073088Z",
     "start_time": "2024-03-01T23:41:57.069350Z"
    }
   },
   "id": "18aaf0ae049e2ade",
   "execution_count": 93
  },
  {
   "cell_type": "code",
   "outputs": [
    {
     "data": {
      "text/plain": "torch.Size([70, 128])"
     },
     "execution_count": 94,
     "metadata": {},
     "output_type": "execute_result"
    }
   ],
   "source": [
    "letter_t = torch.zeros(len(line), 128)\n",
    "letter_t.shape"
   ],
   "metadata": {
    "collapsed": false,
    "ExecuteTime": {
     "end_time": "2024-03-01T23:41:57.075933Z",
     "start_time": "2024-03-01T23:41:57.073659Z"
    }
   },
   "id": "dec81700f78534e2",
   "execution_count": 94
  },
  {
   "cell_type": "code",
   "outputs": [
    {
     "data": {
      "text/plain": "tensor([0., 0., 0., 0., 0., 0., 0., 0., 0., 0., 0., 0., 0., 0., 0., 0., 0., 0.,\n        0., 0., 0., 0., 0., 0., 0., 0., 0., 0., 0., 0., 0., 0., 0., 0., 0., 0.,\n        0., 0., 0., 0., 0., 0., 0., 0., 0., 0., 0., 0., 0., 0., 0., 0., 0., 0.,\n        0., 0., 0., 0., 0., 0., 0., 0., 0., 0., 0., 0., 0., 0., 0., 0., 0., 0.,\n        0., 0., 0., 0., 0., 0., 0., 0., 0., 0., 0., 0., 0., 0., 0., 0., 0., 0.,\n        0., 0., 0., 0., 0., 0., 0., 0., 0., 0., 0., 0., 0., 0., 0., 0., 0., 0.,\n        0., 0., 0., 0., 1., 0., 0., 0., 0., 0., 0., 0., 0., 0., 0., 0., 0., 0.,\n        0., 0.])"
     },
     "execution_count": 95,
     "metadata": {},
     "output_type": "execute_result"
    }
   ],
   "source": [
    "for i, letter in enumerate(line.lower().strip()):\n",
    "  letter_index = ord(letter) if ord(letter) < 128 else 0\n",
    "  letter_t[i][letter_index] = 1\n",
    "letter_t[3]"
   ],
   "metadata": {
    "collapsed": false,
    "ExecuteTime": {
     "end_time": "2024-03-01T23:41:57.079694Z",
     "start_time": "2024-03-01T23:41:57.076487Z"
    }
   },
   "id": "3c38e2425577a51",
   "execution_count": 95
  },
  {
   "cell_type": "code",
   "outputs": [],
   "source": [
    "def clean_words(input_str):\n",
    "  punctuation = '.,;:\"!?”“_-'\n",
    "  word_list = input_str.lower().replace('\\n',' ').split()\n",
    "  word_list = [word.strip(punctuation) for word in word_list]\n",
    "  return word_list"
   ],
   "metadata": {
    "collapsed": false,
    "ExecuteTime": {
     "end_time": "2024-03-01T23:41:57.082468Z",
     "start_time": "2024-03-01T23:41:57.080329Z"
    }
   },
   "id": "37e740df68e543",
   "execution_count": 96
  },
  {
   "cell_type": "code",
   "outputs": [
    {
     "data": {
      "text/plain": "('“Impossible, Mr. Bennet, impossible, when I am not acquainted with him',\n ['impossible',\n  'mr',\n  'bennet',\n  'impossible',\n  'when',\n  'i',\n  'am',\n  'not',\n  'acquainted',\n  'with',\n  'him'])"
     },
     "execution_count": 97,
     "metadata": {},
     "output_type": "execute_result"
    }
   ],
   "source": [
    "words_in_line = clean_words(line)\n",
    "line, words_in_line"
   ],
   "metadata": {
    "collapsed": false,
    "ExecuteTime": {
     "end_time": "2024-03-01T23:41:57.085933Z",
     "start_time": "2024-03-01T23:41:57.083111Z"
    }
   },
   "id": "23493f6813165ee5",
   "execution_count": 97
  },
  {
   "cell_type": "code",
   "outputs": [],
   "source": [
    "word_list = sorted(set(clean_words(text)))\n",
    "word2index_dict = {word: i for (i, word) in enumerate(word_list)}"
   ],
   "metadata": {
    "collapsed": false,
    "ExecuteTime": {
     "end_time": "2024-03-01T23:41:57.106347Z",
     "start_time": "2024-03-01T23:41:57.086452Z"
    }
   },
   "id": "2dcd5b145928b25e",
   "execution_count": 98
  },
  {
   "cell_type": "code",
   "outputs": [
    {
     "data": {
      "text/plain": "(7261, 3394)"
     },
     "execution_count": 99,
     "metadata": {},
     "output_type": "execute_result"
    }
   ],
   "source": [
    "len(word2index_dict), word2index_dict['impossible']"
   ],
   "metadata": {
    "collapsed": false,
    "ExecuteTime": {
     "end_time": "2024-03-01T23:41:57.110106Z",
     "start_time": "2024-03-01T23:41:57.107099Z"
    }
   },
   "id": "ce7ee608d17ef5ff",
   "execution_count": 99
  },
  {
   "cell_type": "code",
   "outputs": [
    {
     "name": "stdout",
     "output_type": "stream",
     "text": [
      " 0 3394 impossible\n",
      " 1 4305 mr\n",
      " 2  813 bennet\n",
      " 3 3394 impossible\n",
      " 4 7078 when\n",
      " 5 3315 i\n",
      " 6  415 am\n",
      " 7 4436 not\n",
      " 8  239 acquainted\n",
      " 9 7148 with\n",
      "10 3215 him\n",
      "torch.Size([11, 7261])\n"
     ]
    }
   ],
   "source": [
    "word_t = torch.zeros(len(words_in_line), len(word2index_dict))\n",
    "for i, word in enumerate(words_in_line):\n",
    "  word_index = word2index_dict[word]\n",
    "  word_t[i][word_index] = 1\n",
    "  print('{:2} {:4} {}'.format(i, word_index, word))\n",
    "\n",
    "print(word_t.shape)"
   ],
   "metadata": {
    "collapsed": false,
    "ExecuteTime": {
     "end_time": "2024-03-01T23:41:57.113851Z",
     "start_time": "2024-03-01T23:41:57.110712Z"
    }
   },
   "id": "e76377dd3aee657f",
   "execution_count": 100
  },
  {
   "cell_type": "code",
   "outputs": [],
   "source": [],
   "metadata": {
    "collapsed": false,
    "ExecuteTime": {
     "end_time": "2024-03-01T23:41:57.115954Z",
     "start_time": "2024-03-01T23:41:57.114490Z"
    }
   },
   "id": "ee7ba3cb901d445a",
   "execution_count": 100
  }
 ],
 "metadata": {
  "kernelspec": {
   "display_name": "Python 3",
   "language": "python",
   "name": "python3"
  },
  "language_info": {
   "codemirror_mode": {
    "name": "ipython",
    "version": 2
   },
   "file_extension": ".py",
   "mimetype": "text/x-python",
   "name": "python",
   "nbconvert_exporter": "python",
   "pygments_lexer": "ipython2",
   "version": "2.7.6"
  }
 },
 "nbformat": 4,
 "nbformat_minor": 5
}
