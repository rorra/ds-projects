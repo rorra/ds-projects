{
 "cells": [
  {
   "cell_type": "code",
   "execution_count": 312,
   "id": "initial_id",
   "metadata": {
    "collapsed": true,
    "ExecuteTime": {
     "end_time": "2024-03-01T23:42:19.182093Z",
     "start_time": "2024-03-01T23:42:19.178355Z"
    }
   },
   "outputs": [
    {
     "data": {
      "text/plain": "<torch._C.Generator at 0x7febe17516f0>"
     },
     "execution_count": 312,
     "metadata": {},
     "output_type": "execute_result"
    }
   ],
   "source": [
    "%matplotlib inline\n",
    "from matplotlib import pyplot as plt\n",
    "import numpy as np\n",
    "import torch\n",
    "\n",
    "torch.set_printoptions(edgeitems=2)\n",
    "torch.manual_seed(123)"
   ]
  },
  {
   "cell_type": "code",
   "outputs": [
    {
     "name": "stdout",
     "output_type": "stream",
     "text": [
      "Files already downloaded and verified\n",
      "Files already downloaded and verified\n"
     ]
    }
   ],
   "source": [
    "from torchvision import datasets\n",
    "data_path = './data/07/'\n",
    "cifar10 = datasets.CIFAR10(data_path, train=True, download=True)\n",
    "cifar10_val = datasets.CIFAR10(data_path, train=False, download=True)"
   ],
   "metadata": {
    "collapsed": false,
    "ExecuteTime": {
     "end_time": "2024-03-01T23:42:20.182772Z",
     "start_time": "2024-03-01T23:42:19.262897Z"
    }
   },
   "id": "361aba2beff65afd",
   "execution_count": 313
  },
  {
   "cell_type": "code",
   "outputs": [
    {
     "data": {
      "text/plain": "(torchvision.datasets.cifar.CIFAR10,\n torchvision.datasets.vision.VisionDataset,\n torch.utils.data.dataset.Dataset,\n typing.Generic,\n object)"
     },
     "execution_count": 314,
     "metadata": {},
     "output_type": "execute_result"
    }
   ],
   "source": [
    "type(cifar10).__mro__"
   ],
   "metadata": {
    "collapsed": false,
    "ExecuteTime": {
     "end_time": "2024-03-01T23:42:20.186073Z",
     "start_time": "2024-03-01T23:42:20.183692Z"
    }
   },
   "id": "ff940181c5555f27",
   "execution_count": 314
  },
  {
   "cell_type": "code",
   "outputs": [
    {
     "data": {
      "text/plain": "50000"
     },
     "execution_count": 315,
     "metadata": {},
     "output_type": "execute_result"
    }
   ],
   "source": [
    "len(cifar10)"
   ],
   "metadata": {
    "collapsed": false,
    "ExecuteTime": {
     "end_time": "2024-03-01T23:42:20.192758Z",
     "start_time": "2024-03-01T23:42:20.186625Z"
    }
   },
   "id": "6f37cdfd9f34ae9d",
   "execution_count": 315
  },
  {
   "cell_type": "code",
   "outputs": [
    {
     "data": {
      "text/plain": "(<PIL.Image.Image image mode=RGB size=32x32>, 1, 'automobile')"
     },
     "execution_count": 316,
     "metadata": {},
     "output_type": "execute_result"
    }
   ],
   "source": [
    "class_names = ['airplane','automobile','bird','cat','deer', 'dog','frog','horse','ship','truck']\n",
    "img, label = cifar10[99]\n",
    "img, label, class_names[label]"
   ],
   "metadata": {
    "collapsed": false,
    "ExecuteTime": {
     "end_time": "2024-03-01T23:42:20.196250Z",
     "start_time": "2024-03-01T23:42:20.193632Z"
    }
   },
   "id": "d4fc85137aae64c1",
   "execution_count": 316
  },
  {
   "cell_type": "code",
   "outputs": [],
   "source": [
    "from torchvision import transforms\n",
    "to_tensor = transforms.ToTensor()"
   ],
   "metadata": {
    "collapsed": false,
    "ExecuteTime": {
     "end_time": "2024-03-01T23:42:20.198344Z",
     "start_time": "2024-03-01T23:42:20.196757Z"
    }
   },
   "id": "10aacd02b4958202",
   "execution_count": 317
  },
  {
   "cell_type": "code",
   "outputs": [
    {
     "data": {
      "text/plain": "torch.Size([3, 32, 32])"
     },
     "execution_count": 318,
     "metadata": {},
     "output_type": "execute_result"
    }
   ],
   "source": [
    "img_t = to_tensor(img)\n",
    "img_t.shape"
   ],
   "metadata": {
    "collapsed": false,
    "ExecuteTime": {
     "end_time": "2024-03-01T23:42:20.201486Z",
     "start_time": "2024-03-01T23:42:20.198895Z"
    }
   },
   "id": "97aae06b83cebcf1",
   "execution_count": 318
  },
  {
   "cell_type": "code",
   "outputs": [],
   "source": [
    "tensor_cifar10 = datasets.CIFAR10(data_path, train=True, download=False,\n",
    "transform=transforms.ToTensor())"
   ],
   "metadata": {
    "collapsed": false,
    "ExecuteTime": {
     "end_time": "2024-03-01T23:42:20.492311Z",
     "start_time": "2024-03-01T23:42:20.202115Z"
    }
   },
   "id": "563fd55307e18a5e",
   "execution_count": 319
  },
  {
   "cell_type": "code",
   "outputs": [
    {
     "data": {
      "text/plain": "torch.Tensor"
     },
     "execution_count": 320,
     "metadata": {},
     "output_type": "execute_result"
    }
   ],
   "source": [
    "img_t, _ = tensor_cifar10[99]\n",
    "type(img_t)"
   ],
   "metadata": {
    "collapsed": false,
    "ExecuteTime": {
     "end_time": "2024-03-01T23:42:20.495917Z",
     "start_time": "2024-03-01T23:42:20.493062Z"
    }
   },
   "id": "a7472c5271c7f324",
   "execution_count": 320
  },
  {
   "cell_type": "code",
   "outputs": [
    {
     "data": {
      "text/plain": "(torch.Size([3, 32, 32]), torch.float32)"
     },
     "execution_count": 321,
     "metadata": {},
     "output_type": "execute_result"
    }
   ],
   "source": [
    "img_t.shape, img_t.dtype"
   ],
   "metadata": {
    "collapsed": false,
    "ExecuteTime": {
     "end_time": "2024-03-01T23:42:20.502841Z",
     "start_time": "2024-03-01T23:42:20.496506Z"
    }
   },
   "id": "45efdfb145fc8596",
   "execution_count": 321
  },
  {
   "cell_type": "code",
   "outputs": [
    {
     "data": {
      "text/plain": "(tensor(0.), tensor(1.))"
     },
     "execution_count": 322,
     "metadata": {},
     "output_type": "execute_result"
    }
   ],
   "source": [
    "img_t.min(), img_t.max()"
   ],
   "metadata": {
    "collapsed": false,
    "ExecuteTime": {
     "end_time": "2024-03-01T23:42:20.507350Z",
     "start_time": "2024-03-01T23:42:20.504444Z"
    }
   },
   "id": "da016d89195de81c",
   "execution_count": 322
  },
  {
   "cell_type": "code",
   "outputs": [
    {
     "data": {
      "text/plain": "<Figure size 640x480 with 1 Axes>",
      "image/png": "[encoded data removed]"
     },
     "metadata": {},
     "output_type": "display_data"
    }
   ],
   "source": [
    "plt.imshow(img_t.permute(1, 2, 0))\n",
    "plt.show()"
   ],
   "metadata": {
    "collapsed": false,
    "ExecuteTime": {
     "end_time": "2024-03-01T23:42:20.570330Z",
     "start_time": "2024-03-01T23:42:20.508015Z"
    }
   },
   "id": "3daf8c983f88c91a",
   "execution_count": 323
  },
  {
   "cell_type": "code",
   "outputs": [
    {
     "data": {
      "text/plain": "torch.Size([3, 32, 32, 50000])"
     },
     "execution_count": 324,
     "metadata": {},
     "output_type": "execute_result"
    }
   ],
   "source": [
    "imgs = torch.stack([img_t for img_t, _ in tensor_cifar10], dim=3)\n",
    "imgs.shape"
   ],
   "metadata": {
    "collapsed": false,
    "ExecuteTime": {
     "end_time": "2024-03-01T23:42:24.781831Z",
     "start_time": "2024-03-01T23:42:20.571049Z"
    }
   },
   "id": "6a1985f46fccf6eb",
   "execution_count": 324
  },
  {
   "cell_type": "code",
   "outputs": [
    {
     "data": {
      "text/plain": "tensor([0.4914, 0.4822, 0.4465])"
     },
     "execution_count": 325,
     "metadata": {},
     "output_type": "execute_result"
    }
   ],
   "source": [
    "imgs.view(3, -1).mean(dim=1)"
   ],
   "metadata": {
    "collapsed": false,
    "ExecuteTime": {
     "end_time": "2024-03-01T23:42:24.806241Z",
     "start_time": "2024-03-01T23:42:24.782614Z"
    }
   },
   "id": "7b60330ff93dd803",
   "execution_count": 325
  },
  {
   "cell_type": "code",
   "outputs": [
    {
     "data": {
      "text/plain": "tensor([0.2470, 0.2435, 0.2616])"
     },
     "execution_count": 326,
     "metadata": {},
     "output_type": "execute_result"
    }
   ],
   "source": [
    "imgs.view(3, -1).std(dim=1)"
   ],
   "metadata": {
    "collapsed": false,
    "ExecuteTime": {
     "end_time": "2024-03-01T23:42:25.025789Z",
     "start_time": "2024-03-01T23:42:24.806997Z"
    }
   },
   "id": "b60291f70a39e825",
   "execution_count": 326
  },
  {
   "cell_type": "code",
   "outputs": [
    {
     "data": {
      "text/plain": "Normalize(mean=(0.4915, 0.4823, 0.4468), std=(0.247, 0.2435, 0.2616))"
     },
     "execution_count": 327,
     "metadata": {},
     "output_type": "execute_result"
    }
   ],
   "source": [
    "transforms.Normalize((0.4915, 0.4823, 0.4468), (0.2470, 0.2435, 0.2616))"
   ],
   "metadata": {
    "collapsed": false,
    "ExecuteTime": {
     "end_time": "2024-03-01T23:42:25.029291Z",
     "start_time": "2024-03-01T23:42:25.026566Z"
    }
   },
   "id": "91b91bf50e93c620",
   "execution_count": 327
  },
  {
   "cell_type": "code",
   "outputs": [],
   "source": [
    "transformed_cifar10 = datasets.CIFAR10(\n",
    "    data_path, train=True, download=False,\n",
    "    transform=transforms.Compose([\n",
    "        transforms.ToTensor(),\n",
    "        transforms.Normalize((0.4915, 0.4823, 0.4468),\n",
    "                             (0.2470, 0.2435, 0.2616))\n",
    "    ]))"
   ],
   "metadata": {
    "collapsed": false,
    "ExecuteTime": {
     "end_time": "2024-03-01T23:42:25.303736Z",
     "start_time": "2024-03-01T23:42:25.029803Z"
    }
   },
   "id": "ece48e0b37f9483c",
   "execution_count": 328
  },
  {
   "cell_type": "code",
   "outputs": [
    {
     "name": "stderr",
     "output_type": "stream",
     "text": [
      "Clipping input data to the valid range for imshow with RGB data ([0..1] for floats or [0..255] for integers).\n"
     ]
    },
    {
     "data": {
      "text/plain": "<Figure size 640x480 with 1 Axes>",
      "image/png": "[encoded data removed]"
     },
     "metadata": {},
     "output_type": "display_data"
    }
   ],
   "source": [
    "img_t, _ = transformed_cifar10[99]\n",
    "plt.imshow(img_t.permute(1, 2, 0))\n",
    "plt.show()"
   ],
   "metadata": {
    "collapsed": false,
    "ExecuteTime": {
     "end_time": "2024-03-01T23:42:25.366757Z",
     "start_time": "2024-03-01T23:42:25.304505Z"
    }
   },
   "id": "ed5a1c1e8aa5fe80",
   "execution_count": 329
  },
  {
   "cell_type": "markdown",
   "source": [
    "# Bird / Airplanes classification"
   ],
   "metadata": {
    "collapsed": false
   },
   "id": "35d9ad3342c1ced8"
  },
  {
   "cell_type": "code",
   "outputs": [
    {
     "data": {
      "text/plain": "<torch._C.Generator at 0x7febe17516f0>"
     },
     "execution_count": 330,
     "metadata": {},
     "output_type": "execute_result"
    }
   ],
   "source": [
    "%matplotlib inline\n",
    "from matplotlib import pyplot as plt\n",
    "import numpy as np\n",
    "import torch\n",
    "\n",
    "torch.set_printoptions(edgeitems=2)\n",
    "torch.manual_seed(123)"
   ],
   "metadata": {
    "collapsed": false,
    "ExecuteTime": {
     "end_time": "2024-03-01T23:42:25.371336Z",
     "start_time": "2024-03-01T23:42:25.367678Z"
    }
   },
   "id": "d9c52164c9838503",
   "execution_count": 330
  },
  {
   "cell_type": "code",
   "outputs": [],
   "source": [
    "class_names = ['airplane','automobile','bird','cat','deer', 'dog','frog','horse','ship','truck']"
   ],
   "metadata": {
    "collapsed": false,
    "ExecuteTime": {
     "end_time": "2024-03-01T23:42:25.373691Z",
     "start_time": "2024-03-01T23:42:25.371947Z"
    }
   },
   "id": "2605d45c516669c4",
   "execution_count": 331
  },
  {
   "cell_type": "code",
   "outputs": [
    {
     "name": "stdout",
     "output_type": "stream",
     "text": [
      "Files already downloaded and verified\n"
     ]
    }
   ],
   "source": [
    "from torchvision import datasets, transforms\n",
    "data_path = './data/06/'\n",
    "cifar10 = datasets.CIFAR10(\n",
    "    data_path, train=True, download=True,\n",
    "    transform=transforms.Compose([\n",
    "        transforms.ToTensor(),\n",
    "        transforms.Normalize((0.4915, 0.4823, 0.4468),\n",
    "                             (0.2470, 0.2435, 0.2616))\n",
    "    ]))"
   ],
   "metadata": {
    "collapsed": false,
    "ExecuteTime": {
     "end_time": "2024-03-01T23:42:25.850184Z",
     "start_time": "2024-03-01T23:42:25.374237Z"
    }
   },
   "id": "bb7d72fa565301c8",
   "execution_count": 332
  },
  {
   "cell_type": "code",
   "outputs": [],
   "source": [
    "cifar10_val = datasets.CIFAR10(\n",
    "    data_path, train=False, download=False,\n",
    "    transform=transforms.Compose([\n",
    "        transforms.ToTensor(),\n",
    "        transforms.Normalize((0.4915, 0.4823, 0.4468),\n",
    "                             (0.2470, 0.2435, 0.2616))\n",
    "    ]))"
   ],
   "metadata": {
    "collapsed": false,
    "ExecuteTime": {
     "end_time": "2024-03-01T23:42:26.063980Z",
     "start_time": "2024-03-01T23:42:25.850954Z"
    }
   },
   "id": "571cd5342532b102",
   "execution_count": 333
  },
  {
   "cell_type": "code",
   "outputs": [],
   "source": [
    "label_map = {0: 0, 2: 1}\n",
    "class_names = ['airplane', 'bird']\n",
    "cifar2 = [(img, label_map[label])\n",
    "          for img, label in cifar10 \n",
    "          if label in [0, 2]]\n",
    "cifar2_val = [(img, label_map[label])\n",
    "              for img, label in cifar10_val\n",
    "              if label in [0, 2]]"
   ],
   "metadata": {
    "collapsed": false,
    "ExecuteTime": {
     "end_time": "2024-03-01T23:42:32.891913Z",
     "start_time": "2024-03-01T23:42:26.064689Z"
    }
   },
   "id": "4176b7f8c872b255",
   "execution_count": 334
  },
  {
   "cell_type": "code",
   "outputs": [],
   "source": [
    "import torch.nn as nn\n",
    "\n",
    "n_out = 2\n",
    "\n",
    "model = nn.Sequential(\n",
    "            nn.Linear(\n",
    "                3072,\n",
    "                512,\n",
    "            ),\n",
    "            nn.Tanh(),\n",
    "            nn.Linear(\n",
    "                512,\n",
    "                n_out,\n",
    "            )\n",
    "        )"
   ],
   "metadata": {
    "collapsed": false,
    "ExecuteTime": {
     "end_time": "2024-03-01T23:42:32.899448Z",
     "start_time": "2024-03-01T23:42:32.892621Z"
    }
   },
   "id": "d8ed6c87fb42fdc4",
   "execution_count": 335
  },
  {
   "cell_type": "code",
   "outputs": [],
   "source": [
    "def softmax(x):\n",
    "    return torch.exp(x) / torch.exp(x).sum()"
   ],
   "metadata": {
    "collapsed": false,
    "ExecuteTime": {
     "end_time": "2024-03-01T23:42:32.901861Z",
     "start_time": "2024-03-01T23:42:32.900063Z"
    }
   },
   "id": "5368d1f9b93c790",
   "execution_count": 336
  },
  {
   "cell_type": "code",
   "outputs": [],
   "source": [
    "x = torch.tensor([1.0, 2.0, 3.0])"
   ],
   "metadata": {
    "collapsed": false,
    "ExecuteTime": {
     "end_time": "2024-03-01T23:42:32.904022Z",
     "start_time": "2024-03-01T23:42:32.902385Z"
    }
   },
   "id": "49a0216c29f0b8b0",
   "execution_count": 337
  },
  {
   "cell_type": "code",
   "outputs": [
    {
     "data": {
      "text/plain": "tensor([0.0900, 0.2447, 0.6652])"
     },
     "execution_count": 338,
     "metadata": {},
     "output_type": "execute_result"
    }
   ],
   "source": [
    "softmax(x)"
   ],
   "metadata": {
    "collapsed": false,
    "ExecuteTime": {
     "end_time": "2024-03-01T23:42:32.907377Z",
     "start_time": "2024-03-01T23:42:32.904538Z"
    }
   },
   "id": "bb6ea54c0ffa31bf",
   "execution_count": 338
  },
  {
   "cell_type": "code",
   "outputs": [
    {
     "data": {
      "text/plain": "tensor(1.)"
     },
     "execution_count": 339,
     "metadata": {},
     "output_type": "execute_result"
    }
   ],
   "source": [
    "softmax(x).sum()"
   ],
   "metadata": {
    "collapsed": false,
    "ExecuteTime": {
     "end_time": "2024-03-01T23:42:32.910332Z",
     "start_time": "2024-03-01T23:42:32.908058Z"
    }
   },
   "id": "afbc50c04266c97a",
   "execution_count": 339
  },
  {
   "cell_type": "code",
   "outputs": [
    {
     "data": {
      "text/plain": "tensor([[0.0900, 0.2447, 0.6652],\n        [0.0900, 0.2447, 0.6652]])"
     },
     "execution_count": 340,
     "metadata": {},
     "output_type": "execute_result"
    }
   ],
   "source": [
    "softmax = nn.Softmax(dim=1)\n",
    "\n",
    "x = torch.tensor([[1.0, 2.0, 3.0],\n",
    "                  [1.0, 2.0, 3.0]])\n",
    "\n",
    "softmax(x)"
   ],
   "metadata": {
    "collapsed": false,
    "ExecuteTime": {
     "end_time": "2024-03-01T23:42:32.915772Z",
     "start_time": "2024-03-01T23:42:32.912902Z"
    }
   },
   "id": "b979f5ea17320148",
   "execution_count": 340
  },
  {
   "cell_type": "code",
   "outputs": [],
   "source": [
    "model = nn.Sequential(\n",
    "    nn.Linear(3072, 512),\n",
    "    nn.Tanh(),\n",
    "    nn.Linear(512, 2),\n",
    "    nn.Softmax(dim=1))"
   ],
   "metadata": {
    "collapsed": false,
    "ExecuteTime": {
     "end_time": "2024-03-01T23:42:32.922831Z",
     "start_time": "2024-03-01T23:42:32.916378Z"
    }
   },
   "id": "85ce697989a7db25",
   "execution_count": 341
  },
  {
   "cell_type": "code",
   "outputs": [
    {
     "name": "stderr",
     "output_type": "stream",
     "text": [
      "Clipping input data to the valid range for imshow with RGB data ([0..1] for floats or [0..255] for integers).\n"
     ]
    },
    {
     "data": {
      "text/plain": "<Figure size 640x480 with 1 Axes>",
      "image/png": "[encoded data removed]"
     },
     "metadata": {},
     "output_type": "display_data"
    }
   ],
   "source": [
    "img, _ = cifar2[0]\n",
    "\n",
    "plt.imshow(img.permute(1, 2, 0))\n",
    "plt.show()"
   ],
   "metadata": {
    "collapsed": false,
    "ExecuteTime": {
     "end_time": "2024-03-01T23:42:32.985479Z",
     "start_time": "2024-03-01T23:42:32.923433Z"
    }
   },
   "id": "699e7771946370d",
   "execution_count": 342
  },
  {
   "cell_type": "code",
   "outputs": [],
   "source": [
    "img_batch = img.view(-1).unsqueeze(0)"
   ],
   "metadata": {
    "collapsed": false,
    "ExecuteTime": {
     "end_time": "2024-03-01T23:42:32.988145Z",
     "start_time": "2024-03-01T23:42:32.986176Z"
    }
   },
   "id": "5e52698bc8a16254",
   "execution_count": 343
  },
  {
   "cell_type": "code",
   "outputs": [
    {
     "data": {
      "text/plain": "tensor([[0.4784, 0.5216]], grad_fn=<SoftmaxBackward0>)"
     },
     "execution_count": 344,
     "metadata": {},
     "output_type": "execute_result"
    }
   ],
   "source": [
    "out = model(img_batch)\n",
    "out"
   ],
   "metadata": {
    "collapsed": false,
    "ExecuteTime": {
     "end_time": "2024-03-01T23:42:32.991779Z",
     "start_time": "2024-03-01T23:42:32.988739Z"
    }
   },
   "id": "984db8e2f38faf51",
   "execution_count": 344
  },
  {
   "cell_type": "code",
   "outputs": [
    {
     "data": {
      "text/plain": "tensor([1])"
     },
     "execution_count": 345,
     "metadata": {},
     "output_type": "execute_result"
    }
   ],
   "source": [
    "_, index = torch.max(out, dim=1)\n",
    "index"
   ],
   "metadata": {
    "collapsed": false,
    "ExecuteTime": {
     "end_time": "2024-03-01T23:42:32.994855Z",
     "start_time": "2024-03-01T23:42:32.992368Z"
    }
   },
   "id": "5e94a567deb413b2",
   "execution_count": 345
  },
  {
   "cell_type": "code",
   "outputs": [
    {
     "data": {
      "text/plain": "tensor([[1., 0.],\n        [1., 0.],\n        [0., 1.],\n        [0., 1.]])"
     },
     "execution_count": 346,
     "metadata": {},
     "output_type": "execute_result"
    }
   ],
   "source": [
    "out = torch.tensor([\n",
    "    [0.6, 0.4],\n",
    "    [0.9, 0.1],\n",
    "    [0.3, 0.7],\n",
    "    [0.2, 0.8],\n",
    "])\n",
    "class_index = torch.tensor([0, 0, 1, 1]).unsqueeze(1)\n",
    "\n",
    "truth = torch.zeros((4,2))\n",
    "truth.scatter_(dim=1, index=class_index, value=1.0)\n",
    "truth"
   ],
   "metadata": {
    "collapsed": false,
    "ExecuteTime": {
     "end_time": "2024-03-01T23:42:32.999042Z",
     "start_time": "2024-03-01T23:42:32.995427Z"
    }
   },
   "id": "4e7da97342b2720b",
   "execution_count": 346
  },
  {
   "cell_type": "code",
   "outputs": [
    {
     "data": {
      "text/plain": "tensor(0.1500)"
     },
     "execution_count": 347,
     "metadata": {},
     "output_type": "execute_result"
    }
   ],
   "source": [
    "def mse(out):\n",
    "    return ((out - truth) ** 2).sum(dim=1).mean()\n",
    "mse(out)"
   ],
   "metadata": {
    "collapsed": false,
    "ExecuteTime": {
     "end_time": "2024-03-01T23:42:33.002511Z",
     "start_time": "2024-03-01T23:42:32.999669Z"
    }
   },
   "id": "64696901002a05a6",
   "execution_count": 347
  },
  {
   "cell_type": "code",
   "outputs": [
    {
     "data": {
      "text/plain": "tensor([[0.6000],\n        [0.9000],\n        [0.7000],\n        [0.8000]])"
     },
     "execution_count": 348,
     "metadata": {},
     "output_type": "execute_result"
    }
   ],
   "source": [
    "out.gather(dim=1, index=class_index)"
   ],
   "metadata": {
    "collapsed": false,
    "ExecuteTime": {
     "end_time": "2024-03-01T23:42:33.005629Z",
     "start_time": "2024-03-01T23:42:33.003164Z"
    }
   },
   "id": "58a38b10152a0b7c",
   "execution_count": 348
  },
  {
   "cell_type": "code",
   "outputs": [
    {
     "data": {
      "text/plain": "tensor([0.3024])"
     },
     "execution_count": 349,
     "metadata": {},
     "output_type": "execute_result"
    }
   ],
   "source": [
    "def likelihood(out):\n",
    "    prod = 1.0\n",
    "    for x in out.gather(dim=1, index=class_index):\n",
    "        prod *= x\n",
    "    return prod\n",
    "\n",
    "likelihood(out)"
   ],
   "metadata": {
    "collapsed": false,
    "ExecuteTime": {
     "end_time": "2024-03-01T23:42:33.008888Z",
     "start_time": "2024-03-01T23:42:33.006155Z"
    }
   },
   "id": "e7fdb8253dfb8ee",
   "execution_count": 349
  },
  {
   "cell_type": "code",
   "outputs": [
    {
     "data": {
      "text/plain": "tensor([1.1960])"
     },
     "execution_count": 350,
     "metadata": {},
     "output_type": "execute_result"
    }
   ],
   "source": [
    "def neg_log_likelihood(out):\n",
    "    return -likelihood(out).log()\n",
    "\n",
    "neg_log_likelihood(out)"
   ],
   "metadata": {
    "collapsed": false,
    "ExecuteTime": {
     "end_time": "2024-03-01T23:42:33.011852Z",
     "start_time": "2024-03-01T23:42:33.009424Z"
    }
   },
   "id": "beb20eb006fe4713",
   "execution_count": 350
  },
  {
   "cell_type": "code",
   "outputs": [
    {
     "data": {
      "text/plain": "tensor([0.0750, 0.1500, 0.2500, 0.4750])"
     },
     "execution_count": 351,
     "metadata": {},
     "output_type": "execute_result"
    }
   ],
   "source": [
    "out0 = out.clone().detach()\n",
    "out0[0] = torch.tensor([0.9, 0.1])\n",
    "\n",
    "out2 = out.clone().detach()\n",
    "out2[0] = torch.tensor([0.4, 0.6])\n",
    "\n",
    "out3 = out.clone().detach()\n",
    "out3[0] = torch.tensor([0.1, 0.9])\n",
    "\n",
    "mse_comparison = torch.tensor([mse(o) for o in [out0, out, out2, out3]])\n",
    "mse_comparison"
   ],
   "metadata": {
    "collapsed": false,
    "ExecuteTime": {
     "end_time": "2024-03-01T23:42:33.015993Z",
     "start_time": "2024-03-01T23:42:33.012359Z"
    }
   },
   "id": "fdaa8725060ca839",
   "execution_count": 351
  },
  {
   "cell_type": "code",
   "outputs": [
    {
     "data": {
      "text/plain": "tensor([-50.0000,   0.0000,  66.6667, 216.6667])"
     },
     "execution_count": 352,
     "metadata": {},
     "output_type": "execute_result"
    }
   ],
   "source": [
    "((mse_comparison / mse_comparison[1]) - 1) * 100"
   ],
   "metadata": {
    "collapsed": false,
    "ExecuteTime": {
     "end_time": "2024-03-01T23:42:33.019045Z",
     "start_time": "2024-03-01T23:42:33.016516Z"
    }
   },
   "id": "2d90134b600b61a3",
   "execution_count": 352
  },
  {
   "cell_type": "code",
   "outputs": [
    {
     "data": {
      "text/plain": "tensor([0.7905, 1.1960, 1.6015, 2.9878])"
     },
     "execution_count": 353,
     "metadata": {},
     "output_type": "execute_result"
    }
   ],
   "source": [
    "nll_comparison = torch.tensor([neg_log_likelihood(o) \n",
    "                               for o in [out0, out, out2, out3]])\n",
    "nll_comparison"
   ],
   "metadata": {
    "collapsed": false,
    "ExecuteTime": {
     "end_time": "2024-03-01T23:42:33.022310Z",
     "start_time": "2024-03-01T23:42:33.019616Z"
    }
   },
   "id": "ce86ca1738a6c6ce",
   "execution_count": 353
  },
  {
   "cell_type": "code",
   "outputs": [
    {
     "data": {
      "text/plain": "tensor([-33.9016,   0.0000,  33.9016, 149.8121])"
     },
     "execution_count": 354,
     "metadata": {},
     "output_type": "execute_result"
    }
   ],
   "source": [
    "((nll_comparison / nll_comparison[1]) - 1) * 100"
   ],
   "metadata": {
    "collapsed": false,
    "ExecuteTime": {
     "end_time": "2024-03-01T23:42:33.025328Z",
     "start_time": "2024-03-01T23:42:33.022961Z"
    }
   },
   "id": "1b2094ef967d28a3",
   "execution_count": 354
  },
  {
   "cell_type": "code",
   "outputs": [
    {
     "data": {
      "text/plain": "tensor([[0., 1.]])"
     },
     "execution_count": 355,
     "metadata": {},
     "output_type": "execute_result"
    }
   ],
   "source": [
    "softmax = nn.Softmax(dim=1)\n",
    "\n",
    "log_softmax = nn.LogSoftmax(dim=1)\n",
    "\n",
    "x = torch.tensor([[0.0, 104.0]])\n",
    "\n",
    "softmax(x)"
   ],
   "metadata": {
    "collapsed": false,
    "ExecuteTime": {
     "end_time": "2024-03-01T23:42:33.028555Z",
     "start_time": "2024-03-01T23:42:33.025944Z"
    }
   },
   "id": "d23634094475ef10",
   "execution_count": 355
  },
  {
   "cell_type": "code",
   "outputs": [
    {
     "data": {
      "text/plain": "tensor([[0., 1.]])"
     },
     "execution_count": 356,
     "metadata": {},
     "output_type": "execute_result"
    }
   ],
   "source": [
    "softmax = nn.Softmax(dim=1)\n",
    "\n",
    "log_softmax = nn.LogSoftmax(dim=1)\n",
    "\n",
    "x = torch.tensor([[0.0, 104.0]])\n",
    "\n",
    "softmax(x)"
   ],
   "metadata": {
    "collapsed": false,
    "ExecuteTime": {
     "end_time": "2024-03-01T23:42:33.032330Z",
     "start_time": "2024-03-01T23:42:33.029276Z"
    }
   },
   "id": "da0216cc8914631e",
   "execution_count": 356
  },
  {
   "cell_type": "code",
   "outputs": [
    {
     "data": {
      "text/plain": "tensor([[-inf, 0.]])"
     },
     "execution_count": 357,
     "metadata": {},
     "output_type": "execute_result"
    }
   ],
   "source": [
    "torch.log(softmax(x))"
   ],
   "metadata": {
    "collapsed": false,
    "ExecuteTime": {
     "end_time": "2024-03-01T23:42:33.035305Z",
     "start_time": "2024-03-01T23:42:33.032851Z"
    }
   },
   "id": "f91a08774f26704a",
   "execution_count": 357
  },
  {
   "cell_type": "code",
   "outputs": [
    {
     "data": {
      "text/plain": "tensor([[-104.,    0.]])"
     },
     "execution_count": 358,
     "metadata": {},
     "output_type": "execute_result"
    }
   ],
   "source": [
    "log_softmax(x)"
   ],
   "metadata": {
    "collapsed": false,
    "ExecuteTime": {
     "end_time": "2024-03-01T23:42:33.038414Z",
     "start_time": "2024-03-01T23:42:33.035860Z"
    }
   },
   "id": "90b2db4aa651c691",
   "execution_count": 358
  },
  {
   "cell_type": "code",
   "outputs": [
    {
     "data": {
      "text/plain": "tensor([[0., 1.]])"
     },
     "execution_count": 359,
     "metadata": {},
     "output_type": "execute_result"
    }
   ],
   "source": [
    "torch.exp(log_softmax(x))"
   ],
   "metadata": {
    "collapsed": false,
    "ExecuteTime": {
     "end_time": "2024-03-01T23:42:33.041362Z",
     "start_time": "2024-03-01T23:42:33.038999Z"
    }
   },
   "id": "dc8115fdedd065e6",
   "execution_count": 359
  },
  {
   "cell_type": "code",
   "outputs": [],
   "source": [
    "model = nn.Sequential(\n",
    "    nn.Linear(3072, 512),\n",
    "    nn.Tanh(),\n",
    "    nn.Linear(512, 2),\n",
    "    nn.LogSoftmax(dim=1))"
   ],
   "metadata": {
    "collapsed": false,
    "ExecuteTime": {
     "end_time": "2024-03-01T23:42:33.048721Z",
     "start_time": "2024-03-01T23:42:33.041851Z"
    }
   },
   "id": "f7b31a41cd874a17",
   "execution_count": 360
  },
  {
   "cell_type": "code",
   "outputs": [],
   "source": [
    "loss = nn.NLLLoss()"
   ],
   "metadata": {
    "collapsed": false,
    "ExecuteTime": {
     "end_time": "2024-03-01T23:42:33.050951Z",
     "start_time": "2024-03-01T23:42:33.049359Z"
    }
   },
   "id": "6aaf1b5b79f4187e",
   "execution_count": 361
  },
  {
   "cell_type": "code",
   "outputs": [
    {
     "data": {
      "text/plain": "tensor(0.5077, grad_fn=<NllLossBackward0>)"
     },
     "execution_count": 362,
     "metadata": {},
     "output_type": "execute_result"
    }
   ],
   "source": [
    "img, label = cifar2[0]\n",
    "out = model(img.view(-1).unsqueeze(0))\n",
    "loss(out, torch.tensor([label]))"
   ],
   "metadata": {
    "collapsed": false,
    "ExecuteTime": {
     "end_time": "2024-03-01T23:42:33.055150Z",
     "start_time": "2024-03-01T23:42:33.051623Z"
    }
   },
   "id": "727bb4e6fe10db0b",
   "execution_count": 362
  },
  {
   "cell_type": "code",
   "outputs": [
    {
     "name": "stdout",
     "output_type": "stream",
     "text": [
      "Epoch: 0, Loss: 7.436963\n",
      "Epoch: 1, Loss: 2.969128\n",
      "Epoch: 2, Loss: 7.077729\n",
      "Epoch: 3, Loss: 5.504475\n",
      "Epoch: 4, Loss: 10.688177\n",
      "Epoch: 5, Loss: 1.415906\n",
      "Epoch: 6, Loss: 9.292529\n",
      "Epoch: 7, Loss: 12.116428\n",
      "Epoch: 8, Loss: 6.664639\n",
      "Epoch: 9, Loss: 8.686923\n",
      "Epoch: 10, Loss: 1.676501\n",
      "Epoch: 11, Loss: 9.437196\n",
      "Epoch: 12, Loss: 6.798319\n",
      "Epoch: 13, Loss: 9.473314\n",
      "Epoch: 14, Loss: 11.948936\n",
      "Epoch: 15, Loss: 4.188442\n",
      "Epoch: 16, Loss: 8.429747\n",
      "Epoch: 17, Loss: 7.383325\n",
      "Epoch: 18, Loss: 14.331355\n",
      "Epoch: 19, Loss: 12.217303\n",
      "Epoch: 20, Loss: 10.154082\n",
      "Epoch: 21, Loss: 7.567716\n",
      "Epoch: 22, Loss: 18.498039\n",
      "Epoch: 23, Loss: 19.353279\n",
      "Epoch: 24, Loss: 21.337685\n",
      "Epoch: 25, Loss: 4.962567\n",
      "Epoch: 26, Loss: 5.043899\n",
      "Epoch: 27, Loss: 5.354934\n",
      "Epoch: 28, Loss: 9.891257\n",
      "Epoch: 29, Loss: 2.224202\n",
      "Epoch: 30, Loss: 13.390385\n",
      "Epoch: 31, Loss: 6.390940\n",
      "Epoch: 32, Loss: 4.031987\n",
      "Epoch: 33, Loss: 9.465389\n",
      "Epoch: 34, Loss: 2.435623\n",
      "Epoch: 35, Loss: 0.620501\n",
      "Epoch: 36, Loss: 8.690174\n",
      "Epoch: 37, Loss: 11.238142\n",
      "Epoch: 38, Loss: 12.576283\n",
      "Epoch: 39, Loss: 11.088802\n",
      "Epoch: 40, Loss: 12.941692\n",
      "Epoch: 41, Loss: 12.241090\n",
      "Epoch: 42, Loss: 13.920762\n",
      "Epoch: 43, Loss: 8.421037\n",
      "Epoch: 44, Loss: 11.794481\n",
      "Epoch: 45, Loss: 10.922093\n",
      "Epoch: 46, Loss: 15.074995\n",
      "Epoch: 47, Loss: 13.661722\n",
      "Epoch: 48, Loss: 14.366310\n",
      "Epoch: 49, Loss: 6.465320\n",
      "Epoch: 50, Loss: 5.761481\n",
      "Epoch: 51, Loss: 11.518017\n",
      "Epoch: 52, Loss: 14.040560\n",
      "Epoch: 53, Loss: 27.888638\n",
      "Epoch: 54, Loss: 20.760937\n",
      "Epoch: 55, Loss: 28.589186\n",
      "Epoch: 56, Loss: 14.794930\n",
      "Epoch: 57, Loss: 5.118705\n",
      "Epoch: 58, Loss: 14.398200\n",
      "Epoch: 59, Loss: 13.044636\n",
      "Epoch: 60, Loss: 5.843076\n",
      "Epoch: 61, Loss: 2.287277\n",
      "Epoch: 62, Loss: 6.315857\n",
      "Epoch: 63, Loss: 8.471689\n",
      "Epoch: 64, Loss: 5.784685\n",
      "Epoch: 65, Loss: 0.024519\n",
      "Epoch: 66, Loss: 6.425617\n",
      "Epoch: 67, Loss: 13.788398\n",
      "Epoch: 68, Loss: 6.430665\n",
      "Epoch: 69, Loss: 0.001018\n",
      "Epoch: 70, Loss: 8.678482\n",
      "Epoch: 71, Loss: 7.689308\n",
      "Epoch: 72, Loss: 0.610415\n",
      "Epoch: 73, Loss: 11.816118\n",
      "Epoch: 74, Loss: 7.393563\n",
      "Epoch: 75, Loss: 6.608314\n",
      "Epoch: 76, Loss: 11.747322\n",
      "Epoch: 77, Loss: 1.984524\n",
      "Epoch: 78, Loss: 5.235415\n",
      "Epoch: 79, Loss: 5.822455\n",
      "Epoch: 80, Loss: 10.989574\n",
      "Epoch: 81, Loss: 11.712234\n",
      "Epoch: 82, Loss: 17.482302\n",
      "Epoch: 83, Loss: 7.042157\n",
      "Epoch: 84, Loss: 16.924078\n",
      "Epoch: 85, Loss: 20.211052\n",
      "Epoch: 86, Loss: 10.613985\n",
      "Epoch: 87, Loss: 14.419018\n",
      "Epoch: 88, Loss: 5.834561\n",
      "Epoch: 89, Loss: 10.488811\n",
      "Epoch: 90, Loss: 17.521416\n",
      "Epoch: 91, Loss: 21.221191\n",
      "Epoch: 92, Loss: 23.912825\n",
      "Epoch: 93, Loss: 14.904430\n",
      "Epoch: 94, Loss: 2.240781\n",
      "Epoch: 95, Loss: 12.950743\n",
      "Epoch: 96, Loss: 3.310217\n",
      "Epoch: 97, Loss: 1.570764\n",
      "Epoch: 98, Loss: 1.448805\n",
      "Epoch: 99, Loss: 14.575085\n"
     ]
    }
   ],
   "source": [
    "import torch\n",
    "import torch.nn as nn\n",
    "import torch.optim as optim\n",
    "\n",
    "model = nn.Sequential(\n",
    "    nn.Linear(3072, 512),\n",
    "    nn.Tanh(),\n",
    "    nn.Linear(512, 2),\n",
    "    nn.LogSoftmax(dim=1))\n",
    "\n",
    "learning_rate = 1e-2\n",
    "optimizer = optim.SGD(model.parameters(), lr=learning_rate)\n",
    "\n",
    "loss_fn = nn.NLLLoss()\n",
    "n_epochs = 100\n",
    "\n",
    "for epoch in range(n_epochs):\n",
    "  for img, label in cifar2:\n",
    "    out = model(img.view(-1).unsqueeze(0))\n",
    "    loss = loss_fn(out, torch.tensor([label]))\n",
    "    \n",
    "    optimizer.zero_grad()\n",
    "    loss.backward()\n",
    "    optimizer.step()\n",
    "      \n",
    "  print(\"Epoch: %d, Loss: %f\" % (epoch, float(loss)))"
   ],
   "metadata": {
    "collapsed": false,
    "ExecuteTime": {
     "end_time": "2024-03-01T23:51:36.764168Z",
     "start_time": "2024-03-01T23:42:33.055735Z"
    }
   },
   "id": "9f1aff4d0fdbacb",
   "execution_count": 363
  },
  {
   "cell_type": "code",
   "outputs": [
    {
     "name": "stdout",
     "output_type": "stream",
     "text": [
      "Epoch: 0, Loss: 0.318367\n",
      "Epoch: 1, Loss: 0.389473\n",
      "Epoch: 2, Loss: 0.427979\n",
      "Epoch: 3, Loss: 0.435714\n",
      "Epoch: 4, Loss: 0.504344\n",
      "Epoch: 5, Loss: 0.483689\n",
      "Epoch: 6, Loss: 0.308372\n",
      "Epoch: 7, Loss: 0.115488\n",
      "Epoch: 8, Loss: 0.513510\n",
      "Epoch: 9, Loss: 0.386493\n",
      "Epoch: 10, Loss: 0.274975\n",
      "Epoch: 11, Loss: 0.252231\n",
      "Epoch: 12, Loss: 0.213218\n",
      "Epoch: 13, Loss: 0.256708\n",
      "Epoch: 14, Loss: 0.316772\n",
      "Epoch: 15, Loss: 0.631465\n",
      "Epoch: 16, Loss: 0.423488\n",
      "Epoch: 17, Loss: 0.402730\n",
      "Epoch: 18, Loss: 0.307367\n",
      "Epoch: 19, Loss: 0.179422\n",
      "Epoch: 20, Loss: 0.379566\n",
      "Epoch: 21, Loss: 0.290748\n",
      "Epoch: 22, Loss: 0.270363\n",
      "Epoch: 23, Loss: 0.186533\n",
      "Epoch: 24, Loss: 0.285739\n",
      "Epoch: 25, Loss: 0.455766\n",
      "Epoch: 26, Loss: 0.263250\n",
      "Epoch: 27, Loss: 0.257489\n",
      "Epoch: 28, Loss: 0.253201\n",
      "Epoch: 29, Loss: 0.088151\n",
      "Epoch: 30, Loss: 0.119370\n",
      "Epoch: 31, Loss: 0.101625\n",
      "Epoch: 32, Loss: 0.247492\n",
      "Epoch: 33, Loss: 0.090906\n",
      "Epoch: 34, Loss: 0.172537\n",
      "Epoch: 35, Loss: 0.462267\n",
      "Epoch: 36, Loss: 0.273000\n",
      "Epoch: 37, Loss: 0.254223\n",
      "Epoch: 38, Loss: 0.348747\n",
      "Epoch: 39, Loss: 0.300148\n",
      "Epoch: 40, Loss: 0.063681\n",
      "Epoch: 41, Loss: 0.079803\n",
      "Epoch: 42, Loss: 0.135370\n",
      "Epoch: 43, Loss: 0.100524\n",
      "Epoch: 44, Loss: 0.055207\n",
      "Epoch: 45, Loss: 0.177615\n",
      "Epoch: 46, Loss: 0.146831\n",
      "Epoch: 47, Loss: 0.030244\n",
      "Epoch: 48, Loss: 0.113541\n",
      "Epoch: 49, Loss: 0.054586\n",
      "Epoch: 50, Loss: 0.088400\n",
      "Epoch: 51, Loss: 0.037736\n",
      "Epoch: 52, Loss: 0.044950\n",
      "Epoch: 53, Loss: 0.045306\n",
      "Epoch: 54, Loss: 0.122482\n",
      "Epoch: 55, Loss: 0.094259\n",
      "Epoch: 56, Loss: 0.113845\n",
      "Epoch: 57, Loss: 0.020960\n",
      "Epoch: 58, Loss: 0.047257\n",
      "Epoch: 59, Loss: 0.054770\n",
      "Epoch: 60, Loss: 0.057607\n",
      "Epoch: 61, Loss: 0.045996\n",
      "Epoch: 62, Loss: 0.019060\n",
      "Epoch: 63, Loss: 0.017909\n",
      "Epoch: 64, Loss: 0.062859\n",
      "Epoch: 65, Loss: 0.024708\n",
      "Epoch: 66, Loss: 0.028053\n",
      "Epoch: 67, Loss: 0.061581\n",
      "Epoch: 68, Loss: 0.025352\n",
      "Epoch: 69, Loss: 0.021476\n",
      "Epoch: 70, Loss: 0.015957\n",
      "Epoch: 71, Loss: 0.024176\n",
      "Epoch: 72, Loss: 0.139968\n",
      "Epoch: 73, Loss: 0.025018\n",
      "Epoch: 74, Loss: 0.017756\n",
      "Epoch: 75, Loss: 0.012510\n",
      "Epoch: 76, Loss: 0.062693\n",
      "Epoch: 77, Loss: 0.019162\n",
      "Epoch: 78, Loss: 0.026831\n",
      "Epoch: 79, Loss: 0.022641\n",
      "Epoch: 80, Loss: 0.006038\n",
      "Epoch: 81, Loss: 0.012924\n",
      "Epoch: 82, Loss: 0.010721\n",
      "Epoch: 83, Loss: 0.002646\n",
      "Epoch: 84, Loss: 0.017216\n",
      "Epoch: 85, Loss: 0.010292\n",
      "Epoch: 86, Loss: 0.009473\n",
      "Epoch: 87, Loss: 0.034917\n",
      "Epoch: 88, Loss: 0.013506\n",
      "Epoch: 89, Loss: 0.009394\n",
      "Epoch: 90, Loss: 0.010806\n",
      "Epoch: 91, Loss: 0.015954\n",
      "Epoch: 92, Loss: 0.011492\n",
      "Epoch: 93, Loss: 0.019395\n",
      "Epoch: 94, Loss: 0.011841\n",
      "Epoch: 95, Loss: 0.025058\n",
      "Epoch: 96, Loss: 0.015301\n",
      "Epoch: 97, Loss: 0.008132\n",
      "Epoch: 98, Loss: 0.011373\n",
      "Epoch: 99, Loss: 0.013405\n"
     ]
    }
   ],
   "source": [
    "train_loader = torch.utils.data.DataLoader(cifar2, batch_size=64, shuffle=True)\n",
    "\n",
    "model = nn.Sequential(\n",
    "    nn.Linear(3072, 512),\n",
    "    nn.Tanh(),\n",
    "    nn.Linear(512, 2),\n",
    "    nn.LogSoftmax(dim=1))\n",
    "\n",
    "learning_rate = 1e-2\n",
    "optimizer = optim.SGD(model.parameters(), lr=learning_rate)\n",
    "loss_fn = nn.NLLLoss()\n",
    "n_epochs = 100\n",
    "\n",
    "for epoch in range(n_epochs):\n",
    "    for imgs, labels in train_loader:\n",
    "        batch_size = imgs.shape[0]\n",
    "        outputs = model(imgs.view(batch_size, -1))\n",
    "        loss = loss_fn(outputs, labels)\n",
    "        \n",
    "        optimizer.zero_grad()\n",
    "        loss.backward()\n",
    "        optimizer.step()\n",
    "    print(\"Epoch: %d, Loss: %f\" % (epoch, float(loss)))\n"
   ],
   "metadata": {
    "collapsed": false,
    "ExecuteTime": {
     "end_time": "2024-03-01T23:51:53.495842Z",
     "start_time": "2024-03-01T23:51:36.765555Z"
    }
   },
   "id": "6d45760581cdc009",
   "execution_count": 364
  },
  {
   "cell_type": "code",
   "outputs": [],
   "source": [
    "cifar10_val = datasets.CIFAR10(\n",
    "    data_path, train=False, download=False,\n",
    "    transform=transforms.Compose([\n",
    "        transforms.ToTensor(),\n",
    "        transforms.Normalize((0.4915, 0.4823, 0.4468),\n",
    "                             (0.2470, 0.2435, 0.2616))\n",
    "    ]))\n",
    "cifar2_val = [(img, label_map[label])\n",
    "              for img, label in cifar10_val\n",
    "              if label in [0, 2]]"
   ],
   "metadata": {
    "collapsed": false,
    "ExecuteTime": {
     "end_time": "2024-03-01T23:51:54.873039Z",
     "start_time": "2024-03-01T23:51:53.496559Z"
    }
   },
   "id": "b00208181e0a3c2d",
   "execution_count": 365
  },
  {
   "cell_type": "code",
   "outputs": [
    {
     "name": "stdout",
     "output_type": "stream",
     "text": [
      "Accuracy: 0.810500\n"
     ]
    }
   ],
   "source": [
    "val_loader = torch.utils.data.DataLoader(cifar2_val, batch_size=64, shuffle=False)\n",
    "\n",
    "correct = 0\n",
    "total = 0\n",
    "\n",
    "with torch.no_grad():\n",
    "    for imgs, labels in val_loader:\n",
    "        outputs = model(imgs.view(imgs.shape[0], -1))\n",
    "        _, predicted = torch.max(outputs, dim=1)\n",
    "        total += labels.shape[0]\n",
    "        correct += int((predicted == labels).sum())\n",
    "        \n",
    "print(\"Accuracy: %f\" % (correct / total))"
   ],
   "metadata": {
    "collapsed": false,
    "ExecuteTime": {
     "end_time": "2024-03-01T23:51:54.904883Z",
     "start_time": "2024-03-01T23:51:54.873839Z"
    }
   },
   "id": "911a7b01e08e4f85",
   "execution_count": 366
  },
  {
   "cell_type": "code",
   "outputs": [
    {
     "name": "stdout",
     "output_type": "stream",
     "text": [
      "Epoch: 0, Loss: 0.367593\n",
      "Epoch: 1, Loss: 0.867402\n",
      "Epoch: 2, Loss: 0.410718\n",
      "Epoch: 3, Loss: 0.404002\n",
      "Epoch: 4, Loss: 0.374927\n",
      "Epoch: 5, Loss: 0.308276\n",
      "Epoch: 6, Loss: 0.389578\n",
      "Epoch: 7, Loss: 0.216078\n",
      "Epoch: 8, Loss: 0.170842\n",
      "Epoch: 9, Loss: 0.515957\n",
      "Epoch: 10, Loss: 0.441018\n",
      "Epoch: 11, Loss: 0.455845\n",
      "Epoch: 12, Loss: 0.427009\n",
      "Epoch: 13, Loss: 0.172030\n",
      "Epoch: 14, Loss: 0.368295\n",
      "Epoch: 15, Loss: 0.465092\n",
      "Epoch: 16, Loss: 0.259483\n",
      "Epoch: 17, Loss: 0.122045\n",
      "Epoch: 18, Loss: 0.403431\n",
      "Epoch: 19, Loss: 0.213073\n",
      "Epoch: 20, Loss: 0.280044\n",
      "Epoch: 21, Loss: 0.591017\n",
      "Epoch: 22, Loss: 0.233892\n",
      "Epoch: 23, Loss: 0.248117\n",
      "Epoch: 24, Loss: 0.431227\n",
      "Epoch: 25, Loss: 0.190770\n",
      "Epoch: 26, Loss: 0.391573\n",
      "Epoch: 27, Loss: 0.132206\n",
      "Epoch: 28, Loss: 0.318764\n",
      "Epoch: 29, Loss: 0.396118\n",
      "Epoch: 30, Loss: 0.339462\n",
      "Epoch: 31, Loss: 0.110825\n",
      "Epoch: 32, Loss: 0.152879\n",
      "Epoch: 33, Loss: 0.165611\n",
      "Epoch: 34, Loss: 0.161831\n",
      "Epoch: 35, Loss: 0.049107\n",
      "Epoch: 36, Loss: 0.050863\n",
      "Epoch: 37, Loss: 0.137641\n",
      "Epoch: 38, Loss: 0.073147\n",
      "Epoch: 39, Loss: 0.125951\n",
      "Epoch: 40, Loss: 0.141900\n",
      "Epoch: 41, Loss: 0.222601\n",
      "Epoch: 42, Loss: 0.044722\n",
      "Epoch: 43, Loss: 0.095081\n",
      "Epoch: 44, Loss: 0.204177\n",
      "Epoch: 45, Loss: 0.029633\n",
      "Epoch: 46, Loss: 0.054709\n",
      "Epoch: 47, Loss: 0.046972\n",
      "Epoch: 48, Loss: 0.007107\n",
      "Epoch: 49, Loss: 0.567495\n",
      "Epoch: 50, Loss: 0.046244\n",
      "Epoch: 51, Loss: 0.023398\n",
      "Epoch: 52, Loss: 0.013692\n",
      "Epoch: 53, Loss: 0.088554\n",
      "Epoch: 54, Loss: 0.137249\n",
      "Epoch: 55, Loss: 0.023076\n",
      "Epoch: 56, Loss: 0.003519\n",
      "Epoch: 57, Loss: 0.034760\n",
      "Epoch: 58, Loss: 0.004098\n",
      "Epoch: 59, Loss: 0.005937\n",
      "Epoch: 60, Loss: 0.002368\n",
      "Epoch: 61, Loss: 0.160776\n",
      "Epoch: 62, Loss: 0.018867\n",
      "Epoch: 63, Loss: 0.005228\n",
      "Epoch: 64, Loss: 0.004456\n",
      "Epoch: 65, Loss: 0.077631\n",
      "Epoch: 66, Loss: 0.000471\n",
      "Epoch: 67, Loss: 0.023870\n",
      "Epoch: 68, Loss: 0.006782\n",
      "Epoch: 69, Loss: 0.003143\n",
      "Epoch: 70, Loss: 0.011619\n",
      "Epoch: 71, Loss: 0.001261\n",
      "Epoch: 72, Loss: 0.072066\n",
      "Epoch: 73, Loss: 0.002015\n",
      "Epoch: 74, Loss: 0.013633\n",
      "Epoch: 75, Loss: 0.012776\n",
      "Epoch: 76, Loss: 0.001211\n",
      "Epoch: 77, Loss: 0.001324\n",
      "Epoch: 78, Loss: 0.002545\n",
      "Epoch: 79, Loss: 0.022147\n",
      "Epoch: 80, Loss: 0.006628\n",
      "Epoch: 81, Loss: 0.001550\n",
      "Epoch: 82, Loss: 0.002988\n",
      "Epoch: 83, Loss: 0.000706\n",
      "Epoch: 84, Loss: 0.001653\n",
      "Epoch: 85, Loss: 0.001505\n",
      "Epoch: 86, Loss: 0.051669\n",
      "Epoch: 87, Loss: 0.000770\n",
      "Epoch: 88, Loss: 0.002528\n",
      "Epoch: 89, Loss: 0.009350\n",
      "Epoch: 90, Loss: 0.002137\n",
      "Epoch: 91, Loss: 0.000921\n",
      "Epoch: 92, Loss: 0.000859\n",
      "Epoch: 93, Loss: 0.000819\n",
      "Epoch: 94, Loss: 0.002682\n",
      "Epoch: 95, Loss: 0.002060\n",
      "Epoch: 96, Loss: 0.012079\n",
      "Epoch: 97, Loss: 0.001983\n",
      "Epoch: 98, Loss: 0.000210\n",
      "Epoch: 99, Loss: 0.030122\n"
     ]
    }
   ],
   "source": [
    "import torch\n",
    "import torch.nn as nn\n",
    "import torch.optim as optim\n",
    "\n",
    "train_loader = torch.utils.data.DataLoader(cifar2, batch_size=64,\n",
    "                                           shuffle=True)\n",
    "\n",
    "model = nn.Sequential(\n",
    "            nn.Linear(3072, 1024),\n",
    "            nn.Tanh(),\n",
    "            nn.Linear(1024, 512),\n",
    "            nn.Tanh(),\n",
    "            nn.Linear(512, 128),\n",
    "            nn.Tanh(),\n",
    "            nn.Linear(128, 2))\n",
    "\n",
    "learning_rate = 1e-2\n",
    "\n",
    "optimizer = optim.SGD(model.parameters(), lr=learning_rate)\n",
    "\n",
    "loss_fn = nn.CrossEntropyLoss()\n",
    "\n",
    "n_epochs = 100\n",
    "\n",
    "for epoch in range(n_epochs):\n",
    "    for imgs, labels in train_loader:\n",
    "        outputs = model(imgs.view(imgs.shape[0], -1))\n",
    "        loss = loss_fn(outputs, labels)\n",
    "\n",
    "        optimizer.zero_grad()\n",
    "        loss.backward()\n",
    "        optimizer.step()\n",
    "\n",
    "    print(\"Epoch: %d, Loss: %f\" % (epoch, float(loss)))"
   ],
   "metadata": {
    "collapsed": false,
    "ExecuteTime": {
     "end_time": "2024-03-01T23:52:55.285897Z",
     "start_time": "2024-03-01T23:51:54.905644Z"
    }
   },
   "id": "7f5e356e383b1d1e",
   "execution_count": 367
  },
  {
   "cell_type": "code",
   "outputs": [
    {
     "name": "stdout",
     "output_type": "stream",
     "text": [
      "Accuracy: 0.994100\n"
     ]
    }
   ],
   "source": [
    "train_loader = torch.utils.data.DataLoader(cifar2, batch_size=64, shuffle=False)\n",
    "\n",
    "correct = 0\n",
    "total = 0\n",
    "\n",
    "with torch.no_grad():\n",
    "    for imgs, labels in train_loader:\n",
    "        outputs = model(imgs.view(imgs.shape[0], -1))\n",
    "        _, predicted = torch.max(outputs, dim=1)\n",
    "        total += labels.shape[0]\n",
    "        correct += int((predicted == labels).sum())\n",
    "        \n",
    "print(\"Accuracy: %f\" % (correct / total))"
   ],
   "metadata": {
    "collapsed": false,
    "ExecuteTime": {
     "end_time": "2024-03-01T23:52:55.443202Z",
     "start_time": "2024-03-01T23:52:55.286688Z"
    }
   },
   "id": "c3f403e6290a58b0",
   "execution_count": 368
  },
  {
   "cell_type": "code",
   "outputs": [
    {
     "name": "stdout",
     "output_type": "stream",
     "text": [
      "Accuracy: 0.806500\n"
     ]
    }
   ],
   "source": [
    "val_loader = torch.utils.data.DataLoader(cifar2_val, batch_size=64, shuffle=False)\n",
    "\n",
    "correct = 0\n",
    "total = 0\n",
    "\n",
    "with torch.no_grad():\n",
    "    for imgs, labels in val_loader:\n",
    "        outputs = model(imgs.view(imgs.shape[0], -1))\n",
    "        _, predicted = torch.max(outputs, dim=1)\n",
    "        total += labels.shape[0]\n",
    "        correct += int((predicted == labels).sum())\n",
    "        \n",
    "print(\"Accuracy: %f\" % (correct / total))"
   ],
   "metadata": {
    "collapsed": false,
    "ExecuteTime": {
     "end_time": "2024-03-01T23:52:55.481798Z",
     "start_time": "2024-03-01T23:52:55.443983Z"
    }
   },
   "id": "ab1516927fbd5607",
   "execution_count": 369
  },
  {
   "cell_type": "code",
   "outputs": [
    {
     "data": {
      "text/plain": "3737474"
     },
     "execution_count": 370,
     "metadata": {},
     "output_type": "execute_result"
    }
   ],
   "source": [
    "sum([p.numel() for p in model.parameters()])"
   ],
   "metadata": {
    "collapsed": false,
    "ExecuteTime": {
     "end_time": "2024-03-01T23:52:55.485256Z",
     "start_time": "2024-03-01T23:52:55.482539Z"
    }
   },
   "id": "5b18ad2468b6288c",
   "execution_count": 370
  },
  {
   "cell_type": "code",
   "outputs": [
    {
     "data": {
      "text/plain": "3737474"
     },
     "execution_count": 371,
     "metadata": {},
     "output_type": "execute_result"
    }
   ],
   "source": [
    "sum([p.numel() for p in model.parameters() if p.requires_grad == True])"
   ],
   "metadata": {
    "collapsed": false,
    "ExecuteTime": {
     "end_time": "2024-03-01T23:52:55.488531Z",
     "start_time": "2024-03-01T23:52:55.485938Z"
    }
   },
   "id": "b62df6bd08497907",
   "execution_count": 371
  },
  {
   "cell_type": "code",
   "outputs": [],
   "source": [],
   "metadata": {
    "collapsed": false,
    "ExecuteTime": {
     "end_time": "2024-03-01T23:52:55.490493Z",
     "start_time": "2024-03-01T23:52:55.489143Z"
    }
   },
   "id": "c4038472a1335af5",
   "execution_count": 371
  }
 ],
 "metadata": {
  "kernelspec": {
   "display_name": "Python 3",
   "language": "python",
   "name": "python3"
  },
  "language_info": {
   "codemirror_mode": {
    "name": "ipython",
    "version": 2
   },
   "file_extension": ".py",
   "mimetype": "text/x-python",
   "name": "python",
   "nbconvert_exporter": "python",
   "pygments_lexer": "ipython2",
   "version": "2.7.6"
  }
 },
 "nbformat": 4,
 "nbformat_minor": 5
}
