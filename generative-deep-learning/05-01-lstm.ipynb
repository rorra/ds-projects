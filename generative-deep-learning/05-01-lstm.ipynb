{
 "cells": [
  {
   "cell_type": "code",
   "execution_count": 1,
   "id": "initial_id",
   "metadata": {
    "collapsed": true
   },
   "outputs": [],
   "source": [
    "import warnings\n",
    "warnings.filterwarnings('ignore') "
   ]
  },
  {
   "cell_type": "code",
   "outputs": [
    {
     "name": "stderr",
     "output_type": "stream",
     "text": [
      "2024-03-15 20:15:57.300760: E external/local_xla/xla/stream_executor/cuda/cuda_dnn.cc:9261] Unable to register cuDNN factory: Attempting to register factory for plugin cuDNN when one has already been registered\n",
      "2024-03-15 20:15:57.300785: E external/local_xla/xla/stream_executor/cuda/cuda_fft.cc:607] Unable to register cuFFT factory: Attempting to register factory for plugin cuFFT when one has already been registered\n",
      "2024-03-15 20:15:57.301410: E external/local_xla/xla/stream_executor/cuda/cuda_blas.cc:1515] Unable to register cuBLAS factory: Attempting to register factory for plugin cuBLAS when one has already been registered\n"
     ]
    }
   ],
   "source": [
    "%load_ext autoreload\n",
    "%autoreload 2\n",
    "\n",
    "import numpy as np\n",
    "import json\n",
    "import re\n",
    "import string\n",
    "\n",
    "import tensorflow as tf\n",
    "from tensorflow.keras import layers, models, callbacks, losses"
   ],
   "metadata": {
    "collapsed": false,
    "ExecuteTime": {
     "end_time": "2024-03-15T23:15:58.839919Z",
     "start_time": "2024-03-15T23:15:56.987096Z"
    }
   },
   "id": "47b9fe372693c3e3",
   "execution_count": 2
  },
  {
   "cell_type": "markdown",
   "source": [
    "# 0. Parameters"
   ],
   "metadata": {
    "collapsed": false
   },
   "id": "97bf013acf140eab"
  },
  {
   "cell_type": "code",
   "outputs": [],
   "source": [
    "VOCAB_SIZE = 10000\n",
    "MAX_LEN = 200\n",
    "EMBEDDING_DIM = 100\n",
    "N_UNITS = 128\n",
    "VALIDATION_SPLIT = 0.2\n",
    "SEED = 42\n",
    "LOAD_MODEL = False\n",
    "BATCH_SIZE = 32\n",
    "EPOCHS = 25"
   ],
   "metadata": {
    "collapsed": false,
    "ExecuteTime": {
     "end_time": "2024-03-15T23:15:58.865403Z",
     "start_time": "2024-03-15T23:15:58.841071Z"
    }
   },
   "id": "1c2e00edd4d36ae5",
   "execution_count": 3
  },
  {
   "cell_type": "markdown",
   "source": [
    "# 1. Load the data"
   ],
   "metadata": {
    "collapsed": false
   },
   "id": "90adc613e235f5bc"
  },
  {
   "cell_type": "code",
   "outputs": [
    {
     "name": "stdout",
     "output_type": "stream",
     "text": [
      "Downloading epirecipes.zip to /home/rorra/ds-projects/generative-deep-learning\r\n",
      " 71%|██████████████████████████▉           | 8.00M/11.3M [00:01<00:00, 12.5MB/s]\r\n",
      "100%|██████████████████████████████████████| 11.3M/11.3M [00:01<00:00, 9.71MB/s]\r\n"
     ]
    }
   ],
   "source": [
    "!kaggle datasets download hugodarwood/epirecipes"
   ],
   "metadata": {
    "collapsed": false,
    "ExecuteTime": {
     "end_time": "2024-03-15T23:16:02.428676Z",
     "start_time": "2024-03-15T23:15:59.570955Z"
    }
   },
   "id": "2f7fa7fd96c90a9a",
   "execution_count": 4
  },
  {
   "cell_type": "code",
   "outputs": [
    {
     "name": "stdout",
     "output_type": "stream",
     "text": [
      "Archive:  epirecipes.zip\r\n"
     ]
    }
   ],
   "source": [
    "!unzip -f epirecipes.zip -d data\n",
    "!rm epirecipes.zip"
   ],
   "metadata": {
    "collapsed": false,
    "ExecuteTime": {
     "end_time": "2024-03-15T23:16:03.388171Z",
     "start_time": "2024-03-15T23:16:03.121229Z"
    }
   },
   "id": "2efd69f79cc4569a",
   "execution_count": 5
  },
  {
   "cell_type": "code",
   "outputs": [],
   "source": [
    "# Load the full dataset\n",
    "with open(\"./data/full_format_recipes.json\") as json_data:\n",
    "    recipe_data = json.load(json_data)"
   ],
   "metadata": {
    "collapsed": false,
    "ExecuteTime": {
     "end_time": "2024-03-15T23:18:05.408045Z",
     "start_time": "2024-03-15T23:18:05.072668Z"
    }
   },
   "id": "f855a431430fd3e4",
   "execution_count": 6
  },
  {
   "cell_type": "code",
   "outputs": [],
   "source": [
    "# Filter the dataset\n",
    "filtered_data = [\n",
    "    \"Recipe for \" + x[\"title\"] + \" | \" + \" \".join(x[\"directions\"])\n",
    "    for x in recipe_data\n",
    "    if \"title\" in x\n",
    "    and x[\"title\"] is not None\n",
    "    and \"directions\" in x\n",
    "    and x[\"directions\"] is not None\n",
    "]"
   ],
   "metadata": {
    "collapsed": false,
    "ExecuteTime": {
     "end_time": "2024-03-15T23:18:09.219286Z",
     "start_time": "2024-03-15T23:18:09.168399Z"
    }
   },
   "id": "29df63ecb568e9be",
   "execution_count": 7
  },
  {
   "cell_type": "code",
   "outputs": [
    {
     "name": "stdout",
     "output_type": "stream",
     "text": [
      "20111 recipes loaded\n"
     ]
    }
   ],
   "source": [
    "# Count the recipes\n",
    "n_recipes = len(filtered_data)\n",
    "print(f\"{n_recipes} recipes loaded\")"
   ],
   "metadata": {
    "collapsed": false,
    "ExecuteTime": {
     "end_time": "2024-03-15T23:18:13.529683Z",
     "start_time": "2024-03-15T23:18:13.505925Z"
    }
   },
   "id": "10459f247befc597",
   "execution_count": 8
  },
  {
   "cell_type": "code",
   "outputs": [
    {
     "name": "stdout",
     "output_type": "stream",
     "text": [
      "Recipe for Ham Persillade with Mustard Potato Salad and Mashed Peas  | Chop enough parsley leaves to measure 1 tablespoon; reserve. Chop remaining leaves and stems and simmer with broth and garlic in a small saucepan, covered, 5 minutes. Meanwhile, sprinkle gelatin over water in a medium bowl and let soften 1 minute. Strain broth through a fine-mesh sieve into bowl with gelatin and stir to dissolve. Season with salt and pepper. Set bowl in an ice bath and cool to room temperature, stirring. Toss ham with reserved parsley and divide among jars. Pour gelatin on top and chill until set, at least 1 hour. Whisk together mayonnaise, mustard, vinegar, 1/4 teaspoon salt, and 1/4 teaspoon pepper in a large bowl. Stir in celery, cornichons, and potatoes. Pulse peas with marjoram, oil, 1/2 teaspoon pepper, and 1/4 teaspoon salt in a food processor to a coarse mash. Layer peas, then potato salad, over ham.\n"
     ]
    }
   ],
   "source": [
    "example = filtered_data[9]\n",
    "print(example)"
   ],
   "metadata": {
    "collapsed": false,
    "ExecuteTime": {
     "end_time": "2024-03-15T23:18:16.414365Z",
     "start_time": "2024-03-15T23:18:16.379668Z"
    }
   },
   "id": "9f1afe5f8b1121a7",
   "execution_count": 9
  },
  {
   "cell_type": "markdown",
   "source": [
    "# 2. Tokenise the data"
   ],
   "metadata": {
    "collapsed": false
   },
   "id": "cd445c22cdd53d12"
  },
  {
   "cell_type": "code",
   "outputs": [],
   "source": [
    "# Pad the punctuation, to treat them as separate 'words'\n",
    "def pad_punctuation(s):\n",
    "    s = re.sub(f\"([{string.punctuation}])\", r\" \\1 \", s)\n",
    "    s = re.sub(\" +\", \" \", s)\n",
    "    return s\n",
    "\n",
    "\n",
    "text_data = [pad_punctuation(x) for x in filtered_data]"
   ],
   "metadata": {
    "collapsed": false,
    "ExecuteTime": {
     "end_time": "2024-03-15T23:18:28.260605Z",
     "start_time": "2024-03-15T23:18:27.098202Z"
    }
   },
   "id": "868c1b411cb28d1b",
   "execution_count": 10
  },
  {
   "cell_type": "code",
   "outputs": [
    {
     "data": {
      "text/plain": "'Recipe for Ham Persillade with Mustard Potato Salad and Mashed Peas | Chop enough parsley leaves to measure 1 tablespoon ; reserve . Chop remaining leaves and stems and simmer with broth and garlic in a small saucepan , covered , 5 minutes . Meanwhile , sprinkle gelatin over water in a medium bowl and let soften 1 minute . Strain broth through a fine - mesh sieve into bowl with gelatin and stir to dissolve . Season with salt and pepper . Set bowl in an ice bath and cool to room temperature , stirring . Toss ham with reserved parsley and divide among jars . Pour gelatin on top and chill until set , at least 1 hour . Whisk together mayonnaise , mustard , vinegar , 1 / 4 teaspoon salt , and 1 / 4 teaspoon pepper in a large bowl . Stir in celery , cornichons , and potatoes . Pulse peas with marjoram , oil , 1 / 2 teaspoon pepper , and 1 / 4 teaspoon salt in a food processor to a coarse mash . Layer peas , then potato salad , over ham . '"
     },
     "execution_count": 11,
     "metadata": {},
     "output_type": "execute_result"
    }
   ],
   "source": [
    "# Display an example of a recipe\n",
    "example_data = text_data[9]\n",
    "example_data"
   ],
   "metadata": {
    "collapsed": false,
    "ExecuteTime": {
     "end_time": "2024-03-15T23:18:29.858907Z",
     "start_time": "2024-03-15T23:18:29.832626Z"
    }
   },
   "id": "47610b631950cd18",
   "execution_count": 11
  },
  {
   "cell_type": "code",
   "outputs": [
    {
     "name": "stderr",
     "output_type": "stream",
     "text": [
      "2024-03-15 20:18:36.914255: I external/local_xla/xla/stream_executor/cuda/cuda_executor.cc:901] successful NUMA node read from SysFS had negative value (-1), but there must be at least one NUMA node, so returning NUMA node zero. See more at https://github.com/torvalds/linux/blob/v6.0/Documentation/ABI/testing/sysfs-bus-pci#L344-L355\n",
      "2024-03-15 20:18:36.925684: I external/local_xla/xla/stream_executor/cuda/cuda_executor.cc:901] successful NUMA node read from SysFS had negative value (-1), but there must be at least one NUMA node, so returning NUMA node zero. See more at https://github.com/torvalds/linux/blob/v6.0/Documentation/ABI/testing/sysfs-bus-pci#L344-L355\n",
      "2024-03-15 20:18:36.929886: I external/local_xla/xla/stream_executor/cuda/cuda_executor.cc:901] successful NUMA node read from SysFS had negative value (-1), but there must be at least one NUMA node, so returning NUMA node zero. See more at https://github.com/torvalds/linux/blob/v6.0/Documentation/ABI/testing/sysfs-bus-pci#L344-L355\n",
      "2024-03-15 20:18:36.943203: I external/local_xla/xla/stream_executor/cuda/cuda_executor.cc:901] successful NUMA node read from SysFS had negative value (-1), but there must be at least one NUMA node, so returning NUMA node zero. See more at https://github.com/torvalds/linux/blob/v6.0/Documentation/ABI/testing/sysfs-bus-pci#L344-L355\n",
      "2024-03-15 20:18:36.950369: I external/local_xla/xla/stream_executor/cuda/cuda_executor.cc:901] successful NUMA node read from SysFS had negative value (-1), but there must be at least one NUMA node, so returning NUMA node zero. See more at https://github.com/torvalds/linux/blob/v6.0/Documentation/ABI/testing/sysfs-bus-pci#L344-L355\n",
      "2024-03-15 20:18:36.956732: I external/local_xla/xla/stream_executor/cuda/cuda_executor.cc:901] successful NUMA node read from SysFS had negative value (-1), but there must be at least one NUMA node, so returning NUMA node zero. See more at https://github.com/torvalds/linux/blob/v6.0/Documentation/ABI/testing/sysfs-bus-pci#L344-L355\n",
      "2024-03-15 20:18:37.116059: I external/local_xla/xla/stream_executor/cuda/cuda_executor.cc:901] successful NUMA node read from SysFS had negative value (-1), but there must be at least one NUMA node, so returning NUMA node zero. See more at https://github.com/torvalds/linux/blob/v6.0/Documentation/ABI/testing/sysfs-bus-pci#L344-L355\n",
      "2024-03-15 20:18:37.117443: I external/local_xla/xla/stream_executor/cuda/cuda_executor.cc:901] successful NUMA node read from SysFS had negative value (-1), but there must be at least one NUMA node, so returning NUMA node zero. See more at https://github.com/torvalds/linux/blob/v6.0/Documentation/ABI/testing/sysfs-bus-pci#L344-L355\n",
      "2024-03-15 20:18:37.119124: I external/local_xla/xla/stream_executor/cuda/cuda_executor.cc:901] successful NUMA node read from SysFS had negative value (-1), but there must be at least one NUMA node, so returning NUMA node zero. See more at https://github.com/torvalds/linux/blob/v6.0/Documentation/ABI/testing/sysfs-bus-pci#L344-L355\n",
      "2024-03-15 20:18:37.120333: I tensorflow/core/common_runtime/gpu/gpu_device.cc:1929] Created device /job:localhost/replica:0/task:0/device:GPU:0 with 873 MB memory:  -> device: 0, name: NVIDIA GeForce RTX 3080, pci bus id: 0000:0a:00.0, compute capability: 8.6\n"
     ]
    }
   ],
   "source": [
    "# Convert to a Tensorflow Dataset\n",
    "text_ds = (\n",
    "    tf.data.Dataset.from_tensor_slices(text_data)\n",
    "    .batch(BATCH_SIZE)\n",
    "    .shuffle(1000)\n",
    ")"
   ],
   "metadata": {
    "collapsed": false,
    "ExecuteTime": {
     "end_time": "2024-03-15T23:18:37.174175Z",
     "start_time": "2024-03-15T23:18:36.713721Z"
    }
   },
   "id": "867a5e5223d382aa",
   "execution_count": 12
  },
  {
   "cell_type": "code",
   "outputs": [],
   "source": [
    "# Create a vectorisation layer\n",
    "vectorize_layer = layers.TextVectorization(\n",
    "    standardize=\"lower\",\n",
    "    max_tokens=VOCAB_SIZE,\n",
    "    output_mode=\"int\",\n",
    "    output_sequence_length=MAX_LEN + 1,\n",
    ")"
   ],
   "metadata": {
    "collapsed": false,
    "ExecuteTime": {
     "end_time": "2024-03-15T23:18:42.373715Z",
     "start_time": "2024-03-15T23:18:42.338469Z"
    }
   },
   "id": "db0caf0df8b8cbdb",
   "execution_count": 13
  },
  {
   "cell_type": "code",
   "outputs": [],
   "source": [
    "# Adapt the layer to the training set\n",
    "vectorize_layer.adapt(text_ds)\n",
    "vocab = vectorize_layer.get_vocabulary()"
   ],
   "metadata": {
    "collapsed": false,
    "ExecuteTime": {
     "end_time": "2024-03-15T23:18:46.323099Z",
     "start_time": "2024-03-15T23:18:45.374355Z"
    }
   },
   "id": "a1bcd51bc720232c",
   "execution_count": 14
  },
  {
   "cell_type": "code",
   "outputs": [
    {
     "name": "stdout",
     "output_type": "stream",
     "text": [
      "0: \n",
      "1: [UNK]\n",
      "2: .\n",
      "3: ,\n",
      "4: and\n",
      "5: to\n",
      "6: in\n",
      "7: the\n",
      "8: with\n",
      "9: a\n"
     ]
    }
   ],
   "source": [
    "# Display some token:word mappings\n",
    "for i, word in enumerate(vocab[:10]):\n",
    "    print(f\"{i}: {word}\")"
   ],
   "metadata": {
    "collapsed": false,
    "ExecuteTime": {
     "end_time": "2024-03-15T23:18:48.455406Z",
     "start_time": "2024-03-15T23:18:48.421400Z"
    }
   },
   "id": "f774c40536eb3586",
   "execution_count": 15
  },
  {
   "cell_type": "code",
   "outputs": [
    {
     "name": "stderr",
     "output_type": "stream",
     "text": [
      "2024-03-15 20:18:51.860772: I external/local_tsl/tsl/platform/default/subprocess.cc:304] Start cannot spawn child process: No such file or directory\n"
     ]
    },
    {
     "name": "stdout",
     "output_type": "stream",
     "text": [
      "[  26   16  557    1    8  298  335  189    4 1054  494   27  332  228\n",
      "  235  262    5  594   11  133   22  311    2  332   45  262    4  671\n",
      "    4   70    8  171    4   81    6    9   65   80    3  121    3   59\n",
      "   12    2  299    3   88  650   20   39    6    9   29   21    4   67\n",
      "  529   11  164    2  320  171  102    9  374   13  643  306   25   21\n",
      "    8  650    4   42    5  931    2   63    8   24    4   33    2  114\n",
      "   21    6  178  181 1245    4   60    5  140  112    3   48    2  117\n",
      "  557    8  285  235    4  200  292  980    2  107  650   28   72    4\n",
      "  108   10  114    3   57  204   11  172    2   73  110  482    3  298\n",
      "    3  190    3   11   23   32  142   24    3    4   11   23   32  142\n",
      "   33    6    9   30   21    2   42    6  353    3 3224    3    4  150\n",
      "    2  437  494    8 1281    3   37    3   11   23   15  142   33    3\n",
      "    4   11   23   32  142   24    6    9  291  188    5    9  412  572\n",
      "    2  230  494    3   46  335  189    3   20  557    2    0    0    0\n",
      "    0    0    0    0    0]\n"
     ]
    }
   ],
   "source": [
    "# Display the same example converted to ints\n",
    "example_tokenised = vectorize_layer(example_data)\n",
    "print(example_tokenised.numpy())"
   ],
   "metadata": {
    "collapsed": false,
    "ExecuteTime": {
     "end_time": "2024-03-15T23:18:52.187144Z",
     "start_time": "2024-03-15T23:18:51.692429Z"
    }
   },
   "id": "6f13cc57fa72caa0",
   "execution_count": 16
  },
  {
   "cell_type": "markdown",
   "source": [
    "# 3. Create the Training Set"
   ],
   "metadata": {
    "collapsed": false
   },
   "id": "ec199c6b8ce53082"
  },
  {
   "cell_type": "code",
   "outputs": [],
   "source": [
    "# Create the training set of recipes and the same text shifted by one word\n",
    "def prepare_inputs(text):\n",
    "    text = tf.expand_dims(text, -1)\n",
    "    tokenized_sentences = vectorize_layer(text)\n",
    "    x = tokenized_sentences[:, :-1]\n",
    "    y = tokenized_sentences[:, 1:]\n",
    "    return x, y\n",
    "\n",
    "\n",
    "train_ds = text_ds.map(prepare_inputs)"
   ],
   "metadata": {
    "collapsed": false,
    "ExecuteTime": {
     "end_time": "2024-03-15T23:19:06.764230Z",
     "start_time": "2024-03-15T23:19:06.692641Z"
    }
   },
   "id": "adc6ee46db452e53",
   "execution_count": 17
  },
  {
   "cell_type": "markdown",
   "source": [
    "# 4. Build the LSTM"
   ],
   "metadata": {
    "collapsed": false
   },
   "id": "4f159ee99bd8dd47"
  },
  {
   "cell_type": "code",
   "outputs": [
    {
     "name": "stdout",
     "output_type": "stream",
     "text": [
      "Model: \"model\"\n",
      "_________________________________________________________________\n",
      " Layer (type)                Output Shape              Param #   \n",
      "=================================================================\n",
      " input_1 (InputLayer)        [(None, None)]            0         \n",
      "                                                                 \n",
      " embedding (Embedding)       (None, None, 100)         1000000   \n",
      "                                                                 \n",
      " lstm (LSTM)                 (None, None, 128)         117248    \n",
      "                                                                 \n",
      " dense (Dense)               (None, None, 10000)       1290000   \n",
      "                                                                 \n",
      "=================================================================\n",
      "Total params: 2407248 (9.18 MB)\n",
      "Trainable params: 2407248 (9.18 MB)\n",
      "Non-trainable params: 0 (0.00 Byte)\n",
      "_________________________________________________________________\n"
     ]
    }
   ],
   "source": [
    "inputs = layers.Input(shape=(None,), dtype=\"int32\")\n",
    "x = layers.Embedding(VOCAB_SIZE, EMBEDDING_DIM)(inputs)\n",
    "x = layers.LSTM(N_UNITS, return_sequences=True)(x)\n",
    "outputs = layers.Dense(VOCAB_SIZE, activation=\"softmax\")(x)\n",
    "lstm = models.Model(inputs, outputs)\n",
    "lstm.summary()"
   ],
   "metadata": {
    "collapsed": false,
    "ExecuteTime": {
     "end_time": "2024-03-15T23:19:18.320768Z",
     "start_time": "2024-03-15T23:19:18.056928Z"
    }
   },
   "id": "517139154dbbaa02",
   "execution_count": 18
  },
  {
   "cell_type": "code",
   "outputs": [],
   "source": [
    "if LOAD_MODEL:\n",
    "    # model.load_weights('./models/model')\n",
    "    lstm = models.load_model(\"./models/lstm\", compile=False)"
   ],
   "metadata": {
    "collapsed": false,
    "ExecuteTime": {
     "end_time": "2024-03-15T23:19:21.044904Z",
     "start_time": "2024-03-15T23:19:21.010266Z"
    }
   },
   "id": "119d6b0c943780f3",
   "execution_count": 19
  },
  {
   "cell_type": "markdown",
   "source": [
    "# 5. Train the LSTM"
   ],
   "metadata": {
    "collapsed": false
   },
   "id": "6cecbf69fdd2f582"
  },
  {
   "cell_type": "code",
   "outputs": [],
   "source": [
    "loss_fn = losses.SparseCategoricalCrossentropy()\n",
    "lstm.compile(\"adam\", loss_fn)"
   ],
   "metadata": {
    "collapsed": false,
    "ExecuteTime": {
     "end_time": "2024-03-15T23:19:32.865465Z",
     "start_time": "2024-03-15T23:19:32.830769Z"
    }
   },
   "id": "4aee028cec537c3e",
   "execution_count": 20
  },
  {
   "cell_type": "code",
   "outputs": [],
   "source": [
    "# Create a TextGenerator checkpoint\n",
    "class TextGenerator(callbacks.Callback):\n",
    "    def __init__(self, index_to_word, top_k=10):\n",
    "        self.index_to_word = index_to_word\n",
    "        self.word_to_index = {\n",
    "            word: index for index, word in enumerate(index_to_word)\n",
    "        }  # <1>\n",
    "\n",
    "    def sample_from(self, probs, temperature):  # <2>\n",
    "        probs = probs ** (1 / temperature)\n",
    "        probs = probs / np.sum(probs)\n",
    "        return np.random.choice(len(probs), p=probs), probs\n",
    "\n",
    "    def generate(self, start_prompt, max_tokens, temperature):\n",
    "        start_tokens = [\n",
    "            self.word_to_index.get(x, 1) for x in start_prompt.split()\n",
    "        ]  # <3>\n",
    "        sample_token = None\n",
    "        info = []\n",
    "        while len(start_tokens) < max_tokens and sample_token != 0:  # <4>\n",
    "            x = np.array([start_tokens])\n",
    "            y = self.model.predict(x, verbose=0)  # <5>\n",
    "            sample_token, probs = self.sample_from(y[0][-1], temperature)  # <6>\n",
    "            info.append({\"prompt\": start_prompt, \"word_probs\": probs})\n",
    "            start_tokens.append(sample_token)  # <7>\n",
    "            start_prompt = start_prompt + \" \" + self.index_to_word[sample_token]\n",
    "        print(f\"\\ngenerated text:\\n{start_prompt}\\n\")\n",
    "        return info\n",
    "\n",
    "    def on_epoch_end(self, epoch, logs=None):\n",
    "        self.generate(\"recipe for\", max_tokens=100, temperature=1.0)"
   ],
   "metadata": {
    "collapsed": false,
    "ExecuteTime": {
     "end_time": "2024-03-15T23:19:37.680108Z",
     "start_time": "2024-03-15T23:19:37.650922Z"
    }
   },
   "id": "f0b9dd09ff0895b5",
   "execution_count": 21
  },
  {
   "cell_type": "code",
   "outputs": [],
   "source": [
    "# Create a model save checkpoint\n",
    "model_checkpoint_callback = callbacks.ModelCheckpoint(\n",
    "    filepath=\"./checkpoint/checkpoint.ckpt\",\n",
    "    save_weights_only=True,\n",
    "    save_freq=\"epoch\",\n",
    "    verbose=0,\n",
    ")\n",
    "\n",
    "tensorboard_callback = callbacks.TensorBoard(log_dir=\"./logs\")\n",
    "\n",
    "# Tokenize starting prompt\n",
    "text_generator = TextGenerator(vocab)"
   ],
   "metadata": {
    "collapsed": false,
    "ExecuteTime": {
     "end_time": "2024-03-15T23:19:41.185118Z",
     "start_time": "2024-03-15T23:19:41.153261Z"
    }
   },
   "id": "82195a8c861bcdfc",
   "execution_count": 22
  },
  {
   "cell_type": "code",
   "outputs": [
    {
     "name": "stdout",
     "output_type": "stream",
     "text": [
      "Epoch 1/25\n"
     ]
    },
    {
     "name": "stderr",
     "output_type": "stream",
     "text": [
      "2024-03-15 20:19:45.766640: I external/local_xla/xla/stream_executor/cuda/cuda_dnn.cc:454] Loaded cuDNN version 8907\n",
      "2024-03-15 20:19:45.837324: I external/local_xla/xla/service/service.cc:168] XLA service 0x7cae0f779710 initialized for platform CUDA (this does not guarantee that XLA will be used). Devices:\n",
      "2024-03-15 20:19:45.837342: I external/local_xla/xla/service/service.cc:176]   StreamExecutor device (0): NVIDIA GeForce RTX 3080, Compute Capability 8.6\n",
      "2024-03-15 20:19:45.841944: I tensorflow/compiler/mlir/tensorflow/utils/dump_mlir_util.cc:269] disabling MLIR crash reproducer, set env var `MLIR_CRASH_REPRODUCER_DIRECTORY` to enable.\n",
      "WARNING: All log messages before absl::InitializeLog() is called are written to STDERR\n",
      "I0000 00:00:1710544785.907765   31886 device_compiler.h:186] Compiled cluster using XLA!  This line is logged at most once for the lifetime of the process.\n"
     ]
    },
    {
     "name": "stdout",
     "output_type": "stream",
     "text": [
      "628/629 [============================>.] - ETA: 0s - loss: 4.4399\n",
      "generated text:\n",
      "recipe for preheat mix ramekins in in mushroom from processor . add add a food a beat 1 to bowl , fleur minutes ; prepare apple . pepper . season occasionally . salt on pepper . stir , 18 with rim cup 2 crimp brown until just preferably wedge ; water and sauté vinegar the tequila to roast brown and and sauté until the crosswise and wash the 3 over tender , refrigerate . 2 oil . blend in each bread remaining stirring and remove . stir and flake with matchstick around . serve . one pulse heat , x\n",
      "\n",
      "629/629 [==============================] - 34s 52ms/step - loss: 4.4386\n",
      "Epoch 2/25\n",
      "627/629 [============================>.] - ETA: 0s - loss: 3.1194\n",
      "generated text:\n",
      "recipe for walnut pizza - tough | marinate the coriander on the bottom ; 3 consommé to rack in a large mixture . reserve to 400°f . wrap dough over reduce , then cool well . remove yolk should grinder , discard timing on a wide sheets parchment . brush vegetable dill , covered in each cheesecake . chop distribute warm crust ( using into challah or overlapping form . working in the upper ) in the pan . 350°f store . blend watermelon in large saucepan and trout in a pot over soufflé . gently stir in sugar in\n",
      "\n",
      "629/629 [==============================] - 17s 27ms/step - loss: 3.1180\n",
      "Epoch 3/25\n",
      "629/629 [==============================] - ETA: 0s - loss: 2.5222\n",
      "generated text:\n",
      "recipe for pumpkin fried soup with green onions | rub 1 / 2 cup nuts and or half . ) \n",
      "\n",
      "629/629 [==============================] - 16s 25ms/step - loss: 2.5222\n",
      "Epoch 4/25\n",
      "629/629 [==============================] - ETA: 0s - loss: 2.2625\n",
      "generated text:\n",
      "recipe for parsleyed each gravy and face olives with garlic | place chicken in a stack of a plastic bag over { sheet of four tablespoonfuls then loosen , mash with tongs if the ridged manufacturer ' s instructions and beat well . steam potatoes in batches , stirring to 5 minutes . stir in the sausage and stir together more the shrimp with the lid and blend . remove from the vent , and the emulsify the seasoning and serve . pour 2 cups of batter over ice , 5 piece of each broth out bread rounds , then\n",
      "\n",
      "629/629 [==============================] - 22s 34ms/step - loss: 2.2625\n",
      "Epoch 5/25\n",
      "629/629 [==============================] - ETA: 0s - loss: 2.1145\n",
      "generated text:\n",
      "recipe for [UNK] | preheat oven to 350°f . filling in a large bowl sift together flour , almonds , while the flour , the apple seeds , and flour , stirring once , or until the mixture is light and form a use , beat together sugar , the juice , flour , and flaxseed in a blender . dredge in the pot over the heat until it is softened , 3 to 5 minutes . use logs 3 curd so that omit them is evaporated . place potatoes in a blender and stir in tofu for 10 minutes\n",
      "\n",
      "629/629 [==============================] - 21s 33ms/step - loss: 2.1145\n",
      "Epoch 6/25\n",
      "628/629 [============================>.] - ETA: 0s - loss: 2.0107\n",
      "generated text:\n",
      "recipe for lemon cooler | 1 . whisk the milk , yeast , in the food processor until emulsified . add coarse kosher salt . peel turnips , reserving seeds . stir in the vinegar | scrape sauce into melon or 2 potato halves , leaving a [UNK] \" plate . enclose well in a bowl , or warm and add the powder , potato leaves , the almonds , and remaining apple paste . let stand for at room temperature 1 hour . in the oven for 5 minutes , stir together the avocado , orange juice , green\n",
      "\n",
      "629/629 [==============================] - 21s 33ms/step - loss: 2.0109\n",
      "Epoch 7/25\n",
      "629/629 [==============================] - ETA: 0s - loss: 1.9351\n",
      "generated text:\n",
      "recipe for buttery sugar and pistachio \" rhubarb [UNK] - cheddar pie crust | preheat the oven to the oven to 350°f . remove the honey from the stick . leave the tung third of the oven . whisk all ingredients in a large bowl and let stand for 10 minutes . lightly make the on a lightly floured surface or floured surface together egg dough and put in an electric mixer or a egg a blender . a 12 - by 7 - inch baking sheets until it is crisp , wrap in ice and chill for at least\n",
      "\n",
      "629/629 [==============================] - 21s 33ms/step - loss: 1.9351\n",
      "Epoch 8/25\n",
      "628/629 [============================>.] - ETA: 0s - loss: 1.8755\n",
      "generated text:\n",
      "recipe for fresh asparagus with rum olive lime relish | combine cranberries , ricotta , sugar , butter and vanilla in bowl and blend . stir in oil and press to remaining steak in glass purée until combined well . season sauce to taste with salt and pepper . ( can be made 1 day ahead . cover and refrigerate frozen . ) toss pasta with berries and next 11 - 21 / 4 teaspoon pepper on rimmed baking sheet . sprinkle each with salt and pepper , then roll up fish with plastic wrap . sprinkle with salt and\n",
      "\n",
      "629/629 [==============================] - 21s 33ms/step - loss: 1.8757\n",
      "Epoch 9/25\n",
      "629/629 [==============================] - ETA: 0s - loss: 1.8280\n",
      "generated text:\n",
      "recipe for tangy peanut butter frosting | whisk first 4 ingredients and 1 tablespoon vegetable oil in large skillet over medium - high heat . add dry ingredients and add 1 tablespoon . add remaining 4 tablespoons ice water to cover , then stir over milk and chocolate until just tender , about 4 minutes . using lid , transfer to medium bowl . add chocolate and next / 4 cup sugar and bring to boil . remove pan from heat . bring mixture to boil , skimming at least 10 minutes before peaks form . immediately invert filling onto\n",
      "\n",
      "629/629 [==============================] - 21s 34ms/step - loss: 1.8280\n",
      "Epoch 10/25\n",
      "629/629 [==============================] - ETA: 0s - loss: 1.7885\n",
      "generated text:\n",
      "recipe for red - pepper harissa sauce | combine onions , yogurt , parsley , tarragon , ginger , paprika , lemon juice , onion , and garlic in blender . season with salt . roll out puff of corn up slightly on crack at meringue stay . ; rub all sides of rosemary with 1 cup breast tenderloin under skin . brush 3 / 4 x 4 / 4 - inch ahead , spacing evenly . sprinkle bacon with salt and pepper ; drizzle with marinade . place crystallized garlic cloves . cover stuffing with foil and reserve .\n",
      "\n",
      "629/629 [==============================] - 21s 34ms/step - loss: 1.7885\n",
      "Epoch 11/25\n",
      "628/629 [============================>.] - ETA: 0s - loss: 1.7553\n",
      "generated text:\n",
      "recipe for roasted cheddar turkey with cranberry gravy | preheat oven to 450°f . place garlic cube and onions in broccoli , tossing every batch and everything frequently until rabbit is golden , about 30 minutes . transfer to plate . add half of brown and olive oil . bake until cooked through , reversing pan until sauce . simmer until fettuccine is tender and trapped yet brown , 25 to 1 hour 15 minutes . let cool slightly . meanwhile , place 2 mangoes cider and tomatoes in small bowl . add onions , in 10 - to coat\n",
      "\n",
      "629/629 [==============================] - 21s 33ms/step - loss: 1.7553\n",
      "Epoch 12/25\n",
      "629/629 [==============================] - ETA: 0s - loss: 1.7268\n",
      "generated text:\n",
      "recipe for aji verde | blend almonds ( 3 / 4 cup ) mustard in small bowl . add orange peel sauce , tossing to blend ; pour into bowl . heat 2 tablespoons cream in medium saucepan over medium - high heat until sugar is smooth . spoon , pressing down . return wine to pan ; stir over low heat until syrup thickens slightly consistency . pour batter into skillet , allowing tops of counter to thin ( keep for another use ) , adding pan to 4x2 by 4 - inch - diameter springform pan . repeat\n",
      "\n",
      "629/629 [==============================] - 21s 34ms/step - loss: 1.7268\n",
      "Epoch 13/25\n",
      "629/629 [==============================] - ETA: 0s - loss: 1.7016\n",
      "generated text:\n",
      "recipe for salmon with haroseth and hazelnuts | in a blender blend the mayonnaise , orange juice , the sausage , red beans , and the salt in the food processor until most of the mixture resembles coarse meal , then season to taste with salt . set the onions aside . substitute the muffin cups , the milk , and brown sugar with the butter on the baking until the outside of the sugar has dissolved . pour the pan over the pan . combine an 3 / 4 - cup custard cups ( you in the same manner\n",
      "\n",
      "629/629 [==============================] - 21s 33ms/step - loss: 1.7016\n",
      "Epoch 14/25\n",
      "629/629 [==============================] - ETA: 0s - loss: 1.6794\n",
      "generated text:\n",
      "recipe for mozzarella with beef - orange ribs | place all in 3 - to 3 - quart heavy saucepan over medium heat . stir in water . boil until sauce is moist , 8 cups . remove from heat . mix in herbs , 1 teaspoon salt and 1 / 2 teaspoon pepper and keep warm , then chill until sweet sauce is most florets is absorbed , about 9 minutes . toss pecans with extra - virgin olive oil . make a thin sauce along with some of back of a spoon or small sharp serving serving of\n",
      "\n",
      "629/629 [==============================] - 21s 34ms/step - loss: 1.6794\n",
      "Epoch 15/25\n",
      "628/629 [============================>.] - ETA: 0s - loss: 1.6589\n",
      "generated text:\n",
      "recipe for game hen bowl with spicy wine dressing | preheat oven to 425°f . place on rack 10 minutes and drain . combine first 6 ingredients in small bowl ; set aside . whisk lemon juice in small bowl . blend chicken , 1 / 4 cup dill ( reserve dressing in lemon juice ) . season with salt and pepper . combine spice rub spice mayonnaise and vinegar and blend in small bowl . season chickpea mixture to taste with salt and pepper . using electric mixer , beat cream in medium bowl until they form evenly .\n",
      "\n",
      "629/629 [==============================] - 22s 35ms/step - loss: 1.6593\n",
      "Epoch 16/25\n",
      "629/629 [==============================] - ETA: 0s - loss: 1.6413\n",
      "generated text:\n",
      "recipe for lemon miso dressing | preheat oven to 450°f . sprinkle garlic and 1 / 2 teaspoon sugar mixture over vegetables . add salt to a small frying pan and coat salmon evenly , pressing to adhere . leave a round ball on a parchment - lined shallow baking dish and tie in oil in a shallow bowl . place 2 teaspoons fish on each side . rub 1 tablespoon rounded teaspoons oil over fish to create a ranch dip again , and pack separately . fold chicken over egg and slice basil leaves . in bowl of vinaigrette\n",
      "\n",
      "629/629 [==============================] - 21s 33ms/step - loss: 1.6413\n",
      "Epoch 17/25\n",
      "628/629 [============================>.] - ETA: 0s - loss: 1.6243\n",
      "generated text:\n",
      "recipe for mashed potatoes and fried goose around tortilla in cilantro - glazed croutons | position rack in middle position and preheat dry . melt 1 tablespoon oil in a 3 - quart saucepan over low heat until smoking . cook shallot , stirring constantly , until paste begins to color and creamy but not starting to marinate , about 20 minutes . cook scallops in a dry skillet and fry , add carrots and onions , vegetables , and garlic to same pot of boiling water 5 minutes . add water and bring to a boil . reduce heat\n",
      "\n",
      "629/629 [==============================] - 21s 33ms/step - loss: 1.6247\n",
      "Epoch 18/25\n",
      "628/629 [============================>.] - ETA: 0s - loss: 1.6094\n",
      "generated text:\n",
      "recipe for chocolate and hazelnut torte | put the center of 9 - cake round , 1 at the syrup , cashew syrup , and fill it . with a box grater if using well ( you ) or lightly with the butter cutter cut out larger lengthwise and transfer as a squeeze 2 thicknesses of ice water to 1 / 2 pounds ( less - thirds ) . let the 3 well ( this will have pulse in a food coloring ) . whisk in a bit 1 1 / 2 cups water and 1 / 4 teaspoon salt\n",
      "\n",
      "629/629 [==============================] - 21s 33ms/step - loss: 1.6093\n",
      "Epoch 19/25\n",
      "629/629 [==============================] - ETA: 0s - loss: 1.5952\n",
      "generated text:\n",
      "recipe for dark brown rice and goat cheese | a sharp knife , halve the jelly horizontally and roll between the sides of the edges of the bread with a spatula . lightly broil the bread with a spatula . sprinkle the remaining out all with salt and cinnamon stick . sprinkle with one layer , and crisp the pan decoratively on a baking sheet . broil the stuffing for at least 4 minutes , or until they are crisp and the browned lightly . serve with the butter . \n",
      "\n",
      "629/629 [==============================] - 21s 33ms/step - loss: 1.5952\n",
      "Epoch 20/25\n",
      "628/629 [============================>.] - ETA: 0s - loss: 1.5818\n",
      "generated text:\n",
      "recipe for classic confit | in a food processor purée carrot with salt in a medium bowl with electric mixer cream in a large bowl with an electric mixer at high speed until fluffy , about 10 seconds . add half of tartar , stirring until smooth , and well blended , 3 minutes . whisk in chocolate , scotch , and remaining 1 / 2 teaspoon sugar . add remaining 1 / 2 cups ( about 1 / 2 cup ) without chives , whisking . taste and adjust seasoning with salt , and stir until smooth . pour\n",
      "\n",
      "629/629 [==============================] - 21s 33ms/step - loss: 1.5819\n",
      "Epoch 21/25\n",
      "628/629 [============================>.] - ETA: 0s - loss: 1.5701\n",
      "generated text:\n",
      "recipe for cocoa profiteroles with lemon buttercream | preheat oven to 350°f . spread pastry evenly over large spatula and fold in tops of ricotta mixture creamy , if desired . starting at base , evenly , slice enough champagne to three 1 / 4 - ounce - quarters per strip , forming each cake , place it on top , egg white , and chocolate curls from grapefruit segments . let cool 5 to 12 minutes . place 2 cups ice cream . pour until melted and smooth . chill at least 10 hours and up to 2 days\n",
      "\n",
      "629/629 [==============================] - 21s 33ms/step - loss: 1.5698\n",
      "Epoch 22/25\n",
      "629/629 [==============================] - ETA: 0s - loss: 1.5583\n",
      "generated text:\n",
      "recipe for hollandaise | cook sweet potatoes , bacon , and 10 to pot over medium heat , stirring often , until edges are crisp , 5 to 6 minutes . toss with a slotted spoon to spread over top . \n",
      "\n",
      "629/629 [==============================] - 19s 30ms/step - loss: 1.5583\n",
      "Epoch 23/25\n",
      "629/629 [==============================] - ETA: 0s - loss: 1.5475\n",
      "generated text:\n",
      "recipe for sanuki broccoli - blossom sweet potatoes | put oven rack in a shallow dish . lower thirds of oven to 350°f . in a large skillet with an electric mixer cream with sugar until crisp . add remaining 1 tablespoon oil and continue to cook , stirring , until sugar is melted . stir in almond extract and salt . cook ham in gelatin 1 / 2 cup simmering water until fluffy , to 175°f . add potatoes , 1 / 4 cup brandy , and water ( to combine ) . cut off top and peel in\n",
      "\n",
      "629/629 [==============================] - 21s 34ms/step - loss: 1.5475\n",
      "Epoch 24/25\n",
      "629/629 [==============================] - ETA: 0s - loss: 1.5374\n",
      "generated text:\n",
      "recipe for pork pound sausage | heat milk in a large pot over medium - high . add veal ; reduce heat to high , add flour and cook , stirring occasionally , until dark raw steaks are golden brown , about 8 minutes . add carrots to pot ; sauté until brown , about 10 minutes , then reduce heat to low . add eggs , chicken , leek , oregano , celery , onion , salt , and bay leaf ; bring to a boil , lower heat and continue cooking until cooked through , about 10 minutes\n",
      "\n",
      "629/629 [==============================] - 21s 33ms/step - loss: 1.5374\n",
      "Epoch 25/25\n",
      "629/629 [==============================] - ETA: 0s - loss: 1.5278\n",
      "generated text:\n",
      "recipe for vegetable curry sauce | in a potato pot arrange the spaghetti in an immersion blender in the boat in a heatproof bag , opening mounds , making sure fish like the packet . place the lamb in the brine and toss well . heat the pan to 350°f , drizzle with the olive oil and set aside . cook the potato pieces , onion , garlic , turmeric , and 1 / 2 teaspoon of salt several grindings of pepper ( the oil through ) , and season with salt and pepper . the shrimp mixture should now\n",
      "\n",
      "629/629 [==============================] - 21s 33ms/step - loss: 1.5278\n"
     ]
    },
    {
     "data": {
      "text/plain": "<keras.src.callbacks.History at 0x7caf07483d60>"
     },
     "execution_count": 23,
     "metadata": {},
     "output_type": "execute_result"
    }
   ],
   "source": [
    "lstm.fit(\n",
    "    train_ds,\n",
    "    epochs=EPOCHS,\n",
    "    callbacks=[model_checkpoint_callback, tensorboard_callback, text_generator],\n",
    ")"
   ],
   "metadata": {
    "collapsed": false,
    "ExecuteTime": {
     "end_time": "2024-03-15T23:28:32.783522Z",
     "start_time": "2024-03-15T23:19:44.503403Z"
    }
   },
   "id": "e7d4ceb400a20f",
   "execution_count": 23
  },
  {
   "cell_type": "code",
   "outputs": [
    {
     "name": "stdout",
     "output_type": "stream",
     "text": [
      "INFO:tensorflow:Assets written to: ./models/lstm/assets\n"
     ]
    },
    {
     "name": "stderr",
     "output_type": "stream",
     "text": [
      "INFO:tensorflow:Assets written to: ./models/lstm/assets\n"
     ]
    }
   ],
   "source": [
    "# Save the final model\n",
    "lstm.save(\"./models/lstm\")"
   ],
   "metadata": {
    "collapsed": false,
    "ExecuteTime": {
     "end_time": "2024-03-15T23:28:34.457015Z",
     "start_time": "2024-03-15T23:28:32.784949Z"
    }
   },
   "id": "4ed1e4ef3127e113",
   "execution_count": 24
  },
  {
   "cell_type": "markdown",
   "source": [
    "# 6. Generate text using the LSTM"
   ],
   "metadata": {
    "collapsed": false
   },
   "id": "ca7068bcbf8c2ac5"
  },
  {
   "cell_type": "code",
   "outputs": [],
   "source": [
    "def print_probs(info, vocab, top_k=5):\n",
    "    for i in info:\n",
    "        print(f\"\\nPROMPT: {i['prompt']}\")\n",
    "        word_probs = i[\"word_probs\"]\n",
    "        p_sorted = np.sort(word_probs)[::-1][:top_k]\n",
    "        i_sorted = np.argsort(word_probs)[::-1][:top_k]\n",
    "        for p, i in zip(p_sorted, i_sorted):\n",
    "            print(f\"{vocab[i]}:   \\t{np.round(100*p,2)}%\")\n",
    "        print(\"--------\\n\")"
   ],
   "metadata": {
    "collapsed": false,
    "ExecuteTime": {
     "end_time": "2024-03-15T23:28:34.483945Z",
     "start_time": "2024-03-15T23:28:34.457867Z"
    }
   },
   "id": "ba094efb158ace6e",
   "execution_count": 25
  },
  {
   "cell_type": "code",
   "outputs": [
    {
     "name": "stdout",
     "output_type": "stream",
     "text": [
      "\n",
      "generated text:\n",
      "recipe for roasted vegetables | chop 1 / 2 to\n"
     ]
    }
   ],
   "source": [
    "info = text_generator.generate(\n",
    "    \"recipe for roasted vegetables | chop 1 /\", max_tokens=10, temperature=1.0\n",
    ")"
   ],
   "metadata": {
    "collapsed": false,
    "ExecuteTime": {
     "end_time": "2024-03-15T23:28:34.592925Z",
     "start_time": "2024-03-15T23:28:34.485432Z"
    }
   },
   "id": "f4a44a161a66cfdf",
   "execution_count": 26
  },
  {
   "cell_type": "code",
   "outputs": [
    {
     "name": "stdout",
     "output_type": "stream",
     "text": [
      "\n",
      "PROMPT: recipe for roasted vegetables | chop 1 /\n",
      "2:   \t63.2%\n",
      "4:   \t26.42%\n",
      "3:   \t5.65%\n",
      "8:   \t2.96%\n",
      "1:   \t0.63%\n",
      "--------\n",
      "\n",
      "\n",
      "PROMPT: recipe for roasted vegetables | chop 1 / 2\n",
      "cup:   \t67.83%\n",
      "teaspoon:   \t8.15%\n",
      "tsp:   \t4.55%\n",
      "inch:   \t3.6%\n",
      "-:   \t3.44%\n",
      "--------\n"
     ]
    }
   ],
   "source": [
    "print_probs(info, vocab)"
   ],
   "metadata": {
    "collapsed": false,
    "ExecuteTime": {
     "end_time": "2024-03-15T23:28:34.624353Z",
     "start_time": "2024-03-15T23:28:34.593678Z"
    }
   },
   "id": "2eb443f11688dab7",
   "execution_count": 27
  },
  {
   "cell_type": "code",
   "outputs": [
    {
     "name": "stdout",
     "output_type": "stream",
     "text": [
      "\n",
      "generated text:\n",
      "recipe for roasted vegetables | chop 1 / 2 cup\n"
     ]
    }
   ],
   "source": [
    "info = text_generator.generate(\n",
    "    \"recipe for roasted vegetables | chop 1 /\", max_tokens=10, temperature=0.2\n",
    ")"
   ],
   "metadata": {
    "collapsed": false,
    "ExecuteTime": {
     "end_time": "2024-03-15T23:28:34.734600Z",
     "start_time": "2024-03-15T23:28:34.625127Z"
    }
   },
   "id": "8bab8333f5206442",
   "execution_count": 28
  },
  {
   "cell_type": "code",
   "outputs": [
    {
     "name": "stdout",
     "output_type": "stream",
     "text": [
      "\n",
      "PROMPT: recipe for roasted vegetables | chop 1 /\n",
      "2:   \t98.74%\n",
      "4:   \t1.26%\n",
      "3:   \t0.0%\n",
      "8:   \t0.0%\n",
      "1:   \t0.0%\n",
      "--------\n",
      "\n",
      "\n",
      "PROMPT: recipe for roasted vegetables | chop 1 / 2\n",
      "cup:   \t100.0%\n",
      "teaspoon:   \t0.0%\n",
      "tsp:   \t0.0%\n",
      "inch:   \t0.0%\n",
      "-:   \t0.0%\n",
      "--------\n"
     ]
    }
   ],
   "source": [
    "print_probs(info, vocab)"
   ],
   "metadata": {
    "collapsed": false,
    "ExecuteTime": {
     "end_time": "2024-03-15T23:28:34.764739Z",
     "start_time": "2024-03-15T23:28:34.735742Z"
    }
   },
   "id": "fd8f0f4f44995eaa",
   "execution_count": 29
  },
  {
   "cell_type": "code",
   "outputs": [
    {
     "name": "stdout",
     "output_type": "stream",
     "text": [
      "\n",
      "generated text:\n",
      "recipe for chocolate ice cream | mix\n",
      "\n",
      "\n",
      "PROMPT: recipe for chocolate ice cream |\n",
      "bring:   \t10.4%\n",
      "in:   \t10.03%\n",
      "combine:   \t8.22%\n",
      "place:   \t5.19%\n",
      "put:   \t5.03%\n",
      "--------\n"
     ]
    }
   ],
   "source": [
    "info = text_generator.generate(\n",
    "    \"recipe for chocolate ice cream |\", max_tokens=7, temperature=1.0\n",
    ")\n",
    "print_probs(info, vocab)"
   ],
   "metadata": {
    "collapsed": false,
    "ExecuteTime": {
     "end_time": "2024-03-15T23:28:34.837392Z",
     "start_time": "2024-03-15T23:28:34.765561Z"
    }
   },
   "id": "3c4375eb5ab91069",
   "execution_count": 30
  },
  {
   "cell_type": "code",
   "outputs": [
    {
     "name": "stdout",
     "output_type": "stream",
     "text": [
      "\n",
      "generated text:\n",
      "recipe for chocolate ice cream | bring\n",
      "\n",
      "\n",
      "PROMPT: recipe for chocolate ice cream |\n",
      "bring:   \t44.68%\n",
      "in:   \t37.31%\n",
      "combine:   \t13.77%\n",
      "place:   \t1.38%\n",
      "put:   \t1.18%\n",
      "--------\n"
     ]
    }
   ],
   "source": [
    "info = text_generator.generate(\n",
    "    \"recipe for chocolate ice cream |\", max_tokens=7, temperature=0.2\n",
    ")\n",
    "print_probs(info, vocab)"
   ],
   "metadata": {
    "collapsed": false,
    "ExecuteTime": {
     "end_time": "2024-03-15T23:28:34.927397Z",
     "start_time": "2024-03-15T23:28:34.838230Z"
    }
   },
   "id": "6453773c8c8cc678",
   "execution_count": 31
  },
  {
   "cell_type": "code",
   "outputs": [],
   "source": [],
   "metadata": {
    "collapsed": false
   },
   "id": "fca30bca5b05851"
  }
 ],
 "metadata": {
  "kernelspec": {
   "display_name": "Python 3",
   "language": "python",
   "name": "python3"
  },
  "language_info": {
   "codemirror_mode": {
    "name": "ipython",
    "version": 2
   },
   "file_extension": ".py",
   "mimetype": "text/x-python",
   "name": "python",
   "nbconvert_exporter": "python",
   "pygments_lexer": "ipython2",
   "version": "2.7.6"
  }
 },
 "nbformat": 4,
 "nbformat_minor": 5
}
