{
 "cells": [
  {
   "cell_type": "markdown",
   "metadata": {},
   "source": [
    "## Percetrón Simple\n",
    "\n",
    "El objetivo de esta práctica es que hagan su propia implementación de un perceptrón simple y que la utilicen para experimentar con distintas variantes sobre diferentes problemas.\n",
    "\n",
    "Se recomienda siempre examinar de alguna forma los datos con los que se va a trabajar y tener un registro de la evolución del error durante el entrenamiento para poder identificar más rapidamente potenciales problemas."
   ]
  },
  {
   "cell_type": "code",
   "metadata": {
    "ExecuteTime": {
     "end_time": "2024-09-15T20:58:14.688105Z",
     "start_time": "2024-09-15T20:58:14.385903Z"
    }
   },
   "source": [
    "import numpy as np\n",
    "import matplotlib.pyplot as plt"
   ],
   "outputs": [],
   "execution_count": 1
  },
  {
   "cell_type": "markdown",
   "metadata": {},
   "source": [
    "### 1. Funciones lógicas\n",
    "\n",
    "Crear un conjunto de datos cuya entrada represente todas las combinaciones posibles para 2 variables binarias o bipolares (por ejemplo [[0,0],[0,1]...]) y también con dos variables en los datos objetivo de manera que la primer variable represente la tabla de verdad del **AND** y la segunda variable la tabla de verdad del **OR**.\n",
    "\n",
    "Usar estos datos para entrenar un modelo de perceptrón simple usando la implementación anterior."
   ]
  },
  {
   "cell_type": "code",
   "metadata": {
    "ExecuteTime": {
     "end_time": "2024-09-15T21:10:17.075403Z",
     "start_time": "2024-09-15T21:10:17.057743Z"
    }
   },
   "source": [
    "x = np.array([[-1, -1, -1],\n",
    "              [-1, +1, -1],\n",
    "              [+1, -1, -1],\n",
    "              [+1, +1, -1]])\n",
    "\n",
    "z = np.array([[-1, -1],  # AND: -1, OR: -1\n",
    "              [-1, +1],  # AND: -1, OR: +1\n",
    "              [-1, +1],  # AND: -1, OR: +1\n",
    "              [+1, +1]]) # AND: +1, OR: +1\n",
    "\n",
    "w = np.random.normal(0, 0.1, size=(3,2))\n",
    "\n",
    "lr = 1e-4\n",
    "E = []\n",
    "e = 1\n",
    "t = 0\n",
    "while (e>0.01) and (t<999):\n",
    "    y = np.sign(np.dot(x, w))                   # Predicción\n",
    "    d = z - y                                   # Distancia entre predicción y label\n",
    "    dw = np.dot(x.T, d)                         # Ajuste de los pesos\n",
    "    w += lr * dw                                # Actualizar los pesos\n",
    "    e = np.mean(np.square(d))                   # Error cuadratico medio \n",
    "    E.append(e)                                 # Guardar historial de e\n",
    "    \n",
    "    t += 1\n",
    "    if t % 100 == 0:\n",
    "        print(t, e)\n",
    "\n",
    "y = np.sign(np.dot(x, w))\n",
    "print(y)\n",
    "print(z)\n"
   ],
   "outputs": [
    {
     "name": "stdout",
     "output_type": "stream",
     "text": [
      "100 1.0\n",
      "200 1.0\n",
      "300 0.5\n",
      "[[-1. -1.]\n",
      " [-1.  1.]\n",
      " [-1.  1.]\n",
      " [ 1.  1.]]\n",
      "[[-1 -1]\n",
      " [-1  1]\n",
      " [-1  1]\n",
      " [ 1  1]]\n"
     ]
    }
   ],
   "execution_count": 7
  },
  {
   "metadata": {
    "ExecuteTime": {
     "end_time": "2024-09-15T21:40:41.690913Z",
     "start_time": "2024-09-15T21:40:41.618866Z"
    }
   },
   "cell_type": "code",
   "source": [
    "# Draw error for iterations between 0 and 999\n",
    "plt.plot(E)\n",
    "plt.ylim(0, 1.3)\n",
    "plt.show()"
   ],
   "outputs": [
    {
     "data": {
      "text/plain": [
       "<Figure size 640x480 with 1 Axes>"
      ],
      "image/png": "[encoded data removed]"
     },
     "metadata": {},
     "output_type": "display_data"
    }
   ],
   "execution_count": 47
  },
  {
   "metadata": {
    "ExecuteTime": {
     "end_time": "2024-09-15T21:35:40.677057Z",
     "start_time": "2024-09-15T21:35:40.653056Z"
    }
   },
   "cell_type": "code",
   "source": [
    "x = np.array([[-1, -1, -1],\n",
    "              [-1, +1, -1],\n",
    "              [+1, -1, -1],\n",
    "              [+1, +1, -1]])\n",
    "\n",
    "z = np.array([[-1, -1],  # AND: -1, OR: -1\n",
    "              [-1, +1],  # AND: -1, OR: +1\n",
    "              [-1, +1],  # AND: -1, OR: +1\n",
    "              [+1, +1]]) # AND: +1, OR: +1\n",
    "\n",
    "# w = np.random.normal(0, 0.1, size=(3, 2))\n",
    "w = np.random.normal(0, 0.1, size=(x.shape[1], z.shape[1])) # 3 x 2\n",
    "\n",
    "lr = 1e-4\n",
    "E = []\n",
    "e = 1\n",
    "t = 0\n",
    "while (e>0.01) and (t<999):\n",
    "    #y = np.sign(np.dot(x, w))                   # Predicción\n",
    "    y = x.dot(w)                                # Predicción\n",
    "    # print(x)\n",
    "    # print(w)\n",
    "    # print(y)\n",
    "    # print(z)\n",
    "    \n",
    "    # d = z - y                                   # Estimación, distancia entre predicción y label\n",
    "    d = y - z                                   # Distancia entre predicción y label (tiene 4x2)\n",
    "    \n",
    "    #dw = np.dot(x.T, d)                         # Ajuste de los pesos\n",
    "    #w += lr * dw                                # Actualizar los pesos\n",
    "    dw = np.dot(x.T, d)                         # Cuanto ajustar los pesos para minimizar la distancia (d tiene 4x2, x tiene 4x3, x.T tiene 3x4, dw tiene 3x2, igual a los pesos)\n",
    "    w = w - (lr * dw)                           # Actualizar los pesos a razon de cambio lr\n",
    "    \n",
    "    e = np.mean(np.square(d))                   # Error cuadratico medio \n",
    "    E.append(e)                                 # Guardar historial de e\n",
    "\n",
    "    t += 1\n",
    "    if t % 100 == 0:\n",
    "        print(t, e)\n",
    "\n",
    "y = np.sign(np.dot(x, w))\n",
    "print(y)\n",
    "print(z)\n"
   ],
   "outputs": [
    {
     "name": "stdout",
     "output_type": "stream",
     "text": [
      "100 0.9508030746689755\n",
      "200 0.896912420382382\n",
      "300 0.8471658726564065\n",
      "400 0.8012447562139888\n",
      "500 0.7588549014056922\n",
      "600 0.7197247597654806\n",
      "700 0.68360366447729\n",
      "800 0.6502602246089888\n",
      "900 0.6194808428272148\n",
      "[[-1. -1.]\n",
      " [-1.  1.]\n",
      " [-1.  1.]\n",
      " [ 1.  1.]]\n",
      "[[-1 -1]\n",
      " [-1  1]\n",
      " [-1  1]\n",
      " [ 1  1]]\n"
     ]
    }
   ],
   "execution_count": 40
  },
  {
   "metadata": {
    "ExecuteTime": {
     "end_time": "2024-09-15T21:40:48.226313Z",
     "start_time": "2024-09-15T21:40:48.168995Z"
    }
   },
   "cell_type": "code",
   "source": [
    "# Draw error for iterations between 0 and 999\n",
    "plt.plot(E)\n",
    "plt.ylim(0, 1.3)\n",
    "plt.show()"
   ],
   "outputs": [
    {
     "data": {
      "text/plain": [
       "<Figure size 640x480 with 1 Axes>"
      ],
      "image/png": "[encoded data removed]"
     },
     "metadata": {},
     "output_type": "display_data"
    }
   ],
   "execution_count": 48
  },
  {
   "cell_type": "markdown",
   "metadata": {},
   "source": [
    "Crear un conjunto de datos similar pero con una sola variable objetivo que represente la tabla de verdad de **XOR**.\n",
    "\n",
    "Usar estos datos para tratar de entrenar un perceptrón simple implementado."
   ]
  },
  {
   "cell_type": "code",
   "metadata": {
    "ExecuteTime": {
     "end_time": "2024-08-16T03:43:36.591375Z",
     "start_time": "2024-08-16T03:43:36.563793Z"
    }
   },
   "source": [
    "x = np.array([[-1, -1, 1],\n",
    "              [-1, +1, 1],\n",
    "              [+1, -1, 1],\n",
    "              [+1, +1, 1]])\n",
    "\n",
    "z = np.array([[-1],  # XOR: -1\n",
    "              [+1],  # XOR: +1\n",
    "              [+1],  # XOR: +1\n",
    "              [-1]]) # XOR: -1\n",
    "\n",
    "w = np.random.normal( 0, 0.1, size=(3,1))\n",
    "\n",
    "lr = 1e-4\n",
    "E = []\n",
    "e = 1\n",
    "t = 0\n",
    "while (e>0.01) and (t<999):\n",
    "    y = np.sign(np.dot(x, w))                   # Predicción\n",
    "    d = z - y                                   # Estimación, distancia entre predicción y label\n",
    "    dw = np.dot(x.T, d)                         # Ajuste de los pesos\n",
    "    w += lr * dw                                # Actualizar los pesos\n",
    "    e = np.mean(np.square(d))                   # Error cuadratico medio \n",
    "    E.append(e)                                 # Guardar historial de e\n",
    "\n",
    "    t += 1\n",
    "    if t % 100 == 0:\n",
    "        print(t, e)\n",
    "\n",
    "y = np.sign(np.dot(x, w))\n",
    "print(y)\n",
    "print(z)\n"
   ],
   "outputs": [
    {
     "name": "stdout",
     "output_type": "stream",
     "text": [
      "100 2.0\n",
      "200 3.0\n",
      "300 2.0\n",
      "400 3.0\n",
      "500 2.0\n",
      "600 2.0\n",
      "700 2.0\n",
      "800 1.0\n",
      "900 1.0\n",
      "[[-1.]\n",
      " [-1.]\n",
      " [ 1.]\n",
      " [-1.]]\n",
      "[[-1]\n",
      " [ 1]\n",
      " [ 1]\n",
      " [-1]]\n"
     ]
    }
   ],
   "execution_count": 21
  },
  {
   "metadata": {
    "ExecuteTime": {
     "end_time": "2024-09-15T21:40:56.179984Z",
     "start_time": "2024-09-15T21:40:56.114414Z"
    }
   },
   "cell_type": "code",
   "source": [
    "# Draw error for iterations between 0 and 999\n",
    "plt.plot(E)\n",
    "plt.ylim(0, 1.3)\n",
    "plt.show()"
   ],
   "outputs": [
    {
     "data": {
      "text/plain": [
       "<Figure size 640x480 with 1 Axes>"
      ],
      "image/png": "[encoded data removed]"
     },
     "metadata": {},
     "output_type": "display_data"
    }
   ],
   "execution_count": 49
  },
  {
   "cell_type": "markdown",
   "metadata": {},
   "source": [
    "Experimentar variando entre funciones de activación y datos binarios y bipolares, con funciones sigmoideas y escalón, y con distintos coeficientes de aprendizaje."
   ]
  },
  {
   "cell_type": "markdown",
   "metadata": {},
   "source": [
    "### 2. Clasificación de caracteres\n",
    "\n",
    "Utilizar el archivo `letras.txt` proporcionado como datos de entrada y crear un conjunto de datos objetivo de 26 variables, de modo que para cada instancia correspondiente a cada letra la variable objetivo valga 1 y todas las demás 0.\n",
    "\n",
    "Entrenar un perceptrón con estos datos.\n",
    "\n",
    "Notar que si la función de transferencia utilizada es la sigmoidea logística es posible tomar la unidad de salida con mayor nivel de activación como la clase (o letra) elegida por el modelo.\n",
    "Tener en cuenta esta medida de precisión en la clasificación hecha por el modelo."
   ]
  },
  {
   "cell_type": "code",
   "metadata": {
    "ExecuteTime": {
     "end_time": "2024-09-15T22:07:47.469947Z",
     "start_time": "2024-09-15T22:07:47.465512Z"
    }
   },
   "source": [
    "letras = np.loadtxt('letras.txt')\n",
    "\n",
    "L = letras.reshape((26,5,5)) # Esto crea una matriz de 26x5x5\n",
    "x = letras.reshape((26,25)) # Esto crea una matriz de 26x25, lo que significa que cada matriz que era de 5x5 fue convertido a un vector de 25 elementos, entonces tengo 26 filas de 25 elementos cada una por cada letra\n",
    "# x[x == 0] = -1 # Esto cambia los ceros por -1\n",
    "z = np.diag(np.ones(26)) # Esto crea una matriz de 26x26 con unos en la diagonal\n",
    "z[z == 0] = -1 # Esto cambia los ceros por -1"
   ],
   "outputs": [],
   "execution_count": 92
  },
  {
   "metadata": {
    "ExecuteTime": {
     "end_time": "2024-09-15T22:07:47.912381Z",
     "start_time": "2024-09-15T22:07:47.909490Z"
    }
   },
   "cell_type": "code",
   "source": [
    "print(L[0])\n",
    "print(x[0])\n",
    "print(z[0])"
   ],
   "outputs": [
    {
     "name": "stdout",
     "output_type": "stream",
     "text": [
      "[[0. 0. 1. 0. 0.]\n",
      " [0. 1. 0. 1. 0.]\n",
      " [1. 1. 1. 1. 1.]\n",
      " [1. 0. 0. 0. 1.]\n",
      " [1. 0. 0. 0. 1.]]\n",
      "[0. 0. 1. 0. 0. 0. 1. 0. 1. 0. 1. 1. 1. 1. 1. 1. 0. 0. 0. 1. 1. 0. 0. 0.\n",
      " 1.]\n",
      "[ 1. -1. -1. -1. -1. -1. -1. -1. -1. -1. -1. -1. -1. -1. -1. -1. -1. -1.\n",
      " -1. -1. -1. -1. -1. -1. -1. -1.]\n"
     ]
    }
   ],
   "execution_count": 93
  },
  {
   "metadata": {
    "ExecuteTime": {
     "end_time": "2024-09-15T22:07:48.454859Z",
     "start_time": "2024-09-15T22:07:48.451500Z"
    }
   },
   "cell_type": "code",
   "source": [
    "# A cada fila de x le agregamos un -1 al final\n",
    "print(x[0])\n",
    "x = np.c_[x, -np.ones(26)]\n",
    "print(x[0])\n",
    "print(x.shape)"
   ],
   "outputs": [
    {
     "name": "stdout",
     "output_type": "stream",
     "text": [
      "[0. 0. 1. 0. 0. 0. 1. 0. 1. 0. 1. 1. 1. 1. 1. 1. 0. 0. 0. 1. 1. 0. 0. 0.\n",
      " 1.]\n",
      "[ 0.  0.  1.  0.  0.  0.  1.  0.  1.  0.  1.  1.  1.  1.  1.  1.  0.  0.\n",
      "  0.  1.  1.  0.  0.  0.  1. -1.]\n",
      "(26, 26)\n"
     ]
    }
   ],
   "execution_count": 94
  },
  {
   "metadata": {
    "ExecuteTime": {
     "end_time": "2024-09-15T22:11:38.562983Z",
     "start_time": "2024-09-15T22:11:38.555022Z"
    }
   },
   "cell_type": "code",
   "source": [
    "w = np.random.normal(0, 0.1, size=(26, 26))\n",
    "\n",
    "lr = 1e-3\n",
    "E = []\n",
    "e = 1\n",
    "t = 0\n",
    "while (e>0.01) and (t<999):\n",
    "    y = np.sign(np.dot(x, w))                   # Prediccion con tangente hiperbolica, salida entre -1 y 1\n",
    "    d = z - y                                   # Estimación, distancia entre predicción y label\n",
    "    dw = np.dot(x.T, d)                         # Ajuste de los pesos\n",
    "    w += lr * dw                                # Actualizar los pesos\n",
    "    e = np.mean(np.square(d))                   # Error cuadratico medio \n",
    "    E.append(e)                                 # Guardar historial de e\n",
    "\n",
    "    t += 1\n",
    "    if t % 100 == 0:\n",
    "        # print(np.argmax(y, axis=1))\n",
    "        print(t, e)\n",
    "\n",
    "y = np.sign(np.dot(x, w))\n",
    "predicciones = np.argmax(y, axis=1)\n",
    "objetivo = np.argmax(z, axis=1)\n",
    "\n",
    "print(predicciones)\n",
    "print(objetivo)\n",
    "\n",
    "precision = np.mean(predicciones == objetivo)\n",
    "print(f'Precisión del modelo: {precision * 100:.2f}%')"
   ],
   "outputs": [
    {
     "name": "stdout",
     "output_type": "stream",
     "text": [
      "[ 0  1  2  3  4  5  6  7  8  9 10 11 12 13  2 15 16 17 18 19 20 21 22 23\n",
      " 24 25]\n",
      "[ 0  1  2  3  4  5  6  7  8  9 10 11 12 13 14 15 16 17 18 19 20 21 22 23\n",
      " 24 25]\n",
      "Precisión del modelo: 96.15%\n"
     ]
    }
   ],
   "execution_count": 109
  },
  {
   "cell_type": "markdown",
   "metadata": {},
   "source": [
    "Introducir ruido en los datos de entrada para ver cómo es afectada la precisión en la clasificación.\n",
    "La proporción de ruido puede estar determinada por una variable `p` que tome valores entre 0 y 1.\n",
    "Por ejemplo, si `x` son los datos, se puede testear el modelo con los datos con ruido `xr`."
   ]
  },
  {
   "cell_type": "code",
   "metadata": {
    "ExecuteTime": {
     "end_time": "2024-09-15T22:11:49.320433Z",
     "start_time": "2024-09-15T22:11:49.312561Z"
    }
   },
   "source": [
    "p = 0.5 # Ruido\n",
    "xr = x + np.random.uniform( 0, p, x.shape)\n",
    "\n",
    "lr = 1e-3\n",
    "E = []\n",
    "e = 1\n",
    "t = 0\n",
    "while (e>0.01) and (t<999):\n",
    "    y = np.sign(np.dot(x, w))                   # Prediccion con tangente hiperbolica, salida entre -1 y 1\n",
    "    d = z - y                                   # Estimación, distancia entre predicción y label\n",
    "    dw = np.dot(x.T, d)                         # Ajuste de los pesos\n",
    "    w += lr * dw                                # Actualizar los pesos\n",
    "    e = np.mean(np.square(d))                   # Error cuadratico medio \n",
    "    E.append(e)                                 # Guardar historial de e\n",
    "\n",
    "    t += 1\n",
    "    if t % 100 == 0:\n",
    "        # print(np.argmax(y, axis=1))\n",
    "        print(t, e)\n",
    "\n",
    "y = np.sign(np.dot(x, w))\n",
    "predicciones = np.argmax(y, axis=1)\n",
    "objetivo = np.argmax(z, axis=1)\n",
    "\n",
    "print(predicciones)\n",
    "print(objetivo)\n",
    "\n",
    "precision = np.mean(predicciones == objetivo)\n",
    "print(f'Precisión del modelo: {precision * 100:.2f}%')"
   ],
   "outputs": [
    {
     "name": "stdout",
     "output_type": "stream",
     "text": [
      "[ 0  1  0  3  4  5  6  7  8  9 10 11 12 13 14 15 16 17 18 19 20 21 22 23\n",
      " 24 25]\n",
      "[ 0  1  2  3  4  5  6  7  8  9 10 11 12 13 14 15 16 17 18 19 20 21 22 23\n",
      " 24 25]\n",
      "Precisión del modelo: 96.15%\n"
     ]
    }
   ],
   "execution_count": 114
  },
  {
   "cell_type": "markdown",
   "metadata": {},
   "source": [
    "Crear conjuntos de datos objetivo que en lugar de tener 26 variables binarias estén compuestos por 5 variables binarias.\n",
    "Experimentar con distintas variantes aleatorias de estos datos."
   ]
  },
  {
   "cell_type": "code",
   "metadata": {
    "ExecuteTime": {
     "end_time": "2024-09-15T22:14:28.849042Z",
     "start_time": "2024-09-15T22:14:28.843355Z"
    }
   },
   "source": [
    "letras = np.loadtxt('letras.txt')\n",
    "\n",
    "L = letras.reshape((26,5,5))\n",
    "x = letras.reshape((26,25)) * 2 - 1\n",
    "# z = np.diag(np.ones(26)) # Esto crea una matriz de 26x26 con unos en la␣↪diagonal\n",
    "# Generar el objetivo binario de 00001 a 11010 (valores decimales de 1 a 26)\n",
    "z = np.array([list(map(int, format(i, '05b'))) for i in range(1, 27)])\n",
    "z[z == 0] = -1\n",
    "print(x[0])\n",
    "print(z[0])"
   ],
   "outputs": [
    {
     "name": "stdout",
     "output_type": "stream",
     "text": [
      "[-1. -1.  1. -1. -1. -1.  1. -1.  1. -1.  1.  1.  1.  1.  1.  1. -1. -1.\n",
      " -1.  1.  1. -1. -1. -1.  1.]\n",
      "[-1 -1 -1 -1  1]\n"
     ]
    }
   ],
   "execution_count": 119
  },
  {
   "metadata": {
    "ExecuteTime": {
     "end_time": "2024-09-15T22:14:39.104316Z",
     "start_time": "2024-09-15T22:14:39.099691Z"
    }
   },
   "cell_type": "code",
   "source": [
    "# A cada fila de x le agregamos un -1 al final\n",
    "print(x[0])\n",
    "x = np.c_[x, -np.ones(26)]\n",
    "print(x[0])\n",
    "print(x.shape)"
   ],
   "outputs": [
    {
     "name": "stdout",
     "output_type": "stream",
     "text": [
      "[-1. -1.  1. -1. -1. -1.  1. -1.  1. -1.  1.  1.  1.  1.  1.  1. -1. -1.\n",
      " -1.  1.  1. -1. -1. -1.  1.]\n",
      "[-1. -1.  1. -1. -1. -1.  1. -1.  1. -1.  1.  1.  1.  1.  1.  1. -1. -1.\n",
      " -1.  1.  1. -1. -1. -1.  1. -1.]\n",
      "(26, 26)\n"
     ]
    }
   ],
   "execution_count": 120
  },
  {
   "metadata": {
    "ExecuteTime": {
     "end_time": "2024-09-15T22:14:53.176969Z",
     "start_time": "2024-09-15T22:14:53.164506Z"
    }
   },
   "cell_type": "code",
   "source": [
    "# Inicializar pesos\n",
    "w = np.random.normal(0, 0.1, size=(26, 5))  # 25 entradas, 5 salidas (5 bits)\n",
    "\n",
    "# Parámetros de entrenamiento\n",
    "lr = 1e-3\n",
    "E = []\n",
    "e = 1\n",
    "t = 0\n",
    "while (e>0.01) and (t<999):\n",
    "    y = np.sign(np.dot(x, w))                   # Prediccion con tangente hiperbolica, salida entre -1 y 1\n",
    "    d = z - y                                   # Estimación, distancia entre predicción y label\n",
    "    dw = np.dot(x.T, d)                         # Ajuste de los pesos\n",
    "    w += lr * dw                                # Actualizar los pesos\n",
    "    e = np.mean(np.square(d))                   # Error cuadratico medio \n",
    "    E.append(e)                                 # Guardar historial de e\n",
    "\n",
    "    t += 1\n",
    "    if t % 100 == 0:\n",
    "        # print(np.argmax(y, axis=1))\n",
    "        print(t, e)\n",
    "\n",
    "# Evaluación del modelo\n",
    "y = np.sign(np.dot(x, w))\n",
    "predicciones = np.round(y).astype(int)\n",
    "print(\"Predicciones:\\n\", predicciones)\n",
    "print(\"Objetivo:\\n\", z)\n",
    "\n",
    "# Comparar predicciones con el objetivo y calcular precisión\n",
    "precision = np.mean(np.all(predicciones == z, axis=1))\n",
    "print(f'Precisión del modelo: {precision * 100:.2f}%')"
   ],
   "outputs": [
    {
     "name": "stdout",
     "output_type": "stream",
     "text": [
      "100 0.09230769230769231\n",
      "Predicciones:\n",
      " [[-1 -1 -1 -1  1]\n",
      " [-1 -1 -1  1 -1]\n",
      " [-1 -1 -1  1  1]\n",
      " [-1 -1  1 -1 -1]\n",
      " [-1 -1  1 -1  1]\n",
      " [-1 -1  1  1 -1]\n",
      " [-1 -1  1  1  1]\n",
      " [-1  1 -1 -1 -1]\n",
      " [-1  1 -1 -1  1]\n",
      " [-1  1 -1  1 -1]\n",
      " [-1  1 -1  1  1]\n",
      " [-1  1  1 -1 -1]\n",
      " [-1  1  1 -1  1]\n",
      " [-1  1  1  1 -1]\n",
      " [-1  1  1  1  1]\n",
      " [ 1 -1 -1 -1 -1]\n",
      " [ 1 -1 -1 -1  1]\n",
      " [ 1 -1 -1  1 -1]\n",
      " [ 1 -1 -1  1  1]\n",
      " [ 1 -1  1 -1 -1]\n",
      " [ 1 -1  1 -1  1]\n",
      " [ 1 -1  1  1 -1]\n",
      " [ 1 -1  1  1  1]\n",
      " [ 1  1 -1 -1 -1]\n",
      " [ 1  1 -1 -1  1]\n",
      " [ 1  1 -1  1 -1]]\n",
      "Objetivo:\n",
      " [[-1 -1 -1 -1  1]\n",
      " [-1 -1 -1  1 -1]\n",
      " [-1 -1 -1  1  1]\n",
      " [-1 -1  1 -1 -1]\n",
      " [-1 -1  1 -1  1]\n",
      " [-1 -1  1  1 -1]\n",
      " [-1 -1  1  1  1]\n",
      " [-1  1 -1 -1 -1]\n",
      " [-1  1 -1 -1  1]\n",
      " [-1  1 -1  1 -1]\n",
      " [-1  1 -1  1  1]\n",
      " [-1  1  1 -1 -1]\n",
      " [-1  1  1 -1  1]\n",
      " [-1  1  1  1 -1]\n",
      " [-1  1  1  1  1]\n",
      " [ 1 -1 -1 -1 -1]\n",
      " [ 1 -1 -1 -1  1]\n",
      " [ 1 -1 -1  1 -1]\n",
      " [ 1 -1 -1  1  1]\n",
      " [ 1 -1  1 -1 -1]\n",
      " [ 1 -1  1 -1  1]\n",
      " [ 1 -1  1  1 -1]\n",
      " [ 1 -1  1  1  1]\n",
      " [ 1  1 -1 -1 -1]\n",
      " [ 1  1 -1 -1  1]\n",
      " [ 1  1 -1  1 -1]]\n",
      "Precisión del modelo: 100.00%\n"
     ]
    }
   ],
   "execution_count": 122
  },
  {
   "metadata": {},
   "cell_type": "code",
   "outputs": [],
   "execution_count": null,
   "source": ""
  }
 ],
 "metadata": {
  "kernelspec": {
   "display_name": "base",
   "language": "python",
   "name": "python3"
  },
  "language_info": {
   "codemirror_mode": {
    "name": "ipython",
    "version": 3
   },
   "file_extension": ".py",
   "mimetype": "text/x-python",
   "name": "python",
   "nbconvert_exporter": "python",
   "pygments_lexer": "ipython3",
   "version": "3.11.4"
  }
 },
 "nbformat": 4,
 "nbformat_minor": 2
}
