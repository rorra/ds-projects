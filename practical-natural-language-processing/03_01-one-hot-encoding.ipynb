{
 "cells": [
  {
   "metadata": {},
   "cell_type": "markdown",
   "source": "# One Hot Encoding on text, just for fun",
   "id": "6af24e5c572ef52a"
  },
  {
   "metadata": {
    "ExecuteTime": {
     "end_time": "2024-09-23T13:55:12.230637Z",
     "start_time": "2024-09-23T13:55:12.224554Z"
    }
   },
   "cell_type": "code",
   "source": [
    "documents = [\"Dog bites man.\", \"Man bites dog.\", \"Dog eats meat.\", \"Man eats food.\"]\n",
    "processed_docs = [doc.lower().replace(\".\", \"\") for doc in documents]\n",
    "processed_docs"
   ],
   "id": "aa8a164d74d2633d",
   "outputs": [
    {
     "data": {
      "text/plain": [
       "['dog bites man', 'man bites dog', 'dog eats meat', 'man eats food']"
      ]
     },
     "execution_count": 1,
     "metadata": {},
     "output_type": "execute_result"
    }
   ],
   "execution_count": 1
  },
  {
   "metadata": {
    "ExecuteTime": {
     "end_time": "2024-09-23T13:55:12.298770Z",
     "start_time": "2024-09-23T13:55:12.294192Z"
    }
   },
   "cell_type": "code",
   "source": [
    "#Build the vocabulary\n",
    "vocab = {}\n",
    "count = 0\n",
    "\n",
    "for doc in processed_docs:\n",
    "    for word in doc.split():\n",
    "        if word not in vocab:\n",
    "            count = count + 1\n",
    "            vocab[word] = count\n",
    "\n",
    "print(vocab)"
   ],
   "id": "1f55fa65f2399365",
   "outputs": [
    {
     "name": "stdout",
     "output_type": "stream",
     "text": [
      "{'dog': 1, 'bites': 2, 'man': 3, 'eats': 4, 'meat': 5, 'food': 6}\n"
     ]
    }
   ],
   "execution_count": 2
  },
  {
   "metadata": {
    "ExecuteTime": {
     "end_time": "2024-09-23T13:55:12.501680Z",
     "start_time": "2024-09-23T13:55:12.498755Z"
    }
   },
   "cell_type": "code",
   "source": [
    "def get_onehot_vector(some_string):\n",
    "    onehot_encoded = []\n",
    "    for word in some_string.split():\n",
    "        temp = [0] * len(vocab)\n",
    "        if word in vocab:\n",
    "            temp[vocab[word] - 1] = 1\n",
    "        onehot_encoded.append(temp)\n",
    "    return onehot_encoded"
   ],
   "id": "27a79fff6e6f3d85",
   "outputs": [],
   "execution_count": 3
  },
  {
   "metadata": {
    "ExecuteTime": {
     "end_time": "2024-09-23T13:55:12.508796Z",
     "start_time": "2024-09-23T13:55:12.506795Z"
    }
   },
   "cell_type": "code",
   "source": [
    "print(processed_docs[1])\n",
    "print(get_onehot_vector(processed_docs[1]))"
   ],
   "id": "91173e22d45088cd",
   "outputs": [
    {
     "name": "stdout",
     "output_type": "stream",
     "text": [
      "man bites dog\n",
      "[[0, 0, 1, 0, 0, 0], [0, 1, 0, 0, 0, 0], [1, 0, 0, 0, 0, 0]]\n"
     ]
    }
   ],
   "execution_count": 4
  },
  {
   "metadata": {
    "ExecuteTime": {
     "end_time": "2024-09-23T13:55:12.515819Z",
     "start_time": "2024-09-23T13:55:12.513928Z"
    }
   },
   "cell_type": "code",
   "source": "print(get_onehot_vector(\"man and dog are good\"))",
   "id": "8876256a1d8eb6e0",
   "outputs": [
    {
     "name": "stdout",
     "output_type": "stream",
     "text": [
      "[[0, 0, 1, 0, 0, 0], [0, 0, 0, 0, 0, 0], [1, 0, 0, 0, 0, 0], [0, 0, 0, 0, 0, 0], [0, 0, 0, 0, 0, 0]]\n"
     ]
    }
   ],
   "execution_count": 5
  },
  {
   "metadata": {},
   "cell_type": "markdown",
   "source": "# One Hot Encoding using sklearn",
   "id": "379257368ec05033"
  },
  {
   "metadata": {
    "ExecuteTime": {
     "end_time": "2024-09-23T13:55:12.523432Z",
     "start_time": "2024-09-23T13:55:12.521337Z"
    }
   },
   "cell_type": "code",
   "source": [
    "S1 = 'dog bites man'\n",
    "S2 = 'man bites dog'\n",
    "S3 = 'dog eats meat'\n",
    "S4 = 'man eats food'"
   ],
   "id": "5d94aa977110ab32",
   "outputs": [],
   "execution_count": 6
  },
  {
   "metadata": {
    "ExecuteTime": {
     "end_time": "2024-09-23T13:55:16.585360Z",
     "start_time": "2024-09-23T13:55:12.528727Z"
    }
   },
   "cell_type": "code",
   "source": [
    "from sklearn.preprocessing import LabelEncoder, OneHotEncoder\n",
    "\n",
    "data = [S1.split(), S2.split(), S3.split(), S4.split()]\n",
    "values = data[0] + data[1] + data[2] + data[3]\n",
    "print(\"The data: \", values)\n",
    "\n",
    "#Label Encoding\n",
    "label_encoder = LabelEncoder()\n",
    "integer_encoded = label_encoder.fit_transform(values)\n",
    "print(\"Label Encoded:\", integer_encoded)\n",
    "\n",
    "#One-Hot Encoding\n",
    "onehot_encoder = OneHotEncoder()\n",
    "onehot_encoded = onehot_encoder.fit_transform(data).toarray()\n",
    "print(\"Onehot Encoded Matrix:\\n\", onehot_encoded)"
   ],
   "id": "2836c1d6f39f8397",
   "outputs": [
    {
     "name": "stdout",
     "output_type": "stream",
     "text": [
      "The data:  ['dog', 'bites', 'man', 'man', 'bites', 'dog', 'dog', 'eats', 'meat', 'man', 'eats', 'food']\n",
      "Label Encoded: [1 0 4 4 0 1 1 2 5 4 2 3]\n",
      "Onehot Encoded Matrix:\n",
      " [[1. 0. 1. 0. 0. 0. 1. 0.]\n",
      " [0. 1. 1. 0. 1. 0. 0. 0.]\n",
      " [1. 0. 0. 1. 0. 0. 0. 1.]\n",
      " [0. 1. 0. 1. 0. 1. 0. 0.]]\n"
     ]
    }
   ],
   "execution_count": 7
  }
 ],
 "metadata": {
  "kernelspec": {
   "display_name": "Python 3",
   "language": "python",
   "name": "python3"
  },
  "language_info": {
   "codemirror_mode": {
    "name": "ipython",
    "version": 2
   },
   "file_extension": ".py",
   "mimetype": "text/x-python",
   "name": "python",
   "nbconvert_exporter": "python",
   "pygments_lexer": "ipython2",
   "version": "2.7.6"
  }
 },
 "nbformat": 4,
 "nbformat_minor": 5
}
