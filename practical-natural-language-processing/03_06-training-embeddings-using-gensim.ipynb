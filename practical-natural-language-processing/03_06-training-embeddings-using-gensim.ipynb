{
 "cells": [
  {
   "metadata": {},
   "cell_type": "markdown",
   "source": "# Training Embeddings using Gensim",
   "id": "3a5872359642847"
  },
  {
   "metadata": {
    "ExecuteTime": {
     "end_time": "2024-09-23T18:50:16.375160Z",
     "start_time": "2024-09-23T18:50:16.371224Z"
    }
   },
   "cell_type": "code",
   "source": [
    "from gensim.models import Word2Vec\n",
    "import warnings\n",
    "\n",
    "warnings.filterwarnings('ignore')"
   ],
   "id": "52a5de38ccf745a2",
   "outputs": [],
   "execution_count": 8
  },
  {
   "metadata": {
    "ExecuteTime": {
     "end_time": "2024-09-23T18:50:16.802100Z",
     "start_time": "2024-09-23T18:50:16.791868Z"
    }
   },
   "cell_type": "code",
   "source": [
    "# define training data\n",
    "# Genism word2vec requires that a format of ‘list of lists’ be provided for training where every document contained in a list.\n",
    "# Every list contains lists of tokens of that document.\n",
    "corpus = [['dog', 'bites', 'man'], [\"man\", \"bites\", \"dog\"], [\"dog\", \"eats\", \"meat\"], [\"man\", \"eats\", \"food\"]]\n",
    "\n",
    "# Training the model\n",
    "model_cbow = Word2Vec(corpus, min_count=1, sg=0)  # using CBOW Architecture for trainnig\n",
    "model_skipgram = Word2Vec(corpus, min_count=1, sg=1)  # using skipGram Architecture for training "
   ],
   "id": "917bf9ad83cd6056",
   "outputs": [],
   "execution_count": 9
  },
  {
   "metadata": {},
   "cell_type": "markdown",
   "source": "## Continuous Bag of Words (CBOW)",
   "id": "a984130ebdb31a27"
  },
  {
   "metadata": {
    "ExecuteTime": {
     "end_time": "2024-09-23T18:50:17.596597Z",
     "start_time": "2024-09-23T18:50:17.585594Z"
    }
   },
   "cell_type": "code",
   "source": [
    "# Summarize the loaded model\n",
    "print(model_cbow)\n",
    "\n",
    "# Summarize vocabulary\n",
    "words = list(model_cbow.wv.key_to_index)\n",
    "print(words)\n",
    "\n",
    "# Acess vector for one word\n",
    "print(model_cbow['dog'])"
   ],
   "id": "944ebac3b7566c26",
   "outputs": [
    {
     "name": "stdout",
     "output_type": "stream",
     "text": [
      "Word2Vec<vocab=6, vector_size=100, alpha=0.025>\n",
      "['man', 'dog', 'eats', 'bites', 'food', 'meat']\n"
     ]
    },
    {
     "ename": "TypeError",
     "evalue": "'Word2Vec' object is not subscriptable",
     "output_type": "error",
     "traceback": [
      "\u001B[0;31m---------------------------------------------------------------------------\u001B[0m",
      "\u001B[0;31mTypeError\u001B[0m                                 Traceback (most recent call last)",
      "Cell \u001B[0;32mIn[10], line 9\u001B[0m\n\u001B[1;32m      6\u001B[0m \u001B[38;5;28mprint\u001B[39m(words)\n\u001B[1;32m      8\u001B[0m \u001B[38;5;66;03m# Acess vector for one word\u001B[39;00m\n\u001B[0;32m----> 9\u001B[0m \u001B[38;5;28mprint\u001B[39m(\u001B[43mmodel_cbow\u001B[49m\u001B[43m[\u001B[49m\u001B[38;5;124;43m'\u001B[39;49m\u001B[38;5;124;43mdog\u001B[39;49m\u001B[38;5;124;43m'\u001B[39;49m\u001B[43m]\u001B[49m)\n",
      "\u001B[0;31mTypeError\u001B[0m: 'Word2Vec' object is not subscriptable"
     ]
    }
   ],
   "execution_count": 10
  },
  {
   "metadata": {
    "ExecuteTime": {
     "end_time": "2024-09-23T18:50:18.211426Z",
     "start_time": "2024-09-23T18:50:18.193093Z"
    }
   },
   "cell_type": "code",
   "source": [
    "# Compute similarity \n",
    "print(\"Similarity between eats and bites:\", model_cbow.similarity('eats', 'bites'))\n",
    "print(\"Similarity between eats and man:\", model_cbow.similarity('eats', 'man'))"
   ],
   "id": "d52255aeb7673182",
   "outputs": [
    {
     "ename": "AttributeError",
     "evalue": "'Word2Vec' object has no attribute 'similarity'",
     "output_type": "error",
     "traceback": [
      "\u001B[0;31m---------------------------------------------------------------------------\u001B[0m",
      "\u001B[0;31mAttributeError\u001B[0m                            Traceback (most recent call last)",
      "Cell \u001B[0;32mIn[11], line 2\u001B[0m\n\u001B[1;32m      1\u001B[0m \u001B[38;5;66;03m# Compute similarity \u001B[39;00m\n\u001B[0;32m----> 2\u001B[0m \u001B[38;5;28mprint\u001B[39m(\u001B[38;5;124m\"\u001B[39m\u001B[38;5;124mSimilarity between eats and bites:\u001B[39m\u001B[38;5;124m\"\u001B[39m, \u001B[43mmodel_cbow\u001B[49m\u001B[38;5;241;43m.\u001B[39;49m\u001B[43msimilarity\u001B[49m(\u001B[38;5;124m'\u001B[39m\u001B[38;5;124meats\u001B[39m\u001B[38;5;124m'\u001B[39m, \u001B[38;5;124m'\u001B[39m\u001B[38;5;124mbites\u001B[39m\u001B[38;5;124m'\u001B[39m))\n\u001B[1;32m      3\u001B[0m \u001B[38;5;28mprint\u001B[39m(\u001B[38;5;124m\"\u001B[39m\u001B[38;5;124mSimilarity between eats and man:\u001B[39m\u001B[38;5;124m\"\u001B[39m, model_cbow\u001B[38;5;241m.\u001B[39msimilarity(\u001B[38;5;124m'\u001B[39m\u001B[38;5;124meats\u001B[39m\u001B[38;5;124m'\u001B[39m, \u001B[38;5;124m'\u001B[39m\u001B[38;5;124mman\u001B[39m\u001B[38;5;124m'\u001B[39m))\n",
      "\u001B[0;31mAttributeError\u001B[0m: 'Word2Vec' object has no attribute 'similarity'"
     ]
    }
   ],
   "execution_count": 11
  },
  {
   "metadata": {
    "ExecuteTime": {
     "end_time": "2024-09-23T18:50:31.505998Z",
     "start_time": "2024-09-23T18:50:31.489410Z"
    }
   },
   "cell_type": "code",
   "source": [
    "# Most similarity\n",
    "model_cbow.most_similar('meat')"
   ],
   "id": "917ad8456f2c9020",
   "outputs": [
    {
     "ename": "AttributeError",
     "evalue": "'Word2Vec' object has no attribute 'most_similar'",
     "output_type": "error",
     "traceback": [
      "\u001B[0;31m---------------------------------------------------------------------------\u001B[0m",
      "\u001B[0;31mAttributeError\u001B[0m                            Traceback (most recent call last)",
      "Cell \u001B[0;32mIn[12], line 2\u001B[0m\n\u001B[1;32m      1\u001B[0m \u001B[38;5;66;03m# Most similarity\u001B[39;00m\n\u001B[0;32m----> 2\u001B[0m \u001B[43mmodel_cbow\u001B[49m\u001B[38;5;241;43m.\u001B[39;49m\u001B[43mmost_similar\u001B[49m(\u001B[38;5;124m'\u001B[39m\u001B[38;5;124mmeat\u001B[39m\u001B[38;5;124m'\u001B[39m)\n",
      "\u001B[0;31mAttributeError\u001B[0m: 'Word2Vec' object has no attribute 'most_similar'"
     ]
    }
   ],
   "execution_count": 12
  },
  {
   "metadata": {},
   "cell_type": "markdown",
   "source": "## SkipGram",
   "id": "506dea5512b91b58"
  },
  {
   "metadata": {
    "ExecuteTime": {
     "end_time": "2024-09-23T18:50:36.369154Z",
     "start_time": "2024-09-23T18:50:36.355353Z"
    }
   },
   "cell_type": "code",
   "source": [
    "# Summarize the loaded model\n",
    "print(model_skipgram)\n",
    "\n",
    "# Summarize vocabulary\n",
    "words = list(model_skipgram.wv.key_to_index)\n",
    "print(words)\n",
    "\n",
    "# Acess vector for one word\n",
    "print(model_skipgram['dog'])"
   ],
   "id": "36a054db9834bc8",
   "outputs": [
    {
     "name": "stdout",
     "output_type": "stream",
     "text": [
      "Word2Vec<vocab=6, vector_size=100, alpha=0.025>\n",
      "['man', 'dog', 'eats', 'bites', 'food', 'meat']\n"
     ]
    },
    {
     "ename": "TypeError",
     "evalue": "'Word2Vec' object is not subscriptable",
     "output_type": "error",
     "traceback": [
      "\u001B[0;31m---------------------------------------------------------------------------\u001B[0m",
      "\u001B[0;31mTypeError\u001B[0m                                 Traceback (most recent call last)",
      "Cell \u001B[0;32mIn[14], line 9\u001B[0m\n\u001B[1;32m      6\u001B[0m \u001B[38;5;28mprint\u001B[39m(words)\n\u001B[1;32m      8\u001B[0m \u001B[38;5;66;03m# Acess vector for one word\u001B[39;00m\n\u001B[0;32m----> 9\u001B[0m \u001B[38;5;28mprint\u001B[39m(\u001B[43mmodel_skipgram\u001B[49m\u001B[43m[\u001B[49m\u001B[38;5;124;43m'\u001B[39;49m\u001B[38;5;124;43mdog\u001B[39;49m\u001B[38;5;124;43m'\u001B[39;49m\u001B[43m]\u001B[49m)\n",
      "\u001B[0;31mTypeError\u001B[0m: 'Word2Vec' object is not subscriptable"
     ]
    }
   ],
   "execution_count": 14
  },
  {
   "metadata": {
    "ExecuteTime": {
     "end_time": "2024-09-23T18:49:47.033535Z",
     "start_time": "2024-09-23T18:49:47.019754Z"
    }
   },
   "cell_type": "code",
   "source": [
    "# Compute similarity \n",
    "print(\"Similarity between eats and bites:\", model_skipgram.similarity('eats', 'bites'))\n",
    "print(\"Similarity between eats and man:\", model_skipgram.similarity('eats', 'man'))"
   ],
   "id": "3e8f57c782a94c7d",
   "outputs": [
    {
     "ename": "AttributeError",
     "evalue": "'Word2Vec' object has no attribute 'similarity'",
     "output_type": "error",
     "traceback": [
      "\u001B[0;31m---------------------------------------------------------------------------\u001B[0m",
      "\u001B[0;31mAttributeError\u001B[0m                            Traceback (most recent call last)",
      "Cell \u001B[0;32mIn[5], line 2\u001B[0m\n\u001B[1;32m      1\u001B[0m \u001B[38;5;66;03m# Compute similarity \u001B[39;00m\n\u001B[0;32m----> 2\u001B[0m \u001B[38;5;28mprint\u001B[39m(\u001B[38;5;124m\"\u001B[39m\u001B[38;5;124mSimilarity between eats and bites:\u001B[39m\u001B[38;5;124m\"\u001B[39m, \u001B[43mmodel_skipgram\u001B[49m\u001B[38;5;241;43m.\u001B[39;49m\u001B[43msimilarity\u001B[49m(\u001B[38;5;124m'\u001B[39m\u001B[38;5;124meats\u001B[39m\u001B[38;5;124m'\u001B[39m, \u001B[38;5;124m'\u001B[39m\u001B[38;5;124mbites\u001B[39m\u001B[38;5;124m'\u001B[39m))\n\u001B[1;32m      3\u001B[0m \u001B[38;5;28mprint\u001B[39m(\u001B[38;5;124m\"\u001B[39m\u001B[38;5;124mSimilarity between eats and man:\u001B[39m\u001B[38;5;124m\"\u001B[39m, model_skipgram\u001B[38;5;241m.\u001B[39msimilarity(\u001B[38;5;124m'\u001B[39m\u001B[38;5;124meats\u001B[39m\u001B[38;5;124m'\u001B[39m, \u001B[38;5;124m'\u001B[39m\u001B[38;5;124mman\u001B[39m\u001B[38;5;124m'\u001B[39m))\n",
      "\u001B[0;31mAttributeError\u001B[0m: 'Word2Vec' object has no attribute 'similarity'"
     ]
    }
   ],
   "execution_count": 5
  },
  {
   "metadata": {
    "ExecuteTime": {
     "end_time": "2024-09-23T18:49:47.768904Z",
     "start_time": "2024-09-23T18:49:47.751368Z"
    }
   },
   "cell_type": "code",
   "source": [
    "# Most similarity\n",
    "model_skipgram.most_similar('meat')"
   ],
   "id": "ee787682985f2470",
   "outputs": [
    {
     "ename": "AttributeError",
     "evalue": "'Word2Vec' object has no attribute 'most_similar'",
     "output_type": "error",
     "traceback": [
      "\u001B[0;31m---------------------------------------------------------------------------\u001B[0m",
      "\u001B[0;31mAttributeError\u001B[0m                            Traceback (most recent call last)",
      "Cell \u001B[0;32mIn[6], line 2\u001B[0m\n\u001B[1;32m      1\u001B[0m \u001B[38;5;66;03m# Most similarity\u001B[39;00m\n\u001B[0;32m----> 2\u001B[0m \u001B[43mmodel_skipgram\u001B[49m\u001B[38;5;241;43m.\u001B[39;49m\u001B[43mmost_similar\u001B[49m(\u001B[38;5;124m'\u001B[39m\u001B[38;5;124mmeat\u001B[39m\u001B[38;5;124m'\u001B[39m)\n",
      "\u001B[0;31mAttributeError\u001B[0m: 'Word2Vec' object has no attribute 'most_similar'"
     ]
    }
   ],
   "execution_count": 6
  },
  {
   "metadata": {},
   "cell_type": "markdown",
   "source": "# Training Your Embedding on Wiki Corpus\n",
   "id": "28aa286533c64efb"
  },
  {
   "metadata": {},
   "cell_type": "code",
   "outputs": [],
   "execution_count": null,
   "source": "",
   "id": "8c9f4ed171778b5b"
  }
 ],
 "metadata": {
  "kernelspec": {
   "display_name": "Python 3",
   "language": "python",
   "name": "python3"
  },
  "language_info": {
   "codemirror_mode": {
    "name": "ipython",
    "version": 2
   },
   "file_extension": ".py",
   "mimetype": "text/x-python",
   "name": "python",
   "nbconvert_exporter": "python",
   "pygments_lexer": "ipython2",
   "version": "2.7.6"
  }
 },
 "nbformat": 4,
 "nbformat_minor": 5
}
