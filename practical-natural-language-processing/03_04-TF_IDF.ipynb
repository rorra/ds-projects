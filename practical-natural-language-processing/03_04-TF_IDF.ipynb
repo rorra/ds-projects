{
 "cells": [
  {
   "metadata": {},
   "cell_type": "markdown",
   "source": "# TF-IDF",
   "id": "dc7882e7e91cde06"
  },
  {
   "metadata": {
    "ExecuteTime": {
     "end_time": "2024-09-23T14:30:00.166686Z",
     "start_time": "2024-09-23T14:30:00.159165Z"
    }
   },
   "cell_type": "code",
   "source": [
    "documents = [\"Dog bites man.\", \"Man bites dog.\", \"Dog eats meat.\", \"Man eats food.\"]\n",
    "processed_docs = [doc.lower().replace(\".\", \"\") for doc in documents]\n",
    "processed_docs"
   ],
   "id": "fc9eb4f841f3da15",
   "outputs": [
    {
     "data": {
      "text/plain": [
       "['dog bites man', 'man bites dog', 'dog eats meat', 'man eats food']"
      ]
     },
     "execution_count": 1,
     "metadata": {},
     "output_type": "execute_result"
    }
   ],
   "execution_count": 1
  },
  {
   "metadata": {
    "ExecuteTime": {
     "end_time": "2024-09-23T14:30:01.360829Z",
     "start_time": "2024-09-23T14:30:00.224597Z"
    }
   },
   "cell_type": "code",
   "source": [
    "from sklearn.feature_extraction.text import TfidfVectorizer\n",
    "\n",
    "tfidf = TfidfVectorizer()\n",
    "bow_rep_tfidf = tfidf.fit_transform(processed_docs)\n",
    "\n",
    "# IDF for all words in the vocabulary\n",
    "print(\"IDF for all words in the vocabulary\", tfidf.idf_)\n",
    "print(\"-\" * 10)\n",
    "#All words in the vocabulary.\n",
    "print(\"All words in the vocabulary\", tfidf.get_feature_names_out())\n",
    "print(\"-\" * 10)\n",
    "\n",
    "# TF-IDF representation for all documents in our corpus \n",
    "print(\"TFIDF representation for all documents in our corpus\\n\", bow_rep_tfidf.toarray())\n",
    "print(\"-\" * 10)\n",
    "\n",
    "temp = tfidf.transform([\"dog and man are friends\"])\n",
    "print(\"Tfidf representation for 'dog and man are friends':\\n\", temp.toarray())"
   ],
   "id": "202bbc9481788172",
   "outputs": [
    {
     "name": "stdout",
     "output_type": "stream",
     "text": [
      "IDF for all words in the vocabulary [1.51082562 1.22314355 1.51082562 1.91629073 1.22314355 1.91629073]\n",
      "----------\n",
      "All words in the vocabulary ['bites' 'dog' 'eats' 'food' 'man' 'meat']\n",
      "----------\n",
      "TFIDF representation for all documents in our corpus\n",
      " [[0.65782931 0.53256952 0.         0.         0.53256952 0.        ]\n",
      " [0.65782931 0.53256952 0.         0.         0.53256952 0.        ]\n",
      " [0.         0.44809973 0.55349232 0.         0.         0.70203482]\n",
      " [0.         0.         0.55349232 0.70203482 0.44809973 0.        ]]\n",
      "----------\n",
      "Tfidf representation for 'dog and man are friends':\n",
      " [[0.         0.70710678 0.         0.         0.70710678 0.        ]]\n"
     ]
    }
   ],
   "execution_count": 2
  },
  {
   "metadata": {
    "ExecuteTime": {
     "end_time": "2024-09-23T14:30:01.494368Z",
     "start_time": "2024-09-23T14:30:01.492700Z"
    }
   },
   "cell_type": "code",
   "source": "",
   "id": "5236d3c7e45e7c0d",
   "outputs": [],
   "execution_count": null
  }
 ],
 "metadata": {
  "kernelspec": {
   "display_name": "Python 3",
   "language": "python",
   "name": "python3"
  },
  "language_info": {
   "codemirror_mode": {
    "name": "ipython",
    "version": 2
   },
   "file_extension": ".py",
   "mimetype": "text/x-python",
   "name": "python",
   "nbconvert_exporter": "python",
   "pygments_lexer": "ipython2",
   "version": "2.7.6"
  }
 },
 "nbformat": 4,
 "nbformat_minor": 5
}
